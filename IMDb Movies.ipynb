{
 "cells": [
  {
   "cell_type": "code",
   "execution_count": 17,
   "id": "7c2cadd6",
   "metadata": {
    "ExecuteTime": {
     "end_time": "2021-10-13T23:30:42.508284Z",
     "start_time": "2021-10-13T23:30:42.464196Z"
    }
   },
   "outputs": [],
   "source": [
    "import requests\n",
    "from bs4 import BeautifulSoup\n",
    "from rich import print\n",
    "import pandas as pd\n",
    "from rich.progress import track"
   ]
  },
  {
   "cell_type": "markdown",
   "id": "6c0b48aa",
   "metadata": {},
   "source": [
    "## Top 250 Movies"
   ]
  },
  {
   "cell_type": "code",
   "execution_count": 2,
   "id": "5ca77098",
   "metadata": {
    "ExecuteTime": {
     "end_time": "2021-10-13T23:20:45.960110Z",
     "start_time": "2021-10-13T23:20:45.958568Z"
    }
   },
   "outputs": [],
   "source": [
    "URL = 'https://www.imdb.com'"
   ]
  },
  {
   "cell_type": "code",
   "execution_count": 3,
   "id": "0f0edfcf",
   "metadata": {
    "ExecuteTime": {
     "end_time": "2021-10-13T23:20:45.963441Z",
     "start_time": "2021-10-13T23:20:45.961225Z"
    }
   },
   "outputs": [],
   "source": [
    "def request_url(url:str)->BeautifulSoup:\n",
    "    \"\"\"\n",
    "    Takes website URL and return soup object\n",
    "    \"\"\"\n",
    "    headers = {'User-Agent':'Mozilla/5.0 (Macintosh; Intel Mac OS X 10_11_2) AppleWebKit/601.3.9 (KHTML, like Gecko) Version/9.0.2 Safari/601.3.9'}\n",
    "    response = requests.get(url, headers=headers)\n",
    "    soup = BeautifulSoup(response.content, \"html5lib\")\n",
    "    return soup"
   ]
  },
  {
   "cell_type": "code",
   "execution_count": 4,
   "id": "85b99696",
   "metadata": {
    "ExecuteTime": {
     "end_time": "2021-10-13T23:20:48.318802Z",
     "start_time": "2021-10-13T23:20:45.964232Z"
    }
   },
   "outputs": [],
   "source": [
    "# Find the top 250 movie's link\n",
    "top_250_page = request_url(URL+'/chart/top/')\n",
    "movies_url = list()\n",
    "table = top_250_page.find('tbody', class_='lister-list')\n",
    "for i in table.find_all('td', class_='titleColumn'):\n",
    "    movies_url.append(URL+i.find('a')['href'])"
   ]
  },
  {
   "cell_type": "code",
   "execution_count": 5,
   "id": "4365f459",
   "metadata": {
    "ExecuteTime": {
     "end_time": "2021-10-13T23:20:56.518468Z",
     "start_time": "2021-10-13T23:20:48.319760Z"
    }
   },
   "outputs": [],
   "source": [
    "movie_page = request_url(movies_url[0])"
   ]
  },
  {
   "cell_type": "code",
   "execution_count": 6,
   "id": "57c07570",
   "metadata": {
    "ExecuteTime": {
     "end_time": "2021-10-13T23:20:56.521160Z",
     "start_time": "2021-10-13T23:20:56.519344Z"
    }
   },
   "outputs": [],
   "source": [
    "def catch(func, handle):\n",
    "    try:\n",
    "        return func()\n",
    "    except Exception as e:\n",
    "        return handle()"
   ]
  },
  {
   "cell_type": "code",
   "execution_count": 31,
   "id": "dfe4518f",
   "metadata": {
    "ExecuteTime": {
     "end_time": "2021-10-14T01:06:32.623276Z",
     "start_time": "2021-10-14T00:31:22.863278Z"
    }
   },
   "outputs": [
    {
     "data": {
      "application/vnd.jupyter.widget-view+json": {
       "model_id": "f1ddc4ffa4f842a29d6d74189487c04c",
       "version_major": 2,
       "version_minor": 0
      },
      "text/plain": [
       "Output()"
      ]
     },
     "metadata": {},
     "output_type": "display_data"
    },
    {
     "data": {
      "text/html": [
       "<pre style=\"white-space:pre;overflow-x:auto;line-height:normal;font-family:Menlo,'DejaVu Sans Mono',consolas,'Courier New',monospace\"><span style=\"color: #008080; text-decoration-color: #008080; font-weight: bold\">0</span> The Shawshank Redemption\n",
       "</pre>\n"
      ],
      "text/plain": [
       "\u001b[1;36m0\u001b[0m The Shawshank Redemption\n"
      ]
     },
     "metadata": {},
     "output_type": "display_data"
    },
    {
     "data": {
      "text/html": [
       "<pre style=\"white-space:pre;overflow-x:auto;line-height:normal;font-family:Menlo,'DejaVu Sans Mono',consolas,'Courier New',monospace\"><span style=\"color: #008080; text-decoration-color: #008080; font-weight: bold\">1</span> The Godfather\n",
       "</pre>\n"
      ],
      "text/plain": [
       "\u001b[1;36m1\u001b[0m The Godfather\n"
      ]
     },
     "metadata": {},
     "output_type": "display_data"
    },
    {
     "data": {
      "text/html": [
       "<pre style=\"white-space:pre;overflow-x:auto;line-height:normal;font-family:Menlo,'DejaVu Sans Mono',consolas,'Courier New',monospace\"><span style=\"color: #008080; text-decoration-color: #008080; font-weight: bold\">3</span> The Dark Knight\n",
       "</pre>\n"
      ],
      "text/plain": [
       "\u001b[1;36m3\u001b[0m The Dark Knight\n"
      ]
     },
     "metadata": {},
     "output_type": "display_data"
    },
    {
     "data": {
      "text/html": [
       "<pre style=\"white-space:pre;overflow-x:auto;line-height:normal;font-family:Menlo,'DejaVu Sans Mono',consolas,'Courier New',monospace\"><span style=\"color: #008080; text-decoration-color: #008080; font-weight: bold\">9</span> The Lord of the Rings: The Fellowship of the Ring\n",
       "</pre>\n"
      ],
      "text/plain": [
       "\u001b[1;36m9\u001b[0m The Lord of the Rings: The Fellowship of the Ring\n"
      ]
     },
     "metadata": {},
     "output_type": "display_data"
    },
    {
     "data": {
      "text/html": [
       "<pre style=\"white-space:pre;overflow-x:auto;line-height:normal;font-family:Menlo,'DejaVu Sans Mono',consolas,'Courier New',monospace\"><span style=\"color: #008080; text-decoration-color: #008080; font-weight: bold\">11</span> Forrest Gump\n",
       "</pre>\n"
      ],
      "text/plain": [
       "\u001b[1;36m11\u001b[0m Forrest Gump\n"
      ]
     },
     "metadata": {},
     "output_type": "display_data"
    },
    {
     "data": {
      "text/html": [
       "<pre style=\"white-space:pre;overflow-x:auto;line-height:normal;font-family:Menlo,'DejaVu Sans Mono',consolas,'Courier New',monospace\"><span style=\"color: #008080; text-decoration-color: #008080; font-weight: bold\">12</span> Inception\n",
       "</pre>\n"
      ],
      "text/plain": [
       "\u001b[1;36m12\u001b[0m Inception\n"
      ]
     },
     "metadata": {},
     "output_type": "display_data"
    },
    {
     "data": {
      "text/html": [
       "<pre style=\"white-space:pre;overflow-x:auto;line-height:normal;font-family:Menlo,'DejaVu Sans Mono',consolas,'Courier New',monospace\"><span style=\"color: #008080; text-decoration-color: #008080; font-weight: bold\">14</span> Star Wars: Episode V - The Empire Strikes Back\n",
       "</pre>\n"
      ],
      "text/plain": [
       "\u001b[1;36m14\u001b[0m Star Wars: Episode V - The Empire Strikes Back\n"
      ]
     },
     "metadata": {},
     "output_type": "display_data"
    },
    {
     "data": {
      "text/html": [
       "<pre style=\"white-space:pre;overflow-x:auto;line-height:normal;font-family:Menlo,'DejaVu Sans Mono',consolas,'Courier New',monospace\"><span style=\"color: #008080; text-decoration-color: #008080; font-weight: bold\">15</span> The Matrix\n",
       "</pre>\n"
      ],
      "text/plain": [
       "\u001b[1;36m15\u001b[0m The Matrix\n"
      ]
     },
     "metadata": {},
     "output_type": "display_data"
    },
    {
     "data": {
      "text/html": [
       "<pre style=\"white-space:pre;overflow-x:auto;line-height:normal;font-family:Menlo,'DejaVu Sans Mono',consolas,'Courier New',monospace\"><span style=\"color: #008080; text-decoration-color: #008080; font-weight: bold\">17</span> One Flew Over the Cuckoo's Nest\n",
       "</pre>\n"
      ],
      "text/plain": [
       "\u001b[1;36m17\u001b[0m One Flew Over the Cuckoo's Nest\n"
      ]
     },
     "metadata": {},
     "output_type": "display_data"
    },
    {
     "data": {
      "text/html": [
       "<pre style=\"white-space:pre;overflow-x:auto;line-height:normal;font-family:Menlo,'DejaVu Sans Mono',consolas,'Courier New',monospace\"><span style=\"color: #008080; text-decoration-color: #008080; font-weight: bold\">18</span> Shichinin no samurai\n",
       "</pre>\n"
      ],
      "text/plain": [
       "\u001b[1;36m18\u001b[0m Shichinin no samurai\n"
      ]
     },
     "metadata": {},
     "output_type": "display_data"
    },
    {
     "data": {
      "text/html": [
       "<pre style=\"white-space:pre;overflow-x:auto;line-height:normal;font-family:Menlo,'DejaVu Sans Mono',consolas,'Courier New',monospace\"><span style=\"color: #008080; text-decoration-color: #008080; font-weight: bold\">19</span> Se7en\n",
       "</pre>\n"
      ],
      "text/plain": [
       "\u001b[1;36m19\u001b[0m Se7en\n"
      ]
     },
     "metadata": {},
     "output_type": "display_data"
    },
    {
     "data": {
      "text/html": [
       "<pre style=\"white-space:pre;overflow-x:auto;line-height:normal;font-family:Menlo,'DejaVu Sans Mono',consolas,'Courier New',monospace\"><span style=\"color: #008080; text-decoration-color: #008080; font-weight: bold\">20</span> The Silence of the Lambs\n",
       "</pre>\n"
      ],
      "text/plain": [
       "\u001b[1;36m20\u001b[0m The Silence of the Lambs\n"
      ]
     },
     "metadata": {},
     "output_type": "display_data"
    },
    {
     "data": {
      "text/html": [
       "<pre style=\"white-space:pre;overflow-x:auto;line-height:normal;font-family:Menlo,'DejaVu Sans Mono',consolas,'Courier New',monospace\"><span style=\"color: #008080; text-decoration-color: #008080; font-weight: bold\">21</span> Cidade de Deus\n",
       "</pre>\n"
      ],
      "text/plain": [
       "\u001b[1;36m21\u001b[0m Cidade de Deus\n"
      ]
     },
     "metadata": {},
     "output_type": "display_data"
    },
    {
     "data": {
      "text/html": [
       "<pre style=\"white-space:pre;overflow-x:auto;line-height:normal;font-family:Menlo,'DejaVu Sans Mono',consolas,'Courier New',monospace\"><span style=\"color: #008080; text-decoration-color: #008080; font-weight: bold\">23</span> It's a Wonderful Life\n",
       "</pre>\n"
      ],
      "text/plain": [
       "\u001b[1;36m23\u001b[0m It's a Wonderful Life\n"
      ]
     },
     "metadata": {},
     "output_type": "display_data"
    },
    {
     "data": {
      "text/html": [
       "<pre style=\"white-space:pre;overflow-x:auto;line-height:normal;font-family:Menlo,'DejaVu Sans Mono',consolas,'Courier New',monospace\"><span style=\"color: #008080; text-decoration-color: #008080; font-weight: bold\">24</span> Star Wars\n",
       "</pre>\n"
      ],
      "text/plain": [
       "\u001b[1;36m24\u001b[0m Star Wars\n"
      ]
     },
     "metadata": {},
     "output_type": "display_data"
    },
    {
     "data": {
      "text/html": [
       "<pre style=\"white-space:pre;overflow-x:auto;line-height:normal;font-family:Menlo,'DejaVu Sans Mono',consolas,'Courier New',monospace\"><span style=\"color: #008080; text-decoration-color: #008080; font-weight: bold\">28</span> The Green Mile\n",
       "</pre>\n"
      ],
      "text/plain": [
       "\u001b[1;36m28\u001b[0m The Green Mile\n"
      ]
     },
     "metadata": {},
     "output_type": "display_data"
    },
    {
     "data": {
      "text/html": [
       "<pre style=\"white-space:pre;overflow-x:auto;line-height:normal;font-family:Menlo,'DejaVu Sans Mono',consolas,'Courier New',monospace\"><span style=\"color: #008080; text-decoration-color: #008080; font-weight: bold\">29</span> Gisaengchung\n",
       "</pre>\n"
      ],
      "text/plain": [
       "\u001b[1;36m29\u001b[0m Gisaengchung\n"
      ]
     },
     "metadata": {},
     "output_type": "display_data"
    },
    {
     "data": {
      "text/html": [
       "<pre style=\"white-space:pre;overflow-x:auto;line-height:normal;font-family:Menlo,'DejaVu Sans Mono',consolas,'Courier New',monospace\"><span style=\"color: #008080; text-decoration-color: #008080; font-weight: bold\">30</span> Léon\n",
       "</pre>\n"
      ],
      "text/plain": [
       "\u001b[1;36m30\u001b[0m Léon\n"
      ]
     },
     "metadata": {},
     "output_type": "display_data"
    },
    {
     "data": {
      "text/html": [
       "<pre style=\"white-space:pre;overflow-x:auto;line-height:normal;font-family:Menlo,'DejaVu Sans Mono',consolas,'Courier New',monospace\"><span style=\"color: #008080; text-decoration-color: #008080; font-weight: bold\">32</span> The Pianist\n",
       "</pre>\n"
      ],
      "text/plain": [
       "\u001b[1;36m32\u001b[0m The Pianist\n"
      ]
     },
     "metadata": {},
     "output_type": "display_data"
    },
    {
     "data": {
      "text/html": [
       "<pre style=\"white-space:pre;overflow-x:auto;line-height:normal;font-family:Menlo,'DejaVu Sans Mono',consolas,'Courier New',monospace\"><span style=\"color: #008080; text-decoration-color: #008080; font-weight: bold\">33</span> The Usual Suspects\n",
       "</pre>\n"
      ],
      "text/plain": [
       "\u001b[1;36m33\u001b[0m The Usual Suspects\n"
      ]
     },
     "metadata": {},
     "output_type": "display_data"
    },
    {
     "data": {
      "text/html": [
       "<pre style=\"white-space:pre;overflow-x:auto;line-height:normal;font-family:Menlo,'DejaVu Sans Mono',consolas,'Courier New',monospace\"><span style=\"color: #008080; text-decoration-color: #008080; font-weight: bold\">36</span> Psycho\n",
       "</pre>\n"
      ],
      "text/plain": [
       "\u001b[1;36m36\u001b[0m Psycho\n"
      ]
     },
     "metadata": {},
     "output_type": "display_data"
    },
    {
     "data": {
      "text/html": [
       "<pre style=\"white-space:pre;overflow-x:auto;line-height:normal;font-family:Menlo,'DejaVu Sans Mono',consolas,'Courier New',monospace\"><span style=\"color: #008080; text-decoration-color: #008080; font-weight: bold\">37</span> The Lion King\n",
       "</pre>\n"
      ],
      "text/plain": [
       "\u001b[1;36m37\u001b[0m The Lion King\n"
      ]
     },
     "metadata": {},
     "output_type": "display_data"
    },
    {
     "data": {
      "text/html": [
       "<pre style=\"white-space:pre;overflow-x:auto;line-height:normal;font-family:Menlo,'DejaVu Sans Mono',consolas,'Courier New',monospace\"><span style=\"color: #008080; text-decoration-color: #008080; font-weight: bold\">39</span> American History X\n",
       "</pre>\n"
      ],
      "text/plain": [
       "\u001b[1;36m39\u001b[0m American History X\n"
      ]
     },
     "metadata": {},
     "output_type": "display_data"
    },
    {
     "data": {
      "text/html": [
       "<pre style=\"white-space:pre;overflow-x:auto;line-height:normal;font-family:Menlo,'DejaVu Sans Mono',consolas,'Courier New',monospace\"><span style=\"color: #008080; text-decoration-color: #008080; font-weight: bold\">43</span> Gladiator\n",
       "</pre>\n"
      ],
      "text/plain": [
       "\u001b[1;36m43\u001b[0m Gladiator\n"
      ]
     },
     "metadata": {},
     "output_type": "display_data"
    },
    {
     "data": {
      "text/html": [
       "<pre style=\"white-space:pre;overflow-x:auto;line-height:normal;font-family:Menlo,'DejaVu Sans Mono',consolas,'Courier New',monospace\"><span style=\"color: #008080; text-decoration-color: #008080; font-weight: bold\">45</span> Intouchables\n",
       "</pre>\n"
      ],
      "text/plain": [
       "\u001b[1;36m45\u001b[0m Intouchables\n"
      ]
     },
     "metadata": {},
     "output_type": "display_data"
    },
    {
     "data": {
      "text/html": [
       "<pre style=\"white-space:pre;overflow-x:auto;line-height:normal;font-family:Menlo,'DejaVu Sans Mono',consolas,'Courier New',monospace\"><span style=\"color: #008080; text-decoration-color: #008080; font-weight: bold\">46</span> The Prestige\n",
       "</pre>\n"
      ],
      "text/plain": [
       "\u001b[1;36m46\u001b[0m The Prestige\n"
      ]
     },
     "metadata": {},
     "output_type": "display_data"
    },
    {
     "data": {
      "text/html": [
       "<pre style=\"white-space:pre;overflow-x:auto;line-height:normal;font-family:Menlo,'DejaVu Sans Mono',consolas,'Courier New',monospace\"><span style=\"color: #008080; text-decoration-color: #008080; font-weight: bold\">48</span> C'era una volta il West\n",
       "</pre>\n"
      ],
      "text/plain": [
       "\u001b[1;36m48\u001b[0m C'era una volta il West\n"
      ]
     },
     "metadata": {},
     "output_type": "display_data"
    },
    {
     "data": {
      "text/html": [
       "<pre style=\"white-space:pre;overflow-x:auto;line-height:normal;font-family:Menlo,'DejaVu Sans Mono',consolas,'Courier New',monospace\"><span style=\"color: #008080; text-decoration-color: #008080; font-weight: bold\">52</span> Apocalypse Now\n",
       "</pre>\n"
      ],
      "text/plain": [
       "\u001b[1;36m52\u001b[0m Apocalypse Now\n"
      ]
     },
     "metadata": {},
     "output_type": "display_data"
    },
    {
     "data": {
      "text/html": [
       "<pre style=\"white-space:pre;overflow-x:auto;line-height:normal;font-family:Menlo,'DejaVu Sans Mono',consolas,'Courier New',monospace\"><span style=\"color: #008080; text-decoration-color: #008080; font-weight: bold\">53</span> Memento\n",
       "</pre>\n"
      ],
      "text/plain": [
       "\u001b[1;36m53\u001b[0m Memento\n"
      ]
     },
     "metadata": {},
     "output_type": "display_data"
    },
    {
     "data": {
      "text/html": [
       "<pre style=\"white-space:pre;overflow-x:auto;line-height:normal;font-family:Menlo,'DejaVu Sans Mono',consolas,'Courier New',monospace\"><span style=\"color: #008080; text-decoration-color: #008080; font-weight: bold\">55</span> The Great Dictator\n",
       "</pre>\n"
      ],
      "text/plain": [
       "\u001b[1;36m55\u001b[0m The Great Dictator\n"
      ]
     },
     "metadata": {},
     "output_type": "display_data"
    },
    {
     "data": {
      "text/html": [
       "<pre style=\"white-space:pre;overflow-x:auto;line-height:normal;font-family:Menlo,'DejaVu Sans Mono',consolas,'Courier New',monospace\"><span style=\"color: #008080; text-decoration-color: #008080; font-weight: bold\">57</span> Django Unchained\n",
       "</pre>\n"
      ],
      "text/plain": [
       "\u001b[1;36m57\u001b[0m Django Unchained\n"
      ]
     },
     "metadata": {},
     "output_type": "display_data"
    },
    {
     "data": {
      "text/html": [
       "<pre style=\"white-space:pre;overflow-x:auto;line-height:normal;font-family:Menlo,'DejaVu Sans Mono',consolas,'Courier New',monospace\"><span style=\"color: #008080; text-decoration-color: #008080; font-weight: bold\">58</span> Paths of Glory\n",
       "</pre>\n"
      ],
      "text/plain": [
       "\u001b[1;36m58\u001b[0m Paths of Glory\n"
      ]
     },
     "metadata": {},
     "output_type": "display_data"
    },
    {
     "data": {
      "text/html": [
       "<pre style=\"white-space:pre;overflow-x:auto;line-height:normal;font-family:Menlo,'DejaVu Sans Mono',consolas,'Courier New',monospace\"><span style=\"color: #008080; text-decoration-color: #008080; font-weight: bold\">59</span> Sunset Blvd.\n",
       "</pre>\n"
      ],
      "text/plain": [
       "\u001b[1;36m59\u001b[0m Sunset Blvd.\n"
      ]
     },
     "metadata": {},
     "output_type": "display_data"
    },
    {
     "data": {
      "text/html": [
       "<pre style=\"white-space:pre;overflow-x:auto;line-height:normal;font-family:Menlo,'DejaVu Sans Mono',consolas,'Courier New',monospace\"><span style=\"color: #008080; text-decoration-color: #008080; font-weight: bold\">60</span> WALL·E\n",
       "</pre>\n"
      ],
      "text/plain": [
       "\u001b[1;36m60\u001b[0m WALL·E\n"
      ]
     },
     "metadata": {},
     "output_type": "display_data"
    },
    {
     "data": {
      "text/html": [
       "<pre style=\"white-space:pre;overflow-x:auto;line-height:normal;font-family:Menlo,'DejaVu Sans Mono',consolas,'Courier New',monospace\"><span style=\"color: #008080; text-decoration-color: #008080; font-weight: bold\">65</span> Dr. Strangelove or: How I Learned to Stop Worrying and Love the Bomb\n",
       "</pre>\n"
      ],
      "text/plain": [
       "\u001b[1;36m65\u001b[0m Dr. Strangelove or: How I Learned to Stop Worrying and Love the Bomb\n"
      ]
     },
     "metadata": {},
     "output_type": "display_data"
    },
    {
     "data": {
      "text/html": [
       "<pre style=\"white-space:pre;overflow-x:auto;line-height:normal;font-family:Menlo,'DejaVu Sans Mono',consolas,'Courier New',monospace\"><span style=\"color: #008080; text-decoration-color: #008080; font-weight: bold\">70</span> The Dark Knight Rises\n",
       "</pre>\n"
      ],
      "text/plain": [
       "\u001b[1;36m70\u001b[0m The Dark Knight Rises\n"
      ]
     },
     "metadata": {},
     "output_type": "display_data"
    },
    {
     "data": {
      "text/html": [
       "<pre style=\"white-space:pre;overflow-x:auto;line-height:normal;font-family:Menlo,'DejaVu Sans Mono',consolas,'Courier New',monospace\"><span style=\"color: #008080; text-decoration-color: #008080; font-weight: bold\">71</span> Once Upon a Time in America\n",
       "</pre>\n"
      ],
      "text/plain": [
       "\u001b[1;36m71\u001b[0m Once Upon a Time in America\n"
      ]
     },
     "metadata": {},
     "output_type": "display_data"
    },
    {
     "data": {
      "text/html": [
       "<pre style=\"white-space:pre;overflow-x:auto;line-height:normal;font-family:Menlo,'DejaVu Sans Mono',consolas,'Courier New',monospace\"><span style=\"color: #008080; text-decoration-color: #008080; font-weight: bold\">73</span> Coco\n",
       "</pre>\n"
      ],
      "text/plain": [
       "\u001b[1;36m73\u001b[0m Coco\n"
      ]
     },
     "metadata": {},
     "output_type": "display_data"
    },
    {
     "data": {
      "text/html": [
       "<pre style=\"white-space:pre;overflow-x:auto;line-height:normal;font-family:Menlo,'DejaVu Sans Mono',consolas,'Courier New',monospace\"><span style=\"color: #008080; text-decoration-color: #008080; font-weight: bold\">74</span> Capharnaüm\n",
       "</pre>\n"
      ],
      "text/plain": [
       "\u001b[1;36m74\u001b[0m Capharnaüm\n"
      ]
     },
     "metadata": {},
     "output_type": "display_data"
    },
    {
     "data": {
      "text/html": [
       "<pre style=\"white-space:pre;overflow-x:auto;line-height:normal;font-family:Menlo,'DejaVu Sans Mono',consolas,'Courier New',monospace\"><span style=\"color: #008080; text-decoration-color: #008080; font-weight: bold\">75</span> Avengers: Endgame\n",
       "</pre>\n"
      ],
      "text/plain": [
       "\u001b[1;36m75\u001b[0m Avengers: Endgame\n"
      ]
     },
     "metadata": {},
     "output_type": "display_data"
    },
    {
     "data": {
      "text/html": [
       "<pre style=\"white-space:pre;overflow-x:auto;line-height:normal;font-family:Menlo,'DejaVu Sans Mono',consolas,'Courier New',monospace\"><span style=\"color: #008080; text-decoration-color: #008080; font-weight: bold\">76</span> Das Boot\n",
       "</pre>\n"
      ],
      "text/plain": [
       "\u001b[1;36m76\u001b[0m Das Boot\n"
      ]
     },
     "metadata": {},
     "output_type": "display_data"
    },
    {
     "data": {
      "text/html": [
       "<pre style=\"white-space:pre;overflow-x:auto;line-height:normal;font-family:Menlo,'DejaVu Sans Mono',consolas,'Courier New',monospace\"><span style=\"color: #008080; text-decoration-color: #008080; font-weight: bold\">76</span> Length mismatch: Expected axis has <span style=\"color: #008080; text-decoration-color: #008080; font-weight: bold\">3</span> elements, new values have <span style=\"color: #008080; text-decoration-color: #008080; font-weight: bold\">4</span> elements <span style=\"color: #0000ff; text-decoration-color: #0000ff; text-decoration: underline\">https://www.imdb</span>\n",
       "<span style=\"color: #0000ff; text-decoration-color: #0000ff; text-decoration: underline\">.com/title/tt0082096/?pf_rd_m=A2FGELUUNOQJNL&amp;pf_rd_p=e31d89dd-322d-4646-8962-327b42fe94b1&amp;pf_</span>\n",
       "<span style=\"color: #0000ff; text-decoration-color: #0000ff; text-decoration: underline\">rd_r=PXWSEV7QFNG4AWVFZZGP&amp;pf_rd_s=center-1&amp;pf_rd_t=15506&amp;pf_rd_i=top&amp;ref_=chttp_tt_77</span>\n",
       "</pre>\n"
      ],
      "text/plain": [
       "\u001b[1;36m76\u001b[0m Length mismatch: Expected axis has \u001b[1;36m3\u001b[0m elements, new values have \u001b[1;36m4\u001b[0m elements \u001b[4;94mhttps://www.imdb\u001b[0m\n",
       "\u001b[4;94m.com/title/tt0082096/?\u001b[0m\u001b[4;94mpf_rd_m\u001b[0m\u001b[4;94m=\u001b[0m\u001b[4;94mA2FGELUUNOQJNL\u001b[0m\u001b[4;94m&\u001b[0m\u001b[4;94mpf_rd_p\u001b[0m\u001b[4;94m=\u001b[0m\u001b[4;94me31d89dd\u001b[0m\u001b[4;94m-322d-4646-8962-327b42fe94b1&\u001b[0m\u001b[4;94mpf_\u001b[0m\n",
       "\u001b[4;94mrd_r\u001b[0m\u001b[4;94m=\u001b[0m\u001b[4;94mPXWSEV7QFNG4AWVFZZGP\u001b[0m\u001b[4;94m&\u001b[0m\u001b[4;94mpf_rd_s\u001b[0m\u001b[4;94m=\u001b[0m\u001b[4;94mcenter\u001b[0m\u001b[4;94m-1&\u001b[0m\u001b[4;94mpf_rd_t\u001b[0m\u001b[4;94m=\u001b[0m\u001b[4;94m15506\u001b[0m\u001b[4;94m&\u001b[0m\u001b[4;94mpf_rd_i\u001b[0m\u001b[4;94m=\u001b[0m\u001b[4;94mtop\u001b[0m\u001b[4;94m&\u001b[0m\u001b[4;94mref_\u001b[0m\u001b[4;94m=\u001b[0m\u001b[4;94mchttp_tt_77\u001b[0m\n"
      ]
     },
     "metadata": {},
     "output_type": "display_data"
    },
    {
     "data": {
      "text/html": [
       "<pre style=\"white-space:pre;overflow-x:auto;line-height:normal;font-family:Menlo,'DejaVu Sans Mono',consolas,'Courier New',monospace\"><span style=\"color: #008080; text-decoration-color: #008080; font-weight: bold\">77</span> Tengoku to jigoku\n",
       "</pre>\n"
      ],
      "text/plain": [
       "\u001b[1;36m77\u001b[0m Tengoku to jigoku\n"
      ]
     },
     "metadata": {},
     "output_type": "display_data"
    },
    {
     "data": {
      "text/html": [
       "<pre style=\"white-space:pre;overflow-x:auto;line-height:normal;font-family:Menlo,'DejaVu Sans Mono',consolas,'Courier New',monospace\"><span style=\"color: #008080; text-decoration-color: #008080; font-weight: bold\">79</span> American Beauty\n",
       "</pre>\n"
      ],
      "text/plain": [
       "\u001b[1;36m79\u001b[0m American Beauty\n"
      ]
     },
     "metadata": {},
     "output_type": "display_data"
    },
    {
     "data": {
      "text/html": [
       "<pre style=\"white-space:pre;overflow-x:auto;line-height:normal;font-family:Menlo,'DejaVu Sans Mono',consolas,'Courier New',monospace\"><span style=\"color: #008080; text-decoration-color: #008080; font-weight: bold\">80</span> Toy Story\n",
       "</pre>\n"
      ],
      "text/plain": [
       "\u001b[1;36m80\u001b[0m Toy Story\n"
      ]
     },
     "metadata": {},
     "output_type": "display_data"
    },
    {
     "data": {
      "text/html": [
       "<pre style=\"white-space:pre;overflow-x:auto;line-height:normal;font-family:Menlo,'DejaVu Sans Mono',consolas,'Courier New',monospace\"><span style=\"color: #008080; text-decoration-color: #008080; font-weight: bold\">81</span> <span style=\"color: #008080; text-decoration-color: #008080; font-weight: bold\">3</span> Idiots\n",
       "</pre>\n"
      ],
      "text/plain": [
       "\u001b[1;36m81\u001b[0m \u001b[1;36m3\u001b[0m Idiots\n"
      ]
     },
     "metadata": {},
     "output_type": "display_data"
    },
    {
     "data": {
      "text/html": [
       "<pre style=\"white-space:pre;overflow-x:auto;line-height:normal;font-family:Menlo,'DejaVu Sans Mono',consolas,'Courier New',monospace\"><span style=\"color: #008080; text-decoration-color: #008080; font-weight: bold\">82</span> Amadeus\n",
       "</pre>\n"
      ],
      "text/plain": [
       "\u001b[1;36m82\u001b[0m Amadeus\n"
      ]
     },
     "metadata": {},
     "output_type": "display_data"
    },
    {
     "data": {
      "text/html": [
       "<pre style=\"white-space:pre;overflow-x:auto;line-height:normal;font-family:Menlo,'DejaVu Sans Mono',consolas,'Courier New',monospace\"><span style=\"color: #008080; text-decoration-color: #008080; font-weight: bold\">84</span> Inglourious Basterds\n",
       "</pre>\n"
      ],
      "text/plain": [
       "\u001b[1;36m84\u001b[0m Inglourious Basterds\n"
      ]
     },
     "metadata": {},
     "output_type": "display_data"
    },
    {
     "data": {
      "text/html": [
       "<pre style=\"white-space:pre;overflow-x:auto;line-height:normal;font-family:Menlo,'DejaVu Sans Mono',consolas,'Courier New',monospace\"><span style=\"color: #008080; text-decoration-color: #008080; font-weight: bold\">85</span> Good Will Hunting\n",
       "</pre>\n"
      ],
      "text/plain": [
       "\u001b[1;36m85\u001b[0m Good Will Hunting\n"
      ]
     },
     "metadata": {},
     "output_type": "display_data"
    },
    {
     "data": {
      "text/html": [
       "<pre style=\"white-space:pre;overflow-x:auto;line-height:normal;font-family:Menlo,'DejaVu Sans Mono',consolas,'Courier New',monospace\"><span style=\"color: #008080; text-decoration-color: #008080; font-weight: bold\">88</span> Reservoir Dogs\n",
       "</pre>\n"
      ],
      "text/plain": [
       "\u001b[1;36m88\u001b[0m Reservoir Dogs\n"
      ]
     },
     "metadata": {},
     "output_type": "display_data"
    },
    {
     "data": {
      "text/html": [
       "<pre style=\"white-space:pre;overflow-x:auto;line-height:normal;font-family:Menlo,'DejaVu Sans Mono',consolas,'Courier New',monospace\"><span style=\"color: #008080; text-decoration-color: #008080; font-weight: bold\">89</span> M - Eine Stadt sucht einen Mörder\n",
       "</pre>\n"
      ],
      "text/plain": [
       "\u001b[1;36m89\u001b[0m M - Eine Stadt sucht einen Mörder\n"
      ]
     },
     "metadata": {},
     "output_type": "display_data"
    },
    {
     "data": {
      "text/html": [
       "<pre style=\"white-space:pre;overflow-x:auto;line-height:normal;font-family:Menlo,'DejaVu Sans Mono',consolas,'Courier New',monospace\"><span style=\"color: #008080; text-decoration-color: #008080; font-weight: bold\">91</span> Vertigo\n",
       "</pre>\n"
      ],
      "text/plain": [
       "\u001b[1;36m91\u001b[0m Vertigo\n"
      ]
     },
     "metadata": {},
     "output_type": "display_data"
    },
    {
     "data": {
      "text/html": [
       "<pre style=\"white-space:pre;overflow-x:auto;line-height:normal;font-family:Menlo,'DejaVu Sans Mono',consolas,'Courier New',monospace\"><span style=\"color: #008080; text-decoration-color: #008080; font-weight: bold\">93</span> Idi i smotri\n",
       "</pre>\n"
      ],
      "text/plain": [
       "\u001b[1;36m93\u001b[0m Idi i smotri\n"
      ]
     },
     "metadata": {},
     "output_type": "display_data"
    },
    {
     "data": {
      "text/html": [
       "<pre style=\"white-space:pre;overflow-x:auto;line-height:normal;font-family:Menlo,'DejaVu Sans Mono',consolas,'Courier New',monospace\"><span style=\"color: #008080; text-decoration-color: #008080; font-weight: bold\">96</span> Singin' in the Rain\n",
       "</pre>\n"
      ],
      "text/plain": [
       "\u001b[1;36m96\u001b[0m Singin' in the Rain\n"
      ]
     },
     "metadata": {},
     "output_type": "display_data"
    },
    {
     "data": {
      "text/html": [
       "<pre style=\"white-space:pre;overflow-x:auto;line-height:normal;font-family:Menlo,'DejaVu Sans Mono',consolas,'Courier New',monospace\"><span style=\"color: #008080; text-decoration-color: #008080; font-weight: bold\">102</span> Pather Panchali\n",
       "</pre>\n"
      ],
      "text/plain": [
       "\u001b[1;36m102\u001b[0m Pather Panchali\n"
      ]
     },
     "metadata": {},
     "output_type": "display_data"
    },
    {
     "data": {
      "text/html": [
       "<pre style=\"white-space:pre;overflow-x:auto;line-height:normal;font-family:Menlo,'DejaVu Sans Mono',consolas,'Courier New',monospace\"><span style=\"color: #008080; text-decoration-color: #008080; font-weight: bold\">102</span> <span style=\"color: #008000; text-decoration-color: #008000\">\"['45+'] not in index\"</span> <span style=\"color: #0000ff; text-decoration-color: #0000ff; text-decoration: underline\">https://www.imdb.com/title/tt0048473/?pf_rd_m=A2FGELUUNOQJNL&amp;pf_rd</span>\n",
       "<span style=\"color: #0000ff; text-decoration-color: #0000ff; text-decoration: underline\">_p=e31d89dd-322d-4646-8962-327b42fe94b1&amp;pf_rd_r=PXWSEV7QFNG4AWVFZZGP&amp;pf_rd_s=center-1&amp;pf_rd_t</span>\n",
       "<span style=\"color: #0000ff; text-decoration-color: #0000ff; text-decoration: underline\">=15506&amp;pf_rd_i=top&amp;ref_=chttp_tt_103</span>\n",
       "</pre>\n"
      ],
      "text/plain": [
       "\u001b[1;36m102\u001b[0m \u001b[32m\"\u001b[0m\u001b[32m[\u001b[0m\u001b[32m'45+'\u001b[0m\u001b[32m]\u001b[0m\u001b[32m not in index\"\u001b[0m \u001b[4;94mhttps://www.imdb.com/title/tt0048473/?\u001b[0m\u001b[4;94mpf_rd_m\u001b[0m\u001b[4;94m=\u001b[0m\u001b[4;94mA2FGELUUNOQJNL\u001b[0m\u001b[4;94m&\u001b[0m\u001b[4;94mpf_rd\u001b[0m\n",
       "\u001b[4;94m_p\u001b[0m\u001b[4;94m=\u001b[0m\u001b[4;94me31d89dd\u001b[0m\u001b[4;94m-322d-4646-8962-327b42fe94b1&\u001b[0m\u001b[4;94mpf_rd_r\u001b[0m\u001b[4;94m=\u001b[0m\u001b[4;94mPXWSEV7QFNG4AWVFZZGP\u001b[0m\u001b[4;94m&\u001b[0m\u001b[4;94mpf_rd_s\u001b[0m\u001b[4;94m=\u001b[0m\u001b[4;94mcenter\u001b[0m\u001b[4;94m-1&\u001b[0m\u001b[4;94mpf_rd_t\u001b[0m\n",
       "\u001b[4;94m=\u001b[0m\u001b[4;94m15506\u001b[0m\u001b[4;94m&\u001b[0m\u001b[4;94mpf_rd_i\u001b[0m\u001b[4;94m=\u001b[0m\u001b[4;94mtop\u001b[0m\u001b[4;94m&\u001b[0m\u001b[4;94mref_\u001b[0m\u001b[4;94m=\u001b[0m\u001b[4;94mchttp_tt_103\u001b[0m\n"
      ]
     },
     "metadata": {},
     "output_type": "display_data"
    },
    {
     "data": {
      "text/html": [
       "<pre style=\"white-space:pre;overflow-x:auto;line-height:normal;font-family:Menlo,'DejaVu Sans Mono',consolas,'Courier New',monospace\"><span style=\"color: #008080; text-decoration-color: #008080; font-weight: bold\">107</span> The Apartment\n",
       "</pre>\n"
      ],
      "text/plain": [
       "\u001b[1;36m107\u001b[0m The Apartment\n"
      ]
     },
     "metadata": {},
     "output_type": "display_data"
    },
    {
     "data": {
      "text/html": [
       "<pre style=\"white-space:pre;overflow-x:auto;line-height:normal;font-family:Menlo,'DejaVu Sans Mono',consolas,'Courier New',monospace\"><span style=\"color: #008080; text-decoration-color: #008080; font-weight: bold\">110</span> Taxi Driver\n",
       "</pre>\n"
      ],
      "text/plain": [
       "\u001b[1;36m110\u001b[0m Taxi Driver\n"
      ]
     },
     "metadata": {},
     "output_type": "display_data"
    },
    {
     "data": {
      "text/html": [
       "<pre style=\"white-space:pre;overflow-x:auto;line-height:normal;font-family:Menlo,'DejaVu Sans Mono',consolas,'Courier New',monospace\"><span style=\"color: #008080; text-decoration-color: #008080; font-weight: bold\">115</span> Jodaeiye Nader az Simin\n",
       "</pre>\n"
      ],
      "text/plain": [
       "\u001b[1;36m115\u001b[0m Jodaeiye Nader az Simin\n"
      ]
     },
     "metadata": {},
     "output_type": "display_data"
    },
    {
     "data": {
      "text/html": [
       "<pre style=\"white-space:pre;overflow-x:auto;line-height:normal;font-family:Menlo,'DejaVu Sans Mono',consolas,'Courier New',monospace\"><span style=\"color: #008080; text-decoration-color: #008080; font-weight: bold\">116</span> Scarface\n",
       "</pre>\n"
      ],
      "text/plain": [
       "\u001b[1;36m116\u001b[0m Scarface\n"
      ]
     },
     "metadata": {},
     "output_type": "display_data"
    },
    {
     "data": {
      "text/html": [
       "<pre style=\"white-space:pre;overflow-x:auto;line-height:normal;font-family:Menlo,'DejaVu Sans Mono',consolas,'Courier New',monospace\"><span style=\"color: #008080; text-decoration-color: #008080; font-weight: bold\">117</span> <span style=\"color: #008080; text-decoration-color: #008080; font-weight: bold\">1917</span>\n",
       "</pre>\n"
      ],
      "text/plain": [
       "\u001b[1;36m117\u001b[0m \u001b[1;36m1917\u001b[0m\n"
      ]
     },
     "metadata": {},
     "output_type": "display_data"
    },
    {
     "data": {
      "text/html": [
       "<pre style=\"white-space:pre;overflow-x:auto;line-height:normal;font-family:Menlo,'DejaVu Sans Mono',consolas,'Courier New',monospace\"><span style=\"color: #008080; text-decoration-color: #008080; font-weight: bold\">120</span> To Kill a Mockingbird\n",
       "</pre>\n"
      ],
      "text/plain": [
       "\u001b[1;36m120\u001b[0m To Kill a Mockingbird\n"
      ]
     },
     "metadata": {},
     "output_type": "display_data"
    },
    {
     "data": {
      "text/html": [
       "<pre style=\"white-space:pre;overflow-x:auto;line-height:normal;font-family:Menlo,'DejaVu Sans Mono',consolas,'Courier New',monospace\"><span style=\"color: #008080; text-decoration-color: #008080; font-weight: bold\">121</span> Toy Story <span style=\"color: #008080; text-decoration-color: #008080; font-weight: bold\">3</span>\n",
       "</pre>\n"
      ],
      "text/plain": [
       "\u001b[1;36m121\u001b[0m Toy Story \u001b[1;36m3\u001b[0m\n"
      ]
     },
     "metadata": {},
     "output_type": "display_data"
    },
    {
     "data": {
      "text/html": [
       "<pre style=\"white-space:pre;overflow-x:auto;line-height:normal;font-family:Menlo,'DejaVu Sans Mono',consolas,'Courier New',monospace\"><span style=\"color: #008080; text-decoration-color: #008080; font-weight: bold\">123</span> Up\n",
       "</pre>\n"
      ],
      "text/plain": [
       "\u001b[1;36m123\u001b[0m Up\n"
      ]
     },
     "metadata": {},
     "output_type": "display_data"
    },
    {
     "data": {
      "text/html": [
       "<pre style=\"white-space:pre;overflow-x:auto;line-height:normal;font-family:Menlo,'DejaVu Sans Mono',consolas,'Courier New',monospace\"><span style=\"color: #008080; text-decoration-color: #008080; font-weight: bold\">125</span> L.A. Confidential\n",
       "</pre>\n"
      ],
      "text/plain": [
       "\u001b[1;36m125\u001b[0m L.A. Confidential\n"
      ]
     },
     "metadata": {},
     "output_type": "display_data"
    },
    {
     "data": {
      "text/html": [
       "<pre style=\"white-space:pre;overflow-x:auto;line-height:normal;font-family:Menlo,'DejaVu Sans Mono',consolas,'Courier New',monospace\"><span style=\"color: #008080; text-decoration-color: #008080; font-weight: bold\">126</span> Heat\n",
       "</pre>\n"
      ],
      "text/plain": [
       "\u001b[1;36m126\u001b[0m Heat\n"
      ]
     },
     "metadata": {},
     "output_type": "display_data"
    },
    {
     "data": {
      "text/html": [
       "<pre style=\"white-space:pre;overflow-x:auto;line-height:normal;font-family:Menlo,'DejaVu Sans Mono',consolas,'Courier New',monospace\"><span style=\"color: #008080; text-decoration-color: #008080; font-weight: bold\">128</span> Rashômon\n",
       "</pre>\n"
      ],
      "text/plain": [
       "\u001b[1;36m128\u001b[0m Rashômon\n"
      ]
     },
     "metadata": {},
     "output_type": "display_data"
    },
    {
     "data": {
      "text/html": [
       "<pre style=\"white-space:pre;overflow-x:auto;line-height:normal;font-family:Menlo,'DejaVu Sans Mono',consolas,'Courier New',monospace\"><span style=\"color: #008080; text-decoration-color: #008080; font-weight: bold\">137</span> Unforgiven\n",
       "</pre>\n"
      ],
      "text/plain": [
       "\u001b[1;36m137\u001b[0m Unforgiven\n"
      ]
     },
     "metadata": {},
     "output_type": "display_data"
    },
    {
     "data": {
      "text/html": [
       "<pre style=\"white-space:pre;overflow-x:auto;line-height:normal;font-family:Menlo,'DejaVu Sans Mono',consolas,'Courier New',monospace\"><span style=\"color: #008080; text-decoration-color: #008080; font-weight: bold\">138</span> Bacheha-Ye aseman\n",
       "</pre>\n"
      ],
      "text/plain": [
       "\u001b[1;36m138\u001b[0m Bacheha-Ye aseman\n"
      ]
     },
     "metadata": {},
     "output_type": "display_data"
    },
    {
     "data": {
      "text/html": [
       "<pre style=\"white-space:pre;overflow-x:auto;line-height:normal;font-family:Menlo,'DejaVu Sans Mono',consolas,'Courier New',monospace\"><span style=\"color: #008080; text-decoration-color: #008080; font-weight: bold\">139</span> Hauru no ugoku shiro\n",
       "</pre>\n"
      ],
      "text/plain": [
       "\u001b[1;36m139\u001b[0m Hauru no ugoku shiro\n"
      ]
     },
     "metadata": {},
     "output_type": "display_data"
    },
    {
     "data": {
      "text/html": [
       "<pre style=\"white-space:pre;overflow-x:auto;line-height:normal;font-family:Menlo,'DejaVu Sans Mono',consolas,'Courier New',monospace\"><span style=\"color: #008080; text-decoration-color: #008080; font-weight: bold\">141</span> Judgment at Nuremberg\n",
       "</pre>\n"
      ],
      "text/plain": [
       "\u001b[1;36m141\u001b[0m Judgment at Nuremberg\n"
      ]
     },
     "metadata": {},
     "output_type": "display_data"
    },
    {
     "data": {
      "text/html": [
       "<pre style=\"white-space:pre;overflow-x:auto;line-height:normal;font-family:Menlo,'DejaVu Sans Mono',consolas,'Courier New',monospace\"><span style=\"color: #008080; text-decoration-color: #008080; font-weight: bold\">143</span> Casino\n",
       "</pre>\n"
      ],
      "text/plain": [
       "\u001b[1;36m143\u001b[0m Casino\n"
      ]
     },
     "metadata": {},
     "output_type": "display_data"
    },
    {
     "data": {
      "text/html": [
       "<pre style=\"white-space:pre;overflow-x:auto;line-height:normal;font-family:Menlo,'DejaVu Sans Mono',consolas,'Courier New',monospace\"><span style=\"color: #008080; text-decoration-color: #008080; font-weight: bold\">144</span> The Treasure of the Sierra Madre\n",
       "</pre>\n"
      ],
      "text/plain": [
       "\u001b[1;36m144\u001b[0m The Treasure of the Sierra Madre\n"
      ]
     },
     "metadata": {},
     "output_type": "display_data"
    },
    {
     "data": {
      "text/html": [
       "<pre style=\"white-space:pre;overflow-x:auto;line-height:normal;font-family:Menlo,'DejaVu Sans Mono',consolas,'Courier New',monospace\"><span style=\"color: #008080; text-decoration-color: #008080; font-weight: bold\">146</span> El laberinto del fauno\n",
       "</pre>\n"
      ],
      "text/plain": [
       "\u001b[1;36m146\u001b[0m El laberinto del fauno\n"
      ]
     },
     "metadata": {},
     "output_type": "display_data"
    },
    {
     "data": {
      "text/html": [
       "<pre style=\"white-space:pre;overflow-x:auto;line-height:normal;font-family:Menlo,'DejaVu Sans Mono',consolas,'Courier New',monospace\"><span style=\"color: #008080; text-decoration-color: #008080; font-weight: bold\">149</span> Raging Bull\n",
       "</pre>\n"
      ],
      "text/plain": [
       "\u001b[1;36m149\u001b[0m Raging Bull\n"
      ]
     },
     "metadata": {},
     "output_type": "display_data"
    },
    {
     "data": {
      "text/html": [
       "<pre style=\"white-space:pre;overflow-x:auto;line-height:normal;font-family:Menlo,'DejaVu Sans Mono',consolas,'Courier New',monospace\"><span style=\"color: #008080; text-decoration-color: #008080; font-weight: bold\">154</span> The Gold Rush\n",
       "</pre>\n"
      ],
      "text/plain": [
       "\u001b[1;36m154\u001b[0m The Gold Rush\n"
      ]
     },
     "metadata": {},
     "output_type": "display_data"
    },
    {
     "data": {
      "text/html": [
       "<pre style=\"white-space:pre;overflow-x:auto;line-height:normal;font-family:Menlo,'DejaVu Sans Mono',consolas,'Courier New',monospace\"><span style=\"color: #008080; text-decoration-color: #008080; font-weight: bold\">158</span> Three Billboards Outside Ebbing, Missouri\n",
       "</pre>\n"
      ],
      "text/plain": [
       "\u001b[1;36m158\u001b[0m Three Billboards Outside Ebbing, Missouri\n"
      ]
     },
     "metadata": {},
     "output_type": "display_data"
    },
    {
     "data": {
      "text/html": [
       "<pre style=\"white-space:pre;overflow-x:auto;line-height:normal;font-family:Menlo,'DejaVu Sans Mono',consolas,'Courier New',monospace\"><span style=\"color: #008080; text-decoration-color: #008080; font-weight: bold\">160</span> The Thing\n",
       "</pre>\n"
      ],
      "text/plain": [
       "\u001b[1;36m160\u001b[0m The Thing\n"
      ]
     },
     "metadata": {},
     "output_type": "display_data"
    },
    {
     "data": {
      "text/html": [
       "<pre style=\"white-space:pre;overflow-x:auto;line-height:normal;font-family:Menlo,'DejaVu Sans Mono',consolas,'Courier New',monospace\"><span style=\"color: #008080; text-decoration-color: #008080; font-weight: bold\">161</span> The Sixth Sense\n",
       "</pre>\n"
      ],
      "text/plain": [
       "\u001b[1;36m161\u001b[0m The Sixth Sense\n"
      ]
     },
     "metadata": {},
     "output_type": "display_data"
    },
    {
     "data": {
      "text/html": [
       "<pre style=\"white-space:pre;overflow-x:auto;line-height:normal;font-family:Menlo,'DejaVu Sans Mono',consolas,'Courier New',monospace\"><span style=\"color: #008080; text-decoration-color: #008080; font-weight: bold\">163</span> The Third Man\n",
       "</pre>\n"
      ],
      "text/plain": [
       "\u001b[1;36m163\u001b[0m The Third Man\n"
      ]
     },
     "metadata": {},
     "output_type": "display_data"
    },
    {
     "data": {
      "text/html": [
       "<pre style=\"white-space:pre;overflow-x:auto;line-height:normal;font-family:Menlo,'DejaVu Sans Mono',consolas,'Courier New',monospace\"><span style=\"color: #008080; text-decoration-color: #008080; font-weight: bold\">164</span> Smultronstället\n",
       "</pre>\n"
      ],
      "text/plain": [
       "\u001b[1;36m164\u001b[0m Smultronstället\n"
      ]
     },
     "metadata": {},
     "output_type": "display_data"
    },
    {
     "data": {
      "text/html": [
       "<pre style=\"white-space:pre;overflow-x:auto;line-height:normal;font-family:Menlo,'DejaVu Sans Mono',consolas,'Courier New',monospace\"><span style=\"color: #008080; text-decoration-color: #008080; font-weight: bold\">170</span> Blade Runner\n",
       "</pre>\n"
      ],
      "text/plain": [
       "\u001b[1;36m170\u001b[0m Blade Runner\n"
      ]
     },
     "metadata": {},
     "output_type": "display_data"
    },
    {
     "data": {
      "text/html": [
       "<pre style=\"white-space:pre;overflow-x:auto;line-height:normal;font-family:Menlo,'DejaVu Sans Mono',consolas,'Courier New',monospace\"><span style=\"color: #008080; text-decoration-color: #008080; font-weight: bold\">173</span> Fargo\n",
       "</pre>\n"
      ],
      "text/plain": [
       "\u001b[1;36m173\u001b[0m Fargo\n"
      ]
     },
     "metadata": {},
     "output_type": "display_data"
    },
    {
     "data": {
      "text/html": [
       "<pre style=\"white-space:pre;overflow-x:auto;line-height:normal;font-family:Menlo,'DejaVu Sans Mono',consolas,'Courier New',monospace\"><span style=\"color: #008080; text-decoration-color: #008080; font-weight: bold\">174</span> Warrior\n",
       "</pre>\n"
      ],
      "text/plain": [
       "\u001b[1;36m174\u001b[0m Warrior\n"
      ]
     },
     "metadata": {},
     "output_type": "display_data"
    },
    {
     "data": {
      "text/html": [
       "<pre style=\"white-space:pre;overflow-x:auto;line-height:normal;font-family:Menlo,'DejaVu Sans Mono',consolas,'Courier New',monospace\"><span style=\"color: #008080; text-decoration-color: #008080; font-weight: bold\">177</span> Gone with the Wind\n",
       "</pre>\n"
      ],
      "text/plain": [
       "\u001b[1;36m177\u001b[0m Gone with the Wind\n"
      ]
     },
     "metadata": {},
     "output_type": "display_data"
    },
    {
     "data": {
      "text/html": [
       "<pre style=\"white-space:pre;overflow-x:auto;line-height:normal;font-family:Menlo,'DejaVu Sans Mono',consolas,'Courier New',monospace\"><span style=\"color: #008080; text-decoration-color: #008080; font-weight: bold\">186</span> The General\n",
       "</pre>\n"
      ],
      "text/plain": [
       "\u001b[1;36m186\u001b[0m The General\n"
      ]
     },
     "metadata": {},
     "output_type": "display_data"
    },
    {
     "data": {
      "text/html": [
       "<pre style=\"white-space:pre;overflow-x:auto;line-height:normal;font-family:Menlo,'DejaVu Sans Mono',consolas,'Courier New',monospace\"><span style=\"color: #008080; text-decoration-color: #008080; font-weight: bold\">187</span> Gran Torino\n",
       "</pre>\n"
      ],
      "text/plain": [
       "\u001b[1;36m187\u001b[0m Gran Torino\n"
      ]
     },
     "metadata": {},
     "output_type": "display_data"
    },
    {
     "data": {
      "text/html": [
       "<pre style=\"white-space:pre;overflow-x:auto;line-height:normal;font-family:Menlo,'DejaVu Sans Mono',consolas,'Courier New',monospace\"><span style=\"color: #008080; text-decoration-color: #008080; font-weight: bold\">191</span> Before Sunrise\n",
       "</pre>\n"
      ],
      "text/plain": [
       "\u001b[1;36m191\u001b[0m Before Sunrise\n"
      ]
     },
     "metadata": {},
     "output_type": "display_data"
    },
    {
     "data": {
      "text/html": [
       "<pre style=\"white-space:pre;overflow-x:auto;line-height:normal;font-family:Menlo,'DejaVu Sans Mono',consolas,'Courier New',monospace\"><span style=\"color: #008080; text-decoration-color: #008080; font-weight: bold\">192</span> Mary and Max.\n",
       "</pre>\n"
      ],
      "text/plain": [
       "\u001b[1;36m192\u001b[0m Mary and Max.\n"
      ]
     },
     "metadata": {},
     "output_type": "display_data"
    },
    {
     "data": {
      "text/html": [
       "<pre style=\"white-space:pre;overflow-x:auto;line-height:normal;font-family:Menlo,'DejaVu Sans Mono',consolas,'Courier New',monospace\"><span style=\"color: #008080; text-decoration-color: #008080; font-weight: bold\">194</span> Catch Me If You Can\n",
       "</pre>\n"
      ],
      "text/plain": [
       "\u001b[1;36m194\u001b[0m Catch Me If You Can\n"
      ]
     },
     "metadata": {},
     "output_type": "display_data"
    },
    {
     "data": {
      "text/html": [
       "<pre style=\"white-space:pre;overflow-x:auto;line-height:normal;font-family:Menlo,'DejaVu Sans Mono',consolas,'Courier New',monospace\"><span style=\"color: #008080; text-decoration-color: #008080; font-weight: bold\">195</span> Room\n",
       "</pre>\n"
      ],
      "text/plain": [
       "\u001b[1;36m195\u001b[0m Room\n"
      ]
     },
     "metadata": {},
     "output_type": "display_data"
    },
    {
     "data": {
      "text/html": [
       "<pre style=\"white-space:pre;overflow-x:auto;line-height:normal;font-family:Menlo,'DejaVu Sans Mono',consolas,'Courier New',monospace\"><span style=\"color: #008080; text-decoration-color: #008080; font-weight: bold\">197</span> Barry Lyndon\n",
       "</pre>\n"
      ],
      "text/plain": [
       "\u001b[1;36m197\u001b[0m Barry Lyndon\n"
      ]
     },
     "metadata": {},
     "output_type": "display_data"
    },
    {
     "data": {
      "text/html": [
       "<pre style=\"white-space:pre;overflow-x:auto;line-height:normal;font-family:Menlo,'DejaVu Sans Mono',consolas,'Courier New',monospace\"><span style=\"color: #008080; text-decoration-color: #008080; font-weight: bold\">200</span> Andhadhun\n",
       "</pre>\n"
      ],
      "text/plain": [
       "\u001b[1;36m200\u001b[0m Andhadhun\n"
      ]
     },
     "metadata": {},
     "output_type": "display_data"
    },
    {
     "data": {
      "text/html": [
       "<pre style=\"white-space:pre;overflow-x:auto;line-height:normal;font-family:Menlo,'DejaVu Sans Mono',consolas,'Courier New',monospace\"><span style=\"color: #008080; text-decoration-color: #008080; font-weight: bold\">203</span> Ford v Ferrari\n",
       "</pre>\n"
      ],
      "text/plain": [
       "\u001b[1;36m203\u001b[0m Ford v Ferrari\n"
      ]
     },
     "metadata": {},
     "output_type": "display_data"
    },
    {
     "data": {
      "text/html": [
       "<pre style=\"white-space:pre;overflow-x:auto;line-height:normal;font-family:Menlo,'DejaVu Sans Mono',consolas,'Courier New',monospace\"><span style=\"color: #008080; text-decoration-color: #008080; font-weight: bold\">204</span> <span style=\"color: #008080; text-decoration-color: #008080; font-weight: bold\">12</span> Years a Slave\n",
       "</pre>\n"
      ],
      "text/plain": [
       "\u001b[1;36m204\u001b[0m \u001b[1;36m12\u001b[0m Years a Slave\n"
      ]
     },
     "metadata": {},
     "output_type": "display_data"
    },
    {
     "data": {
      "text/html": [
       "<pre style=\"white-space:pre;overflow-x:auto;line-height:normal;font-family:Menlo,'DejaVu Sans Mono',consolas,'Courier New',monospace\"><span style=\"color: #008080; text-decoration-color: #008080; font-weight: bold\">211</span> Million Dollar Baby\n",
       "</pre>\n"
      ],
      "text/plain": [
       "\u001b[1;36m211\u001b[0m Million Dollar Baby\n"
      ]
     },
     "metadata": {},
     "output_type": "display_data"
    },
    {
     "data": {
      "text/html": [
       "<pre style=\"white-space:pre;overflow-x:auto;line-height:normal;font-family:Menlo,'DejaVu Sans Mono',consolas,'Courier New',monospace\"><span style=\"color: #008080; text-decoration-color: #008080; font-weight: bold\">213</span> Le salaire de la peur\n",
       "</pre>\n"
      ],
      "text/plain": [
       "\u001b[1;36m213\u001b[0m Le salaire de la peur\n"
      ]
     },
     "metadata": {},
     "output_type": "display_data"
    },
    {
     "data": {
      "text/html": [
       "<pre style=\"white-space:pre;overflow-x:auto;line-height:normal;font-family:Menlo,'DejaVu Sans Mono',consolas,'Courier New',monospace\"><span style=\"color: #008080; text-decoration-color: #008080; font-weight: bold\">214</span> Stand by Me\n",
       "</pre>\n"
      ],
      "text/plain": [
       "\u001b[1;36m214\u001b[0m Stand by Me\n"
      ]
     },
     "metadata": {},
     "output_type": "display_data"
    },
    {
     "data": {
      "text/html": [
       "<pre style=\"white-space:pre;overflow-x:auto;line-height:normal;font-family:Menlo,'DejaVu Sans Mono',consolas,'Courier New',monospace\"><span style=\"color: #008080; text-decoration-color: #008080; font-weight: bold\">219</span> Les quatre cents coups\n",
       "</pre>\n"
      ],
      "text/plain": [
       "\u001b[1;36m219\u001b[0m Les quatre cents coups\n"
      ]
     },
     "metadata": {},
     "output_type": "display_data"
    },
    {
     "data": {
      "text/html": [
       "<pre style=\"white-space:pre;overflow-x:auto;line-height:normal;font-family:Menlo,'DejaVu Sans Mono',consolas,'Courier New',monospace\"><span style=\"color: #008080; text-decoration-color: #008080; font-weight: bold\">222</span> La haine\n",
       "</pre>\n"
      ],
      "text/plain": [
       "\u001b[1;36m222\u001b[0m La haine\n"
      ]
     },
     "metadata": {},
     "output_type": "display_data"
    },
    {
     "data": {
      "text/html": [
       "<pre style=\"white-space:pre;overflow-x:auto;line-height:normal;font-family:Menlo,'DejaVu Sans Mono',consolas,'Courier New',monospace\"><span style=\"color: #008080; text-decoration-color: #008080; font-weight: bold\">224</span> Spotlight\n",
       "</pre>\n"
      ],
      "text/plain": [
       "\u001b[1;36m224\u001b[0m Spotlight\n"
      ]
     },
     "metadata": {},
     "output_type": "display_data"
    },
    {
     "data": {
      "text/html": [
       "<pre style=\"white-space:pre;overflow-x:auto;line-height:normal;font-family:Menlo,'DejaVu Sans Mono',consolas,'Courier New',monospace\"><span style=\"color: #008080; text-decoration-color: #008080; font-weight: bold\">225</span> Koe no katachi\n",
       "</pre>\n"
      ],
      "text/plain": [
       "\u001b[1;36m225\u001b[0m Koe no katachi\n"
      ]
     },
     "metadata": {},
     "output_type": "display_data"
    },
    {
     "data": {
      "text/html": [
       "<pre style=\"white-space:pre;overflow-x:auto;line-height:normal;font-family:Menlo,'DejaVu Sans Mono',consolas,'Courier New',monospace\"><span style=\"color: #008080; text-decoration-color: #008080; font-weight: bold\">226</span> Eskiya\n",
       "</pre>\n"
      ],
      "text/plain": [
       "\u001b[1;36m226\u001b[0m Eskiya\n"
      ]
     },
     "metadata": {},
     "output_type": "display_data"
    },
    {
     "data": {
      "text/html": [
       "<pre style=\"white-space:pre;overflow-x:auto;line-height:normal;font-family:Menlo,'DejaVu Sans Mono',consolas,'Courier New',monospace\"><span style=\"color: #008080; text-decoration-color: #008080; font-weight: bold\">227</span> Rebecca\n",
       "</pre>\n"
      ],
      "text/plain": [
       "\u001b[1;36m227\u001b[0m Rebecca\n"
      ]
     },
     "metadata": {},
     "output_type": "display_data"
    },
    {
     "data": {
      "text/html": [
       "<pre style=\"white-space:pre;overflow-x:auto;line-height:normal;font-family:Menlo,'DejaVu Sans Mono',consolas,'Courier New',monospace\"><span style=\"color: #008080; text-decoration-color: #008080; font-weight: bold\">228</span> Life of Brian\n",
       "</pre>\n"
      ],
      "text/plain": [
       "\u001b[1;36m228\u001b[0m Life of Brian\n"
      ]
     },
     "metadata": {},
     "output_type": "display_data"
    },
    {
     "data": {
      "text/html": [
       "<pre style=\"white-space:pre;overflow-x:auto;line-height:normal;font-family:Menlo,'DejaVu Sans Mono',consolas,'Courier New',monospace\"><span style=\"color: #008080; text-decoration-color: #008080; font-weight: bold\">229</span> Monsters, Inc.\n",
       "</pre>\n"
      ],
      "text/plain": [
       "\u001b[1;36m229\u001b[0m Monsters, Inc.\n"
      ]
     },
     "metadata": {},
     "output_type": "display_data"
    },
    {
     "data": {
      "text/html": [
       "<pre style=\"white-space:pre;overflow-x:auto;line-height:normal;font-family:Menlo,'DejaVu Sans Mono',consolas,'Courier New',monospace\"><span style=\"color: #008080; text-decoration-color: #008080; font-weight: bold\">230</span> Hotel Rwanda\n",
       "</pre>\n"
      ],
      "text/plain": [
       "\u001b[1;36m230\u001b[0m Hotel Rwanda\n"
      ]
     },
     "metadata": {},
     "output_type": "display_data"
    },
    {
     "data": {
      "text/html": [
       "<pre style=\"white-space:pre;overflow-x:auto;line-height:normal;font-family:Menlo,'DejaVu Sans Mono',consolas,'Courier New',monospace\"><span style=\"color: #008080; text-decoration-color: #008080; font-weight: bold\">232</span> Rush\n",
       "</pre>\n"
      ],
      "text/plain": [
       "\u001b[1;36m232\u001b[0m Rush\n"
      ]
     },
     "metadata": {},
     "output_type": "display_data"
    },
    {
     "data": {
      "text/html": [
       "<pre style=\"white-space:pre;overflow-x:auto;line-height:normal;font-family:Menlo,'DejaVu Sans Mono',consolas,'Courier New',monospace\"><span style=\"color: #008080; text-decoration-color: #008080; font-weight: bold\">233</span> Into the Wild\n",
       "</pre>\n"
      ],
      "text/plain": [
       "\u001b[1;36m233\u001b[0m Into the Wild\n"
      ]
     },
     "metadata": {},
     "output_type": "display_data"
    },
    {
     "data": {
      "text/html": [
       "<pre style=\"white-space:pre;overflow-x:auto;line-height:normal;font-family:Menlo,'DejaVu Sans Mono',consolas,'Courier New',monospace\"><span style=\"color: #008080; text-decoration-color: #008080; font-weight: bold\">238</span> It Happened One Night\n",
       "</pre>\n"
      ],
      "text/plain": [
       "\u001b[1;36m238\u001b[0m It Happened One Night\n"
      ]
     },
     "metadata": {},
     "output_type": "display_data"
    },
    {
     "data": {
      "text/html": [
       "<pre style=\"white-space:pre;overflow-x:auto;line-height:normal;font-family:Menlo,'DejaVu Sans Mono',consolas,'Courier New',monospace\"><span style=\"color: #008080; text-decoration-color: #008080; font-weight: bold\">239</span> Before Sunset\n",
       "</pre>\n"
      ],
      "text/plain": [
       "\u001b[1;36m239\u001b[0m Before Sunset\n"
      ]
     },
     "metadata": {},
     "output_type": "display_data"
    },
    {
     "data": {
      "text/html": [
       "<pre style=\"white-space:pre;overflow-x:auto;line-height:normal;font-family:Menlo,'DejaVu Sans Mono',consolas,'Courier New',monospace\"><span style=\"color: #008080; text-decoration-color: #008080; font-weight: bold\">242</span> La battaglia di Algeri\n",
       "</pre>\n"
      ],
      "text/plain": [
       "\u001b[1;36m242\u001b[0m La battaglia di Algeri\n"
      ]
     },
     "metadata": {},
     "output_type": "display_data"
    },
    {
     "data": {
      "text/html": [
       "<pre style=\"white-space:pre;overflow-x:auto;line-height:normal;font-family:Menlo,'DejaVu Sans Mono',consolas,'Courier New',monospace\"><span style=\"color: #008080; text-decoration-color: #008080; font-weight: bold\">243</span> ديمن سلاير: موغين تراين - عرض خاص\n",
       "</pre>\n"
      ],
      "text/plain": [
       "\u001b[1;36m243\u001b[0m ديمن سلاير: موغين تراين - عرض خاص\n"
      ]
     },
     "metadata": {},
     "output_type": "display_data"
    },
    {
     "data": {
      "text/html": [
       "<pre style=\"white-space:pre;overflow-x:auto;line-height:normal;font-family:Menlo,'DejaVu Sans Mono',consolas,'Courier New',monospace\"><span style=\"color: #008080; text-decoration-color: #008080; font-weight: bold\">248</span> Mandariinid\n",
       "</pre>\n"
      ],
      "text/plain": [
       "\u001b[1;36m248\u001b[0m Mandariinid\n"
      ]
     },
     "metadata": {},
     "output_type": "display_data"
    },
    {
     "data": {
      "text/html": [
       "<pre style=\"white-space:pre;overflow-x:auto;line-height:normal;font-family:Menlo,'DejaVu Sans Mono',consolas,'Courier New',monospace\"><span style=\"color: #008080; text-decoration-color: #008080; font-weight: bold\">249</span> Ratsasan\n",
       "</pre>\n"
      ],
      "text/plain": [
       "\u001b[1;36m249\u001b[0m Ratsasan\n"
      ]
     },
     "metadata": {},
     "output_type": "display_data"
    }
   ],
   "source": [
    "df_list =list()\n",
    "for index, movie_url in enumerate(track(movies_url)):\n",
    "    try:\n",
    "        movie_page = request_url(movie_url)\n",
    "        # Get movie Title, year, classification and rating link.\n",
    "        title = movie_page.find('h1', 'TitleHeader__TitleText-sc-1wu6n3d-0').text.strip()\n",
    "        print(index, title)\n",
    "        year_rat_time = list()\n",
    "        year_rat_time_header = ['Year', 'Certification', 'Duration']\n",
    "        dic = {title: catch(lambda : x.contents[0].text, handle=lambda : x.text) for x , title in zip(movie_page.find('div', 'TitleBlock__TitleMetaDataContainer-sc-1nlhx7j-2 hWHMKr').find('ul'), year_rat_time_header)}\n",
    "        rating_url= URL+movie_page.find('a', 'ipc-button ipc-button--single-padding ipc-button--center-align-content ipc-button--default-height ipc-button--core-baseAlt ipc-button--theme-baseAlt ipc-button--on-textPrimary ipc-text-button RatingBarButtonBase__Button-sc-15v8ssr-2 jjcqHZ')['href']\n",
    "        dic['Title']=title\n",
    "        data = pd.DataFrame([dic])\n",
    "\n",
    "\n",
    "\n",
    "        page = request_url(rating_url)\n",
    "\n",
    "\n",
    "\n",
    "        table = page(text='Rating By Demographic')[0].parent.find_next_sibling().find_next_sibling()\n",
    "        lst = list()\n",
    "        header = ['All', '<18', '18-29', '30-44', '45+']\n",
    "        for i in range(1,4):\n",
    "            lst.append({j:x.text.strip() for x, j in zip(table.find_all('tr')[i].find_all('a'), header)})\n",
    "        total = pd.DataFrame.from_dict(({'All': lst[0]}))\n",
    "        male = pd.DataFrame({'Male': lst[1]})\n",
    "        female = pd.DataFrame({'Female': lst[2]})\n",
    "        total = helper(total)\n",
    "        male = helper(male)\n",
    "        female = helper(female)\n",
    "        result = total.join([male, female])\n",
    "\n",
    "\n",
    "\n",
    "        data.columns = pd.MultiIndex.from_tuples([('Year',''),('Certification',''),('Duration',''),('Title','')])\n",
    "\n",
    "        df_list.append(pd.concat([data,result], axis=1))\n",
    "    except Exception as e:\n",
    "\n",
    "        print(index,e, movie_url)\n"
   ]
  },
  {
   "cell_type": "code",
   "execution_count": 32,
   "id": "cc0cb6c6",
   "metadata": {
    "ExecuteTime": {
     "end_time": "2021-10-14T04:52:52.316818Z",
     "start_time": "2021-10-14T04:52:52.300686Z"
    }
   },
   "outputs": [
    {
     "data": {
      "text/plain": [
       "247"
      ]
     },
     "execution_count": 32,
     "metadata": {},
     "output_type": "execute_result"
    }
   ],
   "source": [
    "len(df_list)"
   ]
  },
  {
   "cell_type": "code",
   "execution_count": 46,
   "id": "077d4fc9",
   "metadata": {
    "ExecuteTime": {
     "end_time": "2021-10-14T08:16:13.633506Z",
     "start_time": "2021-10-14T08:16:13.529681Z"
    }
   },
   "outputs": [
    {
     "data": {
      "text/html": [
       "<div>\n",
       "<style scoped>\n",
       "    .dataframe tbody tr th:only-of-type {\n",
       "        vertical-align: middle;\n",
       "    }\n",
       "\n",
       "    .dataframe tbody tr th {\n",
       "        vertical-align: top;\n",
       "    }\n",
       "\n",
       "    .dataframe thead tr th {\n",
       "        text-align: left;\n",
       "    }\n",
       "</style>\n",
       "<table border=\"1\" class=\"dataframe\">\n",
       "  <thead>\n",
       "    <tr>\n",
       "      <th></th>\n",
       "      <th>Year</th>\n",
       "      <th>Certification</th>\n",
       "      <th>Duration</th>\n",
       "      <th>Title</th>\n",
       "      <th colspan=\"5\" halign=\"left\">All</th>\n",
       "      <th colspan=\"5\" halign=\"left\">Male</th>\n",
       "      <th colspan=\"5\" halign=\"left\">Female</th>\n",
       "    </tr>\n",
       "    <tr>\n",
       "      <th></th>\n",
       "      <th></th>\n",
       "      <th></th>\n",
       "      <th></th>\n",
       "      <th></th>\n",
       "      <th>All</th>\n",
       "      <th>&lt;18</th>\n",
       "      <th>18-29</th>\n",
       "      <th>30-44</th>\n",
       "      <th>45+</th>\n",
       "      <th>All</th>\n",
       "      <th>&lt;18</th>\n",
       "      <th>18-29</th>\n",
       "      <th>30-44</th>\n",
       "      <th>45+</th>\n",
       "      <th>All</th>\n",
       "      <th>&lt;18</th>\n",
       "      <th>18-29</th>\n",
       "      <th>30-44</th>\n",
       "      <th>45+</th>\n",
       "    </tr>\n",
       "  </thead>\n",
       "  <tbody>\n",
       "    <tr>\n",
       "      <th>0</th>\n",
       "      <td>1994</td>\n",
       "      <td>R12</td>\n",
       "      <td>2h 22min</td>\n",
       "      <td>The Shawshank Redemption</td>\n",
       "      <td>2,472,416</td>\n",
       "      <td>1,430</td>\n",
       "      <td>422,839</td>\n",
       "      <td>950,198</td>\n",
       "      <td>238,058</td>\n",
       "      <td>1,438,110</td>\n",
       "      <td>1,020</td>\n",
       "      <td>334,004</td>\n",
       "      <td>789,779</td>\n",
       "      <td>192,715</td>\n",
       "      <td>286,036</td>\n",
       "      <td>225</td>\n",
       "      <td>76,534</td>\n",
       "      <td>145,904</td>\n",
       "      <td>40,194</td>\n",
       "    </tr>\n",
       "    <tr>\n",
       "      <th>1</th>\n",
       "      <td>1972</td>\n",
       "      <td>PG12</td>\n",
       "      <td>2h 55min</td>\n",
       "      <td>The Godfather</td>\n",
       "      <td>1,708,395</td>\n",
       "      <td>980</td>\n",
       "      <td>269,085</td>\n",
       "      <td>678,763</td>\n",
       "      <td>185,199</td>\n",
       "      <td>1,041,243</td>\n",
       "      <td>719</td>\n",
       "      <td>222,873</td>\n",
       "      <td>585,385</td>\n",
       "      <td>154,434</td>\n",
       "      <td>160,147</td>\n",
       "      <td>159</td>\n",
       "      <td>38,443</td>\n",
       "      <td>83,251</td>\n",
       "      <td>26,807</td>\n",
       "    </tr>\n",
       "    <tr>\n",
       "      <th>2</th>\n",
       "      <td>1974</td>\n",
       "      <td>R12</td>\n",
       "      <td>3h 22min</td>\n",
       "      <td>The Godfather: Part II</td>\n",
       "      <td>1,186,714</td>\n",
       "      <td>625</td>\n",
       "      <td>179,237</td>\n",
       "      <td>476,375</td>\n",
       "      <td>138,373</td>\n",
       "      <td>739,410</td>\n",
       "      <td>461</td>\n",
       "      <td>152,632</td>\n",
       "      <td>415,560</td>\n",
       "      <td>116,435</td>\n",
       "      <td>102,161</td>\n",
       "      <td>117</td>\n",
       "      <td>22,048</td>\n",
       "      <td>53,779</td>\n",
       "      <td>19,169</td>\n",
       "    </tr>\n",
       "    <tr>\n",
       "      <th>3</th>\n",
       "      <td>2008</td>\n",
       "      <td>PG12</td>\n",
       "      <td>2h 32min</td>\n",
       "      <td>The Dark Knight</td>\n",
       "      <td>2,426,452</td>\n",
       "      <td>1,576</td>\n",
       "      <td>446,938</td>\n",
       "      <td>976,385</td>\n",
       "      <td>172,733</td>\n",
       "      <td>1,451,945</td>\n",
       "      <td>1,160</td>\n",
       "      <td>360,053</td>\n",
       "      <td>820,196</td>\n",
       "      <td>145,235</td>\n",
       "      <td>259,931</td>\n",
       "      <td>216</td>\n",
       "      <td>74,282</td>\n",
       "      <td>142,027</td>\n",
       "      <td>23,924</td>\n",
       "    </tr>\n",
       "    <tr>\n",
       "      <th>4</th>\n",
       "      <td>1957</td>\n",
       "      <td>Approved</td>\n",
       "      <td>1h 36min</td>\n",
       "      <td>12 Angry Men</td>\n",
       "      <td>731,760</td>\n",
       "      <td>511</td>\n",
       "      <td>131,183</td>\n",
       "      <td>275,942</td>\n",
       "      <td>78,325</td>\n",
       "      <td>438,896</td>\n",
       "      <td>389</td>\n",
       "      <td>107,422</td>\n",
       "      <td>235,505</td>\n",
       "      <td>65,419</td>\n",
       "      <td>74,160</td>\n",
       "      <td>80</td>\n",
       "      <td>20,692</td>\n",
       "      <td>36,984</td>\n",
       "      <td>11,478</td>\n",
       "    </tr>\n",
       "    <tr>\n",
       "      <th>...</th>\n",
       "      <td>...</td>\n",
       "      <td>...</td>\n",
       "      <td>...</td>\n",
       "      <td>...</td>\n",
       "      <td>...</td>\n",
       "      <td>...</td>\n",
       "      <td>...</td>\n",
       "      <td>...</td>\n",
       "      <td>...</td>\n",
       "      <td>...</td>\n",
       "      <td>...</td>\n",
       "      <td>...</td>\n",
       "      <td>...</td>\n",
       "      <td>...</td>\n",
       "      <td>...</td>\n",
       "      <td>...</td>\n",
       "      <td>...</td>\n",
       "      <td>...</td>\n",
       "      <td>...</td>\n",
       "    </tr>\n",
       "    <tr>\n",
       "      <th>242</th>\n",
       "      <td>1987</td>\n",
       "      <td>PG</td>\n",
       "      <td>1h 38min</td>\n",
       "      <td>The Princess Bride</td>\n",
       "      <td>409,214</td>\n",
       "      <td>147</td>\n",
       "      <td>50,136</td>\n",
       "      <td>166,072</td>\n",
       "      <td>70,686</td>\n",
       "      <td>213,997</td>\n",
       "      <td>98</td>\n",
       "      <td>31,461</td>\n",
       "      <td>117,947</td>\n",
       "      <td>53,800</td>\n",
       "      <td>84,437</td>\n",
       "      <td>36</td>\n",
       "      <td>17,682</td>\n",
       "      <td>46,083</td>\n",
       "      <td>15,763</td>\n",
       "    </tr>\n",
       "    <tr>\n",
       "      <th>243</th>\n",
       "      <td>1984</td>\n",
       "      <td>R</td>\n",
       "      <td>2h 25min</td>\n",
       "      <td>Paris, Texas</td>\n",
       "      <td>99,486</td>\n",
       "      <td>67</td>\n",
       "      <td>14,797</td>\n",
       "      <td>37,044</td>\n",
       "      <td>17,702</td>\n",
       "      <td>60,405</td>\n",
       "      <td>44</td>\n",
       "      <td>11,387</td>\n",
       "      <td>30,928</td>\n",
       "      <td>15,135</td>\n",
       "      <td>11,628</td>\n",
       "      <td>18</td>\n",
       "      <td>3,065</td>\n",
       "      <td>5,667</td>\n",
       "      <td>2,276</td>\n",
       "    </tr>\n",
       "    <tr>\n",
       "      <th>244</th>\n",
       "      <td>1957</td>\n",
       "      <td>Not Rated</td>\n",
       "      <td>1h 50min</td>\n",
       "      <td>Le notti di Cabiria</td>\n",
       "      <td>46,210</td>\n",
       "      <td>26</td>\n",
       "      <td>5,332</td>\n",
       "      <td>18,551</td>\n",
       "      <td>8,869</td>\n",
       "      <td>27,940</td>\n",
       "      <td>20</td>\n",
       "      <td>4,240</td>\n",
       "      <td>15,532</td>\n",
       "      <td>7,175</td>\n",
       "      <td>5,642</td>\n",
       "      <td>6</td>\n",
       "      <td>1,002</td>\n",
       "      <td>2,858</td>\n",
       "      <td>1,574</td>\n",
       "    </tr>\n",
       "    <tr>\n",
       "      <th>245</th>\n",
       "      <td>2013</td>\n",
       "      <td>Not Rated</td>\n",
       "      <td>1h 27min</td>\n",
       "      <td>Mandariinid</td>\n",
       "      <td>44,112</td>\n",
       "      <td>35</td>\n",
       "      <td>9,531</td>\n",
       "      <td>17,578</td>\n",
       "      <td>4,873</td>\n",
       "      <td>26,328</td>\n",
       "      <td>21</td>\n",
       "      <td>7,048</td>\n",
       "      <td>13,947</td>\n",
       "      <td>3,877</td>\n",
       "      <td>7,096</td>\n",
       "      <td>10</td>\n",
       "      <td>2,353</td>\n",
       "      <td>3,405</td>\n",
       "      <td>918</td>\n",
       "    </tr>\n",
       "    <tr>\n",
       "      <th>246</th>\n",
       "      <td>2018</td>\n",
       "      <td>Not Rated</td>\n",
       "      <td>2h 50min</td>\n",
       "      <td>Ratsasan</td>\n",
       "      <td>35,169</td>\n",
       "      <td>75</td>\n",
       "      <td>7,049</td>\n",
       "      <td>5,744</td>\n",
       "      <td>775</td>\n",
       "      <td>15,572</td>\n",
       "      <td>67</td>\n",
       "      <td>6,554</td>\n",
       "      <td>5,365</td>\n",
       "      <td>582</td>\n",
       "      <td>926</td>\n",
       "      <td>7</td>\n",
       "      <td>261</td>\n",
       "      <td>303</td>\n",
       "      <td>175</td>\n",
       "    </tr>\n",
       "  </tbody>\n",
       "</table>\n",
       "<p>247 rows × 19 columns</p>\n",
       "</div>"
      ],
      "text/plain": [
       "     Year Certification  Duration                     Title        All         \\\n",
       "                                                                   All    <18   \n",
       "0    1994           R12  2h 22min  The Shawshank Redemption  2,472,416  1,430   \n",
       "1    1972          PG12  2h 55min             The Godfather  1,708,395    980   \n",
       "2    1974           R12  3h 22min    The Godfather: Part II  1,186,714    625   \n",
       "3    2008          PG12  2h 32min           The Dark Knight  2,426,452  1,576   \n",
       "4    1957      Approved  1h 36min              12 Angry Men    731,760    511   \n",
       "..    ...           ...       ...                       ...        ...    ...   \n",
       "242  1987            PG  1h 38min        The Princess Bride    409,214    147   \n",
       "243  1984             R  2h 25min              Paris, Texas     99,486     67   \n",
       "244  1957     Not Rated  1h 50min       Le notti di Cabiria     46,210     26   \n",
       "245  2013     Not Rated  1h 27min               Mandariinid     44,112     35   \n",
       "246  2018     Not Rated  2h 50min                  Ratsasan     35,169     75   \n",
       "\n",
       "                                     Male                                    \\\n",
       "       18-29    30-44      45+        All    <18    18-29    30-44      45+   \n",
       "0    422,839  950,198  238,058  1,438,110  1,020  334,004  789,779  192,715   \n",
       "1    269,085  678,763  185,199  1,041,243    719  222,873  585,385  154,434   \n",
       "2    179,237  476,375  138,373    739,410    461  152,632  415,560  116,435   \n",
       "3    446,938  976,385  172,733  1,451,945  1,160  360,053  820,196  145,235   \n",
       "4    131,183  275,942   78,325    438,896    389  107,422  235,505   65,419   \n",
       "..       ...      ...      ...        ...    ...      ...      ...      ...   \n",
       "242   50,136  166,072   70,686    213,997     98   31,461  117,947   53,800   \n",
       "243   14,797   37,044   17,702     60,405     44   11,387   30,928   15,135   \n",
       "244    5,332   18,551    8,869     27,940     20    4,240   15,532    7,175   \n",
       "245    9,531   17,578    4,873     26,328     21    7,048   13,947    3,877   \n",
       "246    7,049    5,744      775     15,572     67    6,554    5,365      582   \n",
       "\n",
       "      Female                                \n",
       "         All  <18   18-29    30-44     45+  \n",
       "0    286,036  225  76,534  145,904  40,194  \n",
       "1    160,147  159  38,443   83,251  26,807  \n",
       "2    102,161  117  22,048   53,779  19,169  \n",
       "3    259,931  216  74,282  142,027  23,924  \n",
       "4     74,160   80  20,692   36,984  11,478  \n",
       "..       ...  ...     ...      ...     ...  \n",
       "242   84,437   36  17,682   46,083  15,763  \n",
       "243   11,628   18   3,065    5,667   2,276  \n",
       "244    5,642    6   1,002    2,858   1,574  \n",
       "245    7,096   10   2,353    3,405     918  \n",
       "246      926    7     261      303     175  \n",
       "\n",
       "[247 rows x 19 columns]"
      ]
     },
     "execution_count": 46,
     "metadata": {},
     "output_type": "execute_result"
    }
   ],
   "source": [
    "new_df = pd.concat(df_list).reset_index(drop=True)\n",
    "new_df"
   ]
  },
  {
   "cell_type": "code",
   "execution_count": 37,
   "id": "1096bd4f",
   "metadata": {
    "ExecuteTime": {
     "end_time": "2021-10-14T05:16:41.716488Z",
     "start_time": "2021-10-14T05:16:41.702344Z"
    }
   },
   "outputs": [],
   "source": [
    "new_df.to_csv('temp.csv')"
   ]
  },
  {
   "cell_type": "code",
   "execution_count": 26,
   "id": "33b402d0",
   "metadata": {
    "ExecuteTime": {
     "end_time": "2021-10-14T00:04:19.953223Z",
     "start_time": "2021-10-14T00:04:11.299580Z"
    }
   },
   "outputs": [
    {
     "data": {
      "text/html": [
       "<pre style=\"white-space:pre;overflow-x:auto;line-height:normal;font-family:Menlo,'DejaVu Sans Mono',consolas,'Courier New',monospace\"><span style=\"color: #008080; text-decoration-color: #008080; font-weight: bold\">76</span> Avengers: Endgame\n",
       "</pre>\n"
      ],
      "text/plain": [
       "\u001b[1;36m76\u001b[0m Avengers: Endgame\n"
      ]
     },
     "metadata": {},
     "output_type": "display_data"
    }
   ],
   "source": [
    "movie_page = request_url('https://www.imdb.com/title/tt4154796/?pf_rd_m=A2FGELUUNOQJNL&pf_rd_p=e31d89dd-322d-4646-8962-327b42fe94b1&pf_rd_r=VEJVCG6NQCDBXFGYE3NN&pf_rd_s=center-1&pf_rd_t=15506&pf_rd_i=top&ref_=chttp_tt_76')\n",
    "# Get movie Title, year, classification and rating link.\n",
    "title = movie_page.find('h1', 'TitleHeader__TitleText-sc-1wu6n3d-0').text.strip()\n",
    "print(index, title)\n",
    "year_rat_time = list()\n",
    "year_rat_time_header = ['Year', 'Certification', 'Duration']\n",
    "dic = {title: catch(lambda : x.contents[0].text, handle=lambda : x.text) for x , title in zip(movie_page.find('div', 'TitleBlock__TitleMetaDataContainer-sc-1nlhx7j-2 hWHMKr').find('ul'), year_rat_time_header)}\n",
    "rating_url= URL+movie_page.find('a', 'ipc-button ipc-button--single-padding ipc-button--center-align-content ipc-button--default-height ipc-button--core-baseAlt ipc-button--theme-baseAlt ipc-button--on-textPrimary ipc-text-button RatingBarButtonBase__Button-sc-15v8ssr-2 jjcqHZ')['href']\n",
    "dic['Title']=title\n",
    "data = pd.DataFrame([dic])\n",
    "\n",
    "print()\n",
    "\n",
    "page = request_url(rating_url)\n",
    "\n",
    "\n",
    "\n",
    "table = page(text='Rating By Demographic')[0].parent.find_next_sibling().find_next_sibling()\n",
    "lst = list()\n",
    "header = ['All', '<18', '18-29', '30-44', '45+']\n",
    "for i in range(1,4):\n",
    "    lst.append({j:x.text.strip() for x, j in zip(table.find_all('tr')[i].find_all('a'), header)})\n",
    "total = pd.DataFrame.from_dict(({'All': lst[0]}))\n",
    "male = pd.DataFrame({'Male': lst[1]})\n",
    "female = pd.DataFrame({'Female': lst[2]})\n",
    "total = helper(total)\n",
    "male = helper(male)\n",
    "female = helper(female)\n",
    "result = total.join([male, female])\n",
    "\n",
    "\n",
    "\n",
    "data.columns = pd.MultiIndex.from_tuples([('Year',''),('Certification',''),('Duration',''),('Title','')])\n",
    "\n",
    "df_list.append(pd.concat([data,result], axis=1))\n"
   ]
  },
  {
   "cell_type": "code",
   "execution_count": 28,
   "id": "280c278d",
   "metadata": {
    "ExecuteTime": {
     "end_time": "2021-10-14T00:04:37.310331Z",
     "start_time": "2021-10-14T00:04:37.281605Z"
    }
   },
   "outputs": [
    {
     "data": {
      "text/html": [
       "<div>\n",
       "<style scoped>\n",
       "    .dataframe tbody tr th:only-of-type {\n",
       "        vertical-align: middle;\n",
       "    }\n",
       "\n",
       "    .dataframe tbody tr th {\n",
       "        vertical-align: top;\n",
       "    }\n",
       "\n",
       "    .dataframe thead tr th {\n",
       "        text-align: left;\n",
       "    }\n",
       "</style>\n",
       "<table border=\"1\" class=\"dataframe\">\n",
       "  <thead>\n",
       "    <tr>\n",
       "      <th></th>\n",
       "      <th>Year</th>\n",
       "      <th>Certification</th>\n",
       "      <th>Duration</th>\n",
       "      <th>Title</th>\n",
       "      <th colspan=\"5\" halign=\"left\">All</th>\n",
       "      <th colspan=\"5\" halign=\"left\">Male</th>\n",
       "      <th colspan=\"5\" halign=\"left\">Female</th>\n",
       "    </tr>\n",
       "    <tr>\n",
       "      <th></th>\n",
       "      <th></th>\n",
       "      <th></th>\n",
       "      <th></th>\n",
       "      <th></th>\n",
       "      <th>All</th>\n",
       "      <th>&lt;18</th>\n",
       "      <th>18-29</th>\n",
       "      <th>30-44</th>\n",
       "      <th>45+</th>\n",
       "      <th>All</th>\n",
       "      <th>&lt;18</th>\n",
       "      <th>18-29</th>\n",
       "      <th>30-44</th>\n",
       "      <th>45+</th>\n",
       "      <th>All</th>\n",
       "      <th>&lt;18</th>\n",
       "      <th>18-29</th>\n",
       "      <th>30-44</th>\n",
       "      <th>45+</th>\n",
       "    </tr>\n",
       "  </thead>\n",
       "  <tbody>\n",
       "    <tr>\n",
       "      <th>0</th>\n",
       "      <td>2019</td>\n",
       "      <td>PG-13</td>\n",
       "      <td>3h 1min</td>\n",
       "      <td>Avengers: Endgame</td>\n",
       "      <td>946,224</td>\n",
       "      <td>2,165</td>\n",
       "      <td>178,565</td>\n",
       "      <td>243,073</td>\n",
       "      <td>62,167</td>\n",
       "      <td>451,559</td>\n",
       "      <td>1,374</td>\n",
       "      <td>135,607</td>\n",
       "      <td>199,738</td>\n",
       "      <td>50,448</td>\n",
       "      <td>80,892</td>\n",
       "      <td>380</td>\n",
       "      <td>26,805</td>\n",
       "      <td>33,696</td>\n",
       "      <td>9,143</td>\n",
       "    </tr>\n",
       "  </tbody>\n",
       "</table>\n",
       "</div>"
      ],
      "text/plain": [
       "   Year Certification Duration              Title      All                  \\\n",
       "                                                       All    <18    18-29   \n",
       "0  2019         PG-13  3h 1min  Avengers: Endgame  946,224  2,165  178,565   \n",
       "\n",
       "                       Male                                   Female       \\\n",
       "     30-44     45+      All    <18    18-29    30-44     45+     All  <18   \n",
       "0  243,073  62,167  451,559  1,374  135,607  199,738  50,448  80,892  380   \n",
       "\n",
       "                          \n",
       "    18-29   30-44    45+  \n",
       "0  26,805  33,696  9,143  "
      ]
     },
     "execution_count": 28,
     "metadata": {},
     "output_type": "execute_result"
    }
   ],
   "source": [
    "df_list[-1]"
   ]
  },
  {
   "cell_type": "markdown",
   "id": "ae8e535d",
   "metadata": {
    "ExecuteTime": {
     "end_time": "2021-10-12T23:45:02.946885Z",
     "start_time": "2021-10-12T23:45:02.942163Z"
    }
   },
   "source": [
    "The difference in the counts is because only some IMDb users have chosen to provide age, gender and country information when registering for IMDb. Since this information is optional, we cannot assign every vote to every category.\n",
    "\n"
   ]
  },
  {
   "cell_type": "code",
   "execution_count": 9,
   "id": "84df2e9e",
   "metadata": {
    "ExecuteTime": {
     "end_time": "2021-10-13T23:20:58.698467Z",
     "start_time": "2021-10-13T23:20:58.695562Z"
    }
   },
   "outputs": [],
   "source": [
    "def helper(df:pd.DataFrame()):\n",
    "    header = ['All', '<18', '18-29', '30-44', '45+']\n",
    "    df = df.T[header]\n",
    "    df.columns = pd.MultiIndex.from_product([df.index,df.columns])\n",
    "    return df.reset_index(drop=True)"
   ]
  },
  {
   "cell_type": "code",
   "execution_count": 10,
   "id": "e96bf3dc",
   "metadata": {
    "ExecuteTime": {
     "end_time": "2021-10-13T23:20:58.713974Z",
     "start_time": "2021-10-13T23:20:58.699429Z"
    }
   },
   "outputs": [],
   "source": []
  },
  {
   "cell_type": "code",
   "execution_count": 12,
   "id": "707fc1e9",
   "metadata": {
    "ExecuteTime": {
     "end_time": "2021-10-13T23:20:58.726633Z",
     "start_time": "2021-10-13T23:20:58.720072Z"
    }
   },
   "outputs": [
    {
     "data": {
      "text/html": [
       "<div>\n",
       "<style scoped>\n",
       "    .dataframe tbody tr th:only-of-type {\n",
       "        vertical-align: middle;\n",
       "    }\n",
       "\n",
       "    .dataframe tbody tr th {\n",
       "        vertical-align: top;\n",
       "    }\n",
       "\n",
       "    .dataframe thead tr th {\n",
       "        text-align: left;\n",
       "    }\n",
       "</style>\n",
       "<table border=\"1\" class=\"dataframe\">\n",
       "  <thead>\n",
       "    <tr>\n",
       "      <th></th>\n",
       "      <th>Year</th>\n",
       "      <th>Certification</th>\n",
       "      <th>Duration</th>\n",
       "      <th>Title</th>\n",
       "    </tr>\n",
       "    <tr>\n",
       "      <th></th>\n",
       "      <th></th>\n",
       "      <th></th>\n",
       "      <th></th>\n",
       "      <th></th>\n",
       "    </tr>\n",
       "  </thead>\n",
       "  <tbody>\n",
       "    <tr>\n",
       "      <th>0</th>\n",
       "      <td>1994</td>\n",
       "      <td>R12</td>\n",
       "      <td>2h 22min</td>\n",
       "      <td>The Shawshank Redemption</td>\n",
       "    </tr>\n",
       "  </tbody>\n",
       "</table>\n",
       "</div>"
      ],
      "text/plain": [
       "   Year Certification  Duration                     Title\n",
       "                                                         \n",
       "0  1994           R12  2h 22min  The Shawshank Redemption"
      ]
     },
     "execution_count": 12,
     "metadata": {},
     "output_type": "execute_result"
    }
   ],
   "source": [
    "data"
   ]
  },
  {
   "cell_type": "code",
   "execution_count": 13,
   "id": "fc571a98",
   "metadata": {
    "ExecuteTime": {
     "end_time": "2021-10-13T23:20:58.741122Z",
     "start_time": "2021-10-13T23:20:58.728659Z"
    }
   },
   "outputs": [
    {
     "data": {
      "text/html": [
       "<div>\n",
       "<style scoped>\n",
       "    .dataframe tbody tr th:only-of-type {\n",
       "        vertical-align: middle;\n",
       "    }\n",
       "\n",
       "    .dataframe tbody tr th {\n",
       "        vertical-align: top;\n",
       "    }\n",
       "\n",
       "    .dataframe thead tr th {\n",
       "        text-align: left;\n",
       "    }\n",
       "</style>\n",
       "<table border=\"1\" class=\"dataframe\">\n",
       "  <thead>\n",
       "    <tr>\n",
       "      <th></th>\n",
       "      <th>Year</th>\n",
       "      <th>Certification</th>\n",
       "      <th>Duration</th>\n",
       "      <th>Title</th>\n",
       "      <th colspan=\"5\" halign=\"left\">All</th>\n",
       "      <th colspan=\"5\" halign=\"left\">Male</th>\n",
       "      <th colspan=\"5\" halign=\"left\">Female</th>\n",
       "    </tr>\n",
       "    <tr>\n",
       "      <th></th>\n",
       "      <th></th>\n",
       "      <th></th>\n",
       "      <th></th>\n",
       "      <th></th>\n",
       "      <th>All</th>\n",
       "      <th>&lt;18</th>\n",
       "      <th>18-29</th>\n",
       "      <th>30-44</th>\n",
       "      <th>45+</th>\n",
       "      <th>All</th>\n",
       "      <th>&lt;18</th>\n",
       "      <th>18-29</th>\n",
       "      <th>30-44</th>\n",
       "      <th>45+</th>\n",
       "      <th>All</th>\n",
       "      <th>&lt;18</th>\n",
       "      <th>18-29</th>\n",
       "      <th>30-44</th>\n",
       "      <th>45+</th>\n",
       "    </tr>\n",
       "  </thead>\n",
       "  <tbody>\n",
       "    <tr>\n",
       "      <th>0</th>\n",
       "      <td>1994</td>\n",
       "      <td>R12</td>\n",
       "      <td>2h 22min</td>\n",
       "      <td>The Shawshank Redemption</td>\n",
       "      <td>2,472,392</td>\n",
       "      <td>1,430</td>\n",
       "      <td>422,835</td>\n",
       "      <td>950,193</td>\n",
       "      <td>238,057</td>\n",
       "      <td>1,438,102</td>\n",
       "      <td>1,020</td>\n",
       "      <td>334,000</td>\n",
       "      <td>789,777</td>\n",
       "      <td>192,714</td>\n",
       "      <td>286,033</td>\n",
       "      <td>225</td>\n",
       "      <td>76,534</td>\n",
       "      <td>145,901</td>\n",
       "      <td>40,194</td>\n",
       "    </tr>\n",
       "  </tbody>\n",
       "</table>\n",
       "</div>"
      ],
      "text/plain": [
       "   Year Certification  Duration                     Title        All         \\\n",
       "                                                                 All    <18   \n",
       "0  1994           R12  2h 22min  The Shawshank Redemption  2,472,392  1,430   \n",
       "\n",
       "                                   Male                                    \\\n",
       "     18-29    30-44      45+        All    <18    18-29    30-44      45+   \n",
       "0  422,835  950,193  238,057  1,438,102  1,020  334,000  789,777  192,714   \n",
       "\n",
       "    Female                                \n",
       "       All  <18   18-29    30-44     45+  \n",
       "0  286,033  225  76,534  145,901  40,194  "
      ]
     },
     "execution_count": 13,
     "metadata": {},
     "output_type": "execute_result"
    }
   ],
   "source": [
    "w"
   ]
  },
  {
   "cell_type": "code",
   "execution_count": null,
   "id": "0fecba6f",
   "metadata": {},
   "outputs": [],
   "source": []
  }
 ],
 "metadata": {
  "kernelspec": {
   "display_name": "Python 3.8.8 64-bit ('base': conda)",
   "language": "python",
   "name": "python388jvsc74a57bd011ef33b601587caca72001ca459a3179111f6f034e554293e5e06d6e923ce863"
  },
  "language_info": {
   "codemirror_mode": {
    "name": "ipython",
    "version": 3
   },
   "file_extension": ".py",
   "mimetype": "text/x-python",
   "name": "python",
   "nbconvert_exporter": "python",
   "pygments_lexer": "ipython3",
   "version": "3.8.8"
  },
  "toc": {
   "base_numbering": 1,
   "nav_menu": {},
   "number_sections": true,
   "sideBar": true,
   "skip_h1_title": false,
   "title_cell": "Table of Contents",
   "title_sidebar": "Contents",
   "toc_cell": false,
   "toc_position": {},
   "toc_section_display": true,
   "toc_window_display": false
  }
 },
 "nbformat": 4,
 "nbformat_minor": 5
}
