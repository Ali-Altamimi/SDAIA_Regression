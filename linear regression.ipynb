{
 "cells": [
  {
   "cell_type": "markdown",
   "id": "2a6f0755",
   "metadata": {},
   "source": [
    "# Predicting Games Rating Score"
   ]
  },
  {
   "cell_type": "markdown",
   "id": "4cf7fd7e",
   "metadata": {},
   "source": [
    "In this project we are applying machine learning algorithms to predicts VGChartz rating scores for games. To achinve the best result possible we need to pick the best model that fit the data. The algorithms that we are planning to use are Linear Rigresson, Lasso and Ridge."
   ]
  },
  {
   "cell_type": "markdown",
   "id": "2ddb9faf",
   "metadata": {},
   "source": [
    "## Imporing Libraries"
   ]
  },
  {
   "cell_type": "code",
   "execution_count": 1,
   "id": "a6acefcb",
   "metadata": {
    "ExecuteTime": {
     "end_time": "2021-10-23T16:23:19.226413Z",
     "start_time": "2021-10-23T16:23:19.217797Z"
    },
    "pycharm": {
     "name": "#%%\n"
    }
   },
   "outputs": [],
   "source": [
    "from utilities.VGChartz import get_games_data\n",
    "import seaborn as sns\n",
    "sns.set_style(\"darkgrid\")\n",
    "\n",
    "from sklearn.model_selection import train_test_split\n",
    "from sklearn.linear_model import LinearRegression\n",
    "from sklearn.metrics import r2_score\n",
    "from rich import print\n",
    "import pandas as pd\n",
    "import numpy as np\n",
    "from sklearn.preprocessing import PolynomialFeatures\n",
    "from sklearn import linear_model\n",
    "\n",
    "\n",
    "from sklearn.linear_model import Lasso, Ridge, ElasticNet,LassoCV,RidgeCV\n",
    "\n",
    "from sklearn.model_selection import cross_val_score, train_test_split,KFold, GridSearchCV\n"
   ]
  },
  {
   "cell_type": "markdown",
   "id": "bdbbc934",
   "metadata": {},
   "source": [
    "## Get VGChartz data \n",
    "by calling `get_games_data` which scrap the data from VGChartz if the `/data/VGChartz.csv` file is not exsist."
   ]
  },
  {
   "cell_type": "code",
   "execution_count": 2,
   "id": "ab7063bc",
   "metadata": {
    "ExecuteTime": {
     "end_time": "2021-10-23T16:23:19.863066Z",
     "start_time": "2021-10-23T16:23:19.800580Z"
    }
   },
   "outputs": [],
   "source": [
    "df = get_games_data()\n",
    "df_ratings = pd.read_csv('data/Video_Games_Sales_as_at_22_Dec_2016.csv')"
   ]
  },
  {
   "cell_type": "code",
   "execution_count": 3,
   "id": "f0adf02a",
   "metadata": {},
   "outputs": [],
   "source": [
    "df['Game'] = [x.split('    Read the review')[0] for x in df['Game']]"
   ]
  },
  {
   "cell_type": "code",
   "execution_count": 4,
   "id": "f3e38f8c",
   "metadata": {},
   "outputs": [
    {
     "data": {
      "text/html": [
       "<div>\n",
       "<style scoped>\n",
       "    .dataframe tbody tr th:only-of-type {\n",
       "        vertical-align: middle;\n",
       "    }\n",
       "\n",
       "    .dataframe tbody tr th {\n",
       "        vertical-align: top;\n",
       "    }\n",
       "\n",
       "    .dataframe thead th {\n",
       "        text-align: right;\n",
       "    }\n",
       "</style>\n",
       "<table border=\"1\" class=\"dataframe\">\n",
       "  <thead>\n",
       "    <tr style=\"text-align: right;\">\n",
       "      <th></th>\n",
       "      <th>Name</th>\n",
       "      <th>Platform</th>\n",
       "      <th>Year_of_Release</th>\n",
       "      <th>Genre</th>\n",
       "      <th>Publisher</th>\n",
       "      <th>NA_Sales</th>\n",
       "      <th>EU_Sales</th>\n",
       "      <th>JP_Sales</th>\n",
       "      <th>Other_Sales</th>\n",
       "      <th>Global_Sales</th>\n",
       "      <th>Critic_Score</th>\n",
       "      <th>Critic_Count</th>\n",
       "      <th>User_Score</th>\n",
       "      <th>User_Count</th>\n",
       "      <th>Developer</th>\n",
       "      <th>Rating</th>\n",
       "    </tr>\n",
       "  </thead>\n",
       "  <tbody>\n",
       "    <tr>\n",
       "      <th>0</th>\n",
       "      <td>Wii Sports</td>\n",
       "      <td>Wii</td>\n",
       "      <td>2006.0</td>\n",
       "      <td>Sports</td>\n",
       "      <td>Nintendo</td>\n",
       "      <td>41.36</td>\n",
       "      <td>28.96</td>\n",
       "      <td>3.77</td>\n",
       "      <td>8.45</td>\n",
       "      <td>82.53</td>\n",
       "      <td>76.0</td>\n",
       "      <td>51.0</td>\n",
       "      <td>8</td>\n",
       "      <td>322.0</td>\n",
       "      <td>Nintendo</td>\n",
       "      <td>E</td>\n",
       "    </tr>\n",
       "    <tr>\n",
       "      <th>1</th>\n",
       "      <td>Super Mario Bros.</td>\n",
       "      <td>NES</td>\n",
       "      <td>1985.0</td>\n",
       "      <td>Platform</td>\n",
       "      <td>Nintendo</td>\n",
       "      <td>29.08</td>\n",
       "      <td>3.58</td>\n",
       "      <td>6.81</td>\n",
       "      <td>0.77</td>\n",
       "      <td>40.24</td>\n",
       "      <td>NaN</td>\n",
       "      <td>NaN</td>\n",
       "      <td>NaN</td>\n",
       "      <td>NaN</td>\n",
       "      <td>NaN</td>\n",
       "      <td>NaN</td>\n",
       "    </tr>\n",
       "    <tr>\n",
       "      <th>2</th>\n",
       "      <td>Mario Kart Wii</td>\n",
       "      <td>Wii</td>\n",
       "      <td>2008.0</td>\n",
       "      <td>Racing</td>\n",
       "      <td>Nintendo</td>\n",
       "      <td>15.68</td>\n",
       "      <td>12.76</td>\n",
       "      <td>3.79</td>\n",
       "      <td>3.29</td>\n",
       "      <td>35.52</td>\n",
       "      <td>82.0</td>\n",
       "      <td>73.0</td>\n",
       "      <td>8.3</td>\n",
       "      <td>709.0</td>\n",
       "      <td>Nintendo</td>\n",
       "      <td>E</td>\n",
       "    </tr>\n",
       "    <tr>\n",
       "      <th>3</th>\n",
       "      <td>Wii Sports Resort</td>\n",
       "      <td>Wii</td>\n",
       "      <td>2009.0</td>\n",
       "      <td>Sports</td>\n",
       "      <td>Nintendo</td>\n",
       "      <td>15.61</td>\n",
       "      <td>10.93</td>\n",
       "      <td>3.28</td>\n",
       "      <td>2.95</td>\n",
       "      <td>32.77</td>\n",
       "      <td>80.0</td>\n",
       "      <td>73.0</td>\n",
       "      <td>8</td>\n",
       "      <td>192.0</td>\n",
       "      <td>Nintendo</td>\n",
       "      <td>E</td>\n",
       "    </tr>\n",
       "    <tr>\n",
       "      <th>4</th>\n",
       "      <td>Pokemon Red/Pokemon Blue</td>\n",
       "      <td>GB</td>\n",
       "      <td>1996.0</td>\n",
       "      <td>Role-Playing</td>\n",
       "      <td>Nintendo</td>\n",
       "      <td>11.27</td>\n",
       "      <td>8.89</td>\n",
       "      <td>10.22</td>\n",
       "      <td>1.00</td>\n",
       "      <td>31.37</td>\n",
       "      <td>NaN</td>\n",
       "      <td>NaN</td>\n",
       "      <td>NaN</td>\n",
       "      <td>NaN</td>\n",
       "      <td>NaN</td>\n",
       "      <td>NaN</td>\n",
       "    </tr>\n",
       "  </tbody>\n",
       "</table>\n",
       "</div>"
      ],
      "text/plain": [
       "                       Name Platform  Year_of_Release         Genre Publisher  \\\n",
       "0                Wii Sports      Wii           2006.0        Sports  Nintendo   \n",
       "1         Super Mario Bros.      NES           1985.0      Platform  Nintendo   \n",
       "2            Mario Kart Wii      Wii           2008.0        Racing  Nintendo   \n",
       "3         Wii Sports Resort      Wii           2009.0        Sports  Nintendo   \n",
       "4  Pokemon Red/Pokemon Blue       GB           1996.0  Role-Playing  Nintendo   \n",
       "\n",
       "   NA_Sales  EU_Sales  JP_Sales  Other_Sales  Global_Sales  Critic_Score  \\\n",
       "0     41.36     28.96      3.77         8.45         82.53          76.0   \n",
       "1     29.08      3.58      6.81         0.77         40.24           NaN   \n",
       "2     15.68     12.76      3.79         3.29         35.52          82.0   \n",
       "3     15.61     10.93      3.28         2.95         32.77          80.0   \n",
       "4     11.27      8.89     10.22         1.00         31.37           NaN   \n",
       "\n",
       "   Critic_Count User_Score  User_Count Developer Rating  \n",
       "0          51.0          8       322.0  Nintendo      E  \n",
       "1           NaN        NaN         NaN       NaN    NaN  \n",
       "2          73.0        8.3       709.0  Nintendo      E  \n",
       "3          73.0          8       192.0  Nintendo      E  \n",
       "4           NaN        NaN         NaN       NaN    NaN  "
      ]
     },
     "execution_count": 4,
     "metadata": {},
     "output_type": "execute_result"
    }
   ],
   "source": [
    "df_ratings.head()"
   ]
  },
  {
   "cell_type": "code",
   "execution_count": 5,
   "id": "1a30595e",
   "metadata": {},
   "outputs": [
    {
     "data": {
      "text/plain": [
       "'Super Mario Galaxy'"
      ]
     },
     "execution_count": 5,
     "metadata": {},
     "output_type": "execute_result"
    }
   ],
   "source": [
    "df.Game[0]"
   ]
  },
  {
   "cell_type": "code",
   "execution_count": 6,
   "id": "99daebbd",
   "metadata": {},
   "outputs": [
    {
     "data": {
      "text/html": [
       "<div>\n",
       "<style scoped>\n",
       "    .dataframe tbody tr th:only-of-type {\n",
       "        vertical-align: middle;\n",
       "    }\n",
       "\n",
       "    .dataframe tbody tr th {\n",
       "        vertical-align: top;\n",
       "    }\n",
       "\n",
       "    .dataframe thead th {\n",
       "        text-align: right;\n",
       "    }\n",
       "</style>\n",
       "<table border=\"1\" class=\"dataframe\">\n",
       "  <thead>\n",
       "    <tr style=\"text-align: right;\">\n",
       "      <th></th>\n",
       "      <th>Name</th>\n",
       "      <th>Platform</th>\n",
       "      <th>Year_of_Release</th>\n",
       "      <th>Genre</th>\n",
       "      <th>Publisher</th>\n",
       "      <th>NA_Sales</th>\n",
       "      <th>EU_Sales</th>\n",
       "      <th>JP_Sales</th>\n",
       "      <th>Other_Sales</th>\n",
       "      <th>Global_Sales</th>\n",
       "      <th>Critic_Score</th>\n",
       "      <th>Critic_Count</th>\n",
       "      <th>User_Score</th>\n",
       "      <th>User_Count</th>\n",
       "      <th>Developer</th>\n",
       "      <th>Rating</th>\n",
       "    </tr>\n",
       "  </thead>\n",
       "  <tbody>\n",
       "    <tr>\n",
       "      <th>49</th>\n",
       "      <td>Super Mario Galaxy</td>\n",
       "      <td>Wii</td>\n",
       "      <td>2007.0</td>\n",
       "      <td>Platform</td>\n",
       "      <td>Nintendo</td>\n",
       "      <td>6.06</td>\n",
       "      <td>3.35</td>\n",
       "      <td>1.2</td>\n",
       "      <td>0.74</td>\n",
       "      <td>11.35</td>\n",
       "      <td>97.0</td>\n",
       "      <td>73.0</td>\n",
       "      <td>8.9</td>\n",
       "      <td>2147.0</td>\n",
       "      <td>Nintendo</td>\n",
       "      <td>E</td>\n",
       "    </tr>\n",
       "  </tbody>\n",
       "</table>\n",
       "</div>"
      ],
      "text/plain": [
       "                  Name Platform  Year_of_Release     Genre Publisher  \\\n",
       "49  Super Mario Galaxy      Wii           2007.0  Platform  Nintendo   \n",
       "\n",
       "    NA_Sales  EU_Sales  JP_Sales  Other_Sales  Global_Sales  Critic_Score  \\\n",
       "49      6.06      3.35       1.2         0.74         11.35          97.0   \n",
       "\n",
       "    Critic_Count User_Score  User_Count Developer Rating  \n",
       "49          73.0        8.9      2147.0  Nintendo      E  "
      ]
     },
     "execution_count": 6,
     "metadata": {},
     "output_type": "execute_result"
    }
   ],
   "source": [
    "df_ratings[df_ratings['Name'] == 'Super Mario Galaxy']"
   ]
  },
  {
   "cell_type": "code",
   "execution_count": 7,
   "id": "9b65bee3",
   "metadata": {},
   "outputs": [
    {
     "data": {
      "text/html": [
       "<div>\n",
       "<style scoped>\n",
       "    .dataframe tbody tr th:only-of-type {\n",
       "        vertical-align: middle;\n",
       "    }\n",
       "\n",
       "    .dataframe tbody tr th {\n",
       "        vertical-align: top;\n",
       "    }\n",
       "\n",
       "    .dataframe thead th {\n",
       "        text-align: right;\n",
       "    }\n",
       "</style>\n",
       "<table border=\"1\" class=\"dataframe\">\n",
       "  <thead>\n",
       "    <tr style=\"text-align: right;\">\n",
       "      <th></th>\n",
       "      <th>ID</th>\n",
       "      <th>Game</th>\n",
       "      <th>Genre</th>\n",
       "      <th>Console</th>\n",
       "      <th>Publisher</th>\n",
       "      <th>Developer</th>\n",
       "      <th>VGChartz Score</th>\n",
       "      <th>Critic Score</th>\n",
       "      <th>User Score</th>\n",
       "      <th>Total Shipped</th>\n",
       "      <th>Total Sales</th>\n",
       "      <th>NA Sales</th>\n",
       "      <th>PAL Sales</th>\n",
       "      <th>Japan Sales</th>\n",
       "      <th>Other Sales</th>\n",
       "      <th>Release Date</th>\n",
       "      <th>Last Update</th>\n",
       "    </tr>\n",
       "  </thead>\n",
       "  <tbody>\n",
       "    <tr>\n",
       "      <th>0</th>\n",
       "      <td>6963</td>\n",
       "      <td>Super Mario Galaxy</td>\n",
       "      <td>Platform</td>\n",
       "      <td>Wii</td>\n",
       "      <td>Nintendo</td>\n",
       "      <td>Nintendo EAD Tokyo</td>\n",
       "      <td>9.6</td>\n",
       "      <td>9.7</td>\n",
       "      <td>9.6</td>\n",
       "      <td>12.80m</td>\n",
       "      <td>NaN</td>\n",
       "      <td>NaN</td>\n",
       "      <td>NaN</td>\n",
       "      <td>NaN</td>\n",
       "      <td>NaN</td>\n",
       "      <td>12th Nov 07</td>\n",
       "      <td>NaN</td>\n",
       "    </tr>\n",
       "  </tbody>\n",
       "</table>\n",
       "</div>"
      ],
      "text/plain": [
       "     ID                Game     Genre Console Publisher           Developer  \\\n",
       "0  6963  Super Mario Galaxy  Platform     Wii  Nintendo  Nintendo EAD Tokyo   \n",
       "\n",
       "   VGChartz Score  Critic Score  User Score Total Shipped Total Sales  \\\n",
       "0             9.6           9.7         9.6        12.80m         NaN   \n",
       "\n",
       "  NA Sales PAL Sales Japan Sales Other Sales Release Date Last Update  \n",
       "0      NaN       NaN         NaN         NaN  12th Nov 07         NaN  "
      ]
     },
     "execution_count": 7,
     "metadata": {},
     "output_type": "execute_result"
    }
   ],
   "source": [
    "df[df['Game'] == 'Super Mario Galaxy']"
   ]
  },
  {
   "cell_type": "code",
   "execution_count": 8,
   "id": "cd57d74b",
   "metadata": {},
   "outputs": [],
   "source": [
    "x = df.merge(df_ratings[['Rating', 'Year_of_Release', 'User_Count',\n",
    "                         'Critic_Count', 'Global_Sales', 'Name', 'Platform']], \n",
    "         left_on=['Game', 'Console'],\n",
    "         right_on=['Name', 'Platform'])"
   ]
  },
  {
   "cell_type": "code",
   "execution_count": 9,
   "id": "d891a49b",
   "metadata": {},
   "outputs": [],
   "source": [
    "new_df = x.dropna(subset=['Rating'])[['ID', 'Name', 'Genre', 'Console', 'Rating', 'Global_Sales', 'VGChartz Score', 'Critic Score', 'Critic_Count', 'User Score', 'User_Count', 'Release Date']]\n"
   ]
  },
  {
   "cell_type": "markdown",
   "id": "c25f885f",
   "metadata": {
    "ExecuteTime": {
     "end_time": "2021-10-21T23:52:12.388947Z",
     "start_time": "2021-10-21T23:52:12.385695Z"
    }
   },
   "source": [
    "## Cleaning VGChartz Data"
   ]
  },
  {
   "cell_type": "code",
   "execution_count": 10,
   "id": "e288c2fe",
   "metadata": {
    "ExecuteTime": {
     "end_time": "2021-10-23T16:23:20.869366Z",
     "start_time": "2021-10-23T16:23:20.814903Z"
    }
   },
   "outputs": [],
   "source": [
    "# Creating new Feature called Score by taking the average of the three type of scores\n",
    "temp = new_df[['VGChartz Score', 'Critic Score', 'User Score']]\n",
    "temp=temp.T.fillna(temp.T.mean()).T\n",
    "new_df[['VGChartz Score', 'Critic Score', 'User Score']] = temp\n",
    "new_df['Score'] = (new_df['VGChartz Score'] +new_df['Critic Score'] + new_df['User Score'])/3\n",
    "new_df =new_df.dropna(subset=['Score'])\n",
    "new_df['User_Count'] = new_df['User_Count'].fillna(new_df['User_Count'].mean())\n",
    "new_df['Critic_Count'] = new_df['Critic_Count'].fillna(new_df['Critic_Count'].mean())"
   ]
  },
  {
   "cell_type": "code",
   "execution_count": 11,
   "id": "ea157cf7",
   "metadata": {
    "ExecuteTime": {
     "end_time": "2021-10-23T16:23:20.995447Z",
     "start_time": "2021-10-23T16:23:20.983952Z"
    }
   },
   "outputs": [],
   "source": [
    "new_df['Release Date'] = [int(x.split(' ')[-1]) +2000 for x in new_df['Release Date']]\n",
    "new_df['Global_Sales'] = new_df['Global_Sales'] * 10**3"
   ]
  },
  {
   "cell_type": "code",
   "execution_count": 12,
   "id": "5847341a",
   "metadata": {
    "ExecuteTime": {
     "end_time": "2021-10-23T16:23:21.122848Z",
     "start_time": "2021-10-23T16:23:21.115482Z"
    }
   },
   "outputs": [],
   "source": [
    "new_df['Release Date'] = new_df['Release Date'] -new_df['Release Date'].min()"
   ]
  },
  {
   "cell_type": "code",
   "execution_count": 13,
   "id": "d130e006",
   "metadata": {
    "ExecuteTime": {
     "end_time": "2021-10-23T16:23:21.417947Z",
     "start_time": "2021-10-23T16:23:21.411104Z"
    }
   },
   "outputs": [
    {
     "data": {
      "text/plain": [
       "20.0"
      ]
     },
     "execution_count": 13,
     "metadata": {},
     "output_type": "execute_result"
    }
   ],
   "source": [
    "new_df['Global_Sales'].min()"
   ]
  },
  {
   "cell_type": "code",
   "execution_count": 14,
   "id": "4d909894",
   "metadata": {},
   "outputs": [],
   "source": [
    "new_df = new_df.loc[:, (new_df.columns != 'Unnamed: 0')]"
   ]
  },
  {
   "cell_type": "code",
   "execution_count": 15,
   "id": "859f68dd",
   "metadata": {
    "ExecuteTime": {
     "end_time": "2021-10-23T16:23:21.635155Z",
     "start_time": "2021-10-23T16:23:21.603699Z"
    }
   },
   "outputs": [
    {
     "data": {
      "text/html": [
       "<div>\n",
       "<style scoped>\n",
       "    .dataframe tbody tr th:only-of-type {\n",
       "        vertical-align: middle;\n",
       "    }\n",
       "\n",
       "    .dataframe tbody tr th {\n",
       "        vertical-align: top;\n",
       "    }\n",
       "\n",
       "    .dataframe thead th {\n",
       "        text-align: right;\n",
       "    }\n",
       "</style>\n",
       "<table border=\"1\" class=\"dataframe\">\n",
       "  <thead>\n",
       "    <tr style=\"text-align: right;\">\n",
       "      <th></th>\n",
       "      <th>ID</th>\n",
       "      <th>Name</th>\n",
       "      <th>Genre</th>\n",
       "      <th>Console</th>\n",
       "      <th>Rating</th>\n",
       "      <th>Global_Sales</th>\n",
       "      <th>VGChartz Score</th>\n",
       "      <th>Critic Score</th>\n",
       "      <th>Critic_Count</th>\n",
       "      <th>User Score</th>\n",
       "      <th>User_Count</th>\n",
       "      <th>Release Date</th>\n",
       "      <th>Score</th>\n",
       "    </tr>\n",
       "  </thead>\n",
       "  <tbody>\n",
       "    <tr>\n",
       "      <th>0</th>\n",
       "      <td>6963</td>\n",
       "      <td>Super Mario Galaxy</td>\n",
       "      <td>Platform</td>\n",
       "      <td>Wii</td>\n",
       "      <td>E</td>\n",
       "      <td>11350.0</td>\n",
       "      <td>9.6</td>\n",
       "      <td>9.7</td>\n",
       "      <td>73.0</td>\n",
       "      <td>9.60</td>\n",
       "      <td>2147.0</td>\n",
       "      <td>6</td>\n",
       "      <td>9.633333</td>\n",
       "    </tr>\n",
       "    <tr>\n",
       "      <th>1</th>\n",
       "      <td>35084</td>\n",
       "      <td>Super Mario Galaxy 2</td>\n",
       "      <td>Platform</td>\n",
       "      <td>Wii</td>\n",
       "      <td>E</td>\n",
       "      <td>7510.0</td>\n",
       "      <td>9.6</td>\n",
       "      <td>9.7</td>\n",
       "      <td>87.0</td>\n",
       "      <td>9.80</td>\n",
       "      <td>1854.0</td>\n",
       "      <td>9</td>\n",
       "      <td>9.700000</td>\n",
       "    </tr>\n",
       "    <tr>\n",
       "      <th>2</th>\n",
       "      <td>6970</td>\n",
       "      <td>Metal Gear Solid 4: Guns of the Patriots</td>\n",
       "      <td>Action</td>\n",
       "      <td>PS3</td>\n",
       "      <td>M</td>\n",
       "      <td>5990.0</td>\n",
       "      <td>9.5</td>\n",
       "      <td>9.3</td>\n",
       "      <td>82.0</td>\n",
       "      <td>9.80</td>\n",
       "      <td>3558.0</td>\n",
       "      <td>7</td>\n",
       "      <td>9.533333</td>\n",
       "    </tr>\n",
       "    <tr>\n",
       "      <th>3</th>\n",
       "      <td>17684</td>\n",
       "      <td>World of Goo</td>\n",
       "      <td>Puzzle</td>\n",
       "      <td>PC</td>\n",
       "      <td>E</td>\n",
       "      <td>40.0</td>\n",
       "      <td>9.5</td>\n",
       "      <td>9.0</td>\n",
       "      <td>26.0</td>\n",
       "      <td>9.25</td>\n",
       "      <td>607.0</td>\n",
       "      <td>7</td>\n",
       "      <td>9.250000</td>\n",
       "    </tr>\n",
       "    <tr>\n",
       "      <th>4</th>\n",
       "      <td>12533</td>\n",
       "      <td>God of War III</td>\n",
       "      <td>Action</td>\n",
       "      <td>PS3</td>\n",
       "      <td>M</td>\n",
       "      <td>4800.0</td>\n",
       "      <td>9.4</td>\n",
       "      <td>9.2</td>\n",
       "      <td>101.0</td>\n",
       "      <td>9.40</td>\n",
       "      <td>2633.0</td>\n",
       "      <td>9</td>\n",
       "      <td>9.333333</td>\n",
       "    </tr>\n",
       "    <tr>\n",
       "      <th>...</th>\n",
       "      <td>...</td>\n",
       "      <td>...</td>\n",
       "      <td>...</td>\n",
       "      <td>...</td>\n",
       "      <td>...</td>\n",
       "      <td>...</td>\n",
       "      <td>...</td>\n",
       "      <td>...</td>\n",
       "      <td>...</td>\n",
       "      <td>...</td>\n",
       "      <td>...</td>\n",
       "      <td>...</td>\n",
       "      <td>...</td>\n",
       "    </tr>\n",
       "    <tr>\n",
       "      <th>427</th>\n",
       "      <td>23754</td>\n",
       "      <td>Velvet Assassin</td>\n",
       "      <td>Shooter</td>\n",
       "      <td>X360</td>\n",
       "      <td>M</td>\n",
       "      <td>180.0</td>\n",
       "      <td>3.2</td>\n",
       "      <td>5.3</td>\n",
       "      <td>46.0</td>\n",
       "      <td>4.25</td>\n",
       "      <td>55.0</td>\n",
       "      <td>8</td>\n",
       "      <td>4.250000</td>\n",
       "    </tr>\n",
       "    <tr>\n",
       "      <th>428</th>\n",
       "      <td>24538</td>\n",
       "      <td>Stormrise</td>\n",
       "      <td>Strategy</td>\n",
       "      <td>PC</td>\n",
       "      <td>M</td>\n",
       "      <td>20.0</td>\n",
       "      <td>3.1</td>\n",
       "      <td>3.1</td>\n",
       "      <td>15.0</td>\n",
       "      <td>3.10</td>\n",
       "      <td>22.0</td>\n",
       "      <td>8</td>\n",
       "      <td>3.100000</td>\n",
       "    </tr>\n",
       "    <tr>\n",
       "      <th>429</th>\n",
       "      <td>17668</td>\n",
       "      <td>NCAA Football 09 All-Play</td>\n",
       "      <td>Sports</td>\n",
       "      <td>Wii</td>\n",
       "      <td>E</td>\n",
       "      <td>160.0</td>\n",
       "      <td>3.0</td>\n",
       "      <td>5.3</td>\n",
       "      <td>5.0</td>\n",
       "      <td>4.15</td>\n",
       "      <td>32.0</td>\n",
       "      <td>7</td>\n",
       "      <td>4.150000</td>\n",
       "    </tr>\n",
       "    <tr>\n",
       "      <th>430</th>\n",
       "      <td>14604</td>\n",
       "      <td>Golden Axe: Beast Rider</td>\n",
       "      <td>Action</td>\n",
       "      <td>PS3</td>\n",
       "      <td>M</td>\n",
       "      <td>320.0</td>\n",
       "      <td>4.5</td>\n",
       "      <td>4.5</td>\n",
       "      <td>30.0</td>\n",
       "      <td>4.50</td>\n",
       "      <td>23.0</td>\n",
       "      <td>7</td>\n",
       "      <td>4.500000</td>\n",
       "    </tr>\n",
       "    <tr>\n",
       "      <th>431</th>\n",
       "      <td>14603</td>\n",
       "      <td>Golden Axe: Beast Rider</td>\n",
       "      <td>Action</td>\n",
       "      <td>X360</td>\n",
       "      <td>M</td>\n",
       "      <td>330.0</td>\n",
       "      <td>5.5</td>\n",
       "      <td>4.0</td>\n",
       "      <td>33.0</td>\n",
       "      <td>7.00</td>\n",
       "      <td>33.0</td>\n",
       "      <td>7</td>\n",
       "      <td>5.500000</td>\n",
       "    </tr>\n",
       "  </tbody>\n",
       "</table>\n",
       "<p>399 rows × 13 columns</p>\n",
       "</div>"
      ],
      "text/plain": [
       "        ID                                      Name     Genre Console Rating  \\\n",
       "0     6963                        Super Mario Galaxy  Platform     Wii      E   \n",
       "1    35084                      Super Mario Galaxy 2  Platform     Wii      E   \n",
       "2     6970  Metal Gear Solid 4: Guns of the Patriots    Action     PS3      M   \n",
       "3    17684                              World of Goo    Puzzle      PC      E   \n",
       "4    12533                            God of War III    Action     PS3      M   \n",
       "..     ...                                       ...       ...     ...    ...   \n",
       "427  23754                           Velvet Assassin   Shooter    X360      M   \n",
       "428  24538                                 Stormrise  Strategy      PC      M   \n",
       "429  17668                 NCAA Football 09 All-Play    Sports     Wii      E   \n",
       "430  14604                   Golden Axe: Beast Rider    Action     PS3      M   \n",
       "431  14603                   Golden Axe: Beast Rider    Action    X360      M   \n",
       "\n",
       "     Global_Sales  VGChartz Score  Critic Score  Critic_Count  User Score  \\\n",
       "0         11350.0             9.6           9.7          73.0        9.60   \n",
       "1          7510.0             9.6           9.7          87.0        9.80   \n",
       "2          5990.0             9.5           9.3          82.0        9.80   \n",
       "3            40.0             9.5           9.0          26.0        9.25   \n",
       "4          4800.0             9.4           9.2         101.0        9.40   \n",
       "..            ...             ...           ...           ...         ...   \n",
       "427         180.0             3.2           5.3          46.0        4.25   \n",
       "428          20.0             3.1           3.1          15.0        3.10   \n",
       "429         160.0             3.0           5.3           5.0        4.15   \n",
       "430         320.0             4.5           4.5          30.0        4.50   \n",
       "431         330.0             5.5           4.0          33.0        7.00   \n",
       "\n",
       "     User_Count  Release Date     Score  \n",
       "0        2147.0             6  9.633333  \n",
       "1        1854.0             9  9.700000  \n",
       "2        3558.0             7  9.533333  \n",
       "3         607.0             7  9.250000  \n",
       "4        2633.0             9  9.333333  \n",
       "..          ...           ...       ...  \n",
       "427        55.0             8  4.250000  \n",
       "428        22.0             8  3.100000  \n",
       "429        32.0             7  4.150000  \n",
       "430        23.0             7  4.500000  \n",
       "431        33.0             7  5.500000  \n",
       "\n",
       "[399 rows x 13 columns]"
      ]
     },
     "execution_count": 15,
     "metadata": {},
     "output_type": "execute_result"
    }
   ],
   "source": [
    "new_df"
   ]
  },
  {
   "cell_type": "code",
   "execution_count": 16,
   "id": "39a5c845",
   "metadata": {
    "ExecuteTime": {
     "end_time": "2021-10-23T16:23:21.771806Z",
     "start_time": "2021-10-23T16:23:21.762886Z"
    }
   },
   "outputs": [],
   "source": [
    "new_df = new_df.loc[:, (new_df.columns != 'User Score')]\n"
   ]
  },
  {
   "cell_type": "code",
   "execution_count": 17,
   "id": "3449082e",
   "metadata": {
    "ExecuteTime": {
     "end_time": "2021-10-23T16:23:22.354647Z",
     "start_time": "2021-10-23T16:23:22.349685Z"
    }
   },
   "outputs": [],
   "source": [
    "new_df = new_df.loc[:, (new_df.columns != 'Critic Score')]\n"
   ]
  },
  {
   "cell_type": "code",
   "execution_count": 18,
   "id": "202a8d4a",
   "metadata": {
    "ExecuteTime": {
     "end_time": "2021-10-23T16:23:22.532856Z",
     "start_time": "2021-10-23T16:23:22.527342Z"
    }
   },
   "outputs": [],
   "source": [
    "new_df = new_df.loc[:, (new_df.columns != 'VGChartz Score')]\n"
   ]
  },
  {
   "cell_type": "code",
   "execution_count": 48,
   "id": "7d0128c3",
   "metadata": {
    "ExecuteTime": {
     "end_time": "2021-10-23T16:23:23.228377Z",
     "start_time": "2021-10-23T16:23:23.221579Z"
    }
   },
   "outputs": [
    {
     "data": {
      "text/plain": [
       "array(['E', 'M', 'T', 'E10+'], dtype=object)"
      ]
     },
     "execution_count": 48,
     "metadata": {},
     "output_type": "execute_result"
    }
   ],
   "source": [
    "new_df.Rating.unique()"
   ]
  },
  {
   "cell_type": "code",
   "execution_count": 20,
   "id": "9dae9ab2",
   "metadata": {
    "ExecuteTime": {
     "end_time": "2021-10-23T16:23:23.627173Z",
     "start_time": "2021-10-23T16:23:23.619045Z"
    }
   },
   "outputs": [
    {
     "data": {
      "text/plain": [
       "array(['Wii', 'PS3', 'PC', 'PS2', 'X360', 'DS', 'GC', 'PSP', 'XOne',\n",
       "       'PSV', '3DS'], dtype=object)"
      ]
     },
     "execution_count": 20,
     "metadata": {},
     "output_type": "execute_result"
    }
   ],
   "source": [
    "new_df.Console.unique()"
   ]
  },
  {
   "cell_type": "code",
   "execution_count": 21,
   "id": "f657fa64",
   "metadata": {
    "ExecuteTime": {
     "end_time": "2021-10-23T16:23:23.810050Z",
     "start_time": "2021-10-23T16:23:23.803246Z"
    }
   },
   "outputs": [
    {
     "data": {
      "text/plain": [
       "array(['Platform', 'Action', 'Puzzle', 'Adventure', 'Role-Playing',\n",
       "       'Shooter', 'Racing', 'Misc', 'Fighting', 'Sports', 'Strategy',\n",
       "       'Music', 'Simulation', 'Action-Adventure', 'Party'], dtype=object)"
      ]
     },
     "execution_count": 21,
     "metadata": {},
     "output_type": "execute_result"
    }
   ],
   "source": [
    "new_df.Genre.unique()"
   ]
  },
  {
   "cell_type": "markdown",
   "id": "d11e92fc",
   "metadata": {},
   "source": [
    "## Spliting Features for testing the corralation"
   ]
  },
  {
   "cell_type": "code",
   "execution_count": 32,
   "id": "573e3bba",
   "metadata": {
    "ExecuteTime": {
     "end_time": "2021-10-23T16:05:25.423915Z",
     "start_time": "2021-10-23T16:05:25.421490Z"
    }
   },
   "outputs": [
    {
     "data": {
      "text/html": [
       "<div>\n",
       "<style scoped>\n",
       "    .dataframe tbody tr th:only-of-type {\n",
       "        vertical-align: middle;\n",
       "    }\n",
       "\n",
       "    .dataframe tbody tr th {\n",
       "        vertical-align: top;\n",
       "    }\n",
       "\n",
       "    .dataframe thead th {\n",
       "        text-align: right;\n",
       "    }\n",
       "</style>\n",
       "<table border=\"1\" class=\"dataframe\">\n",
       "  <thead>\n",
       "    <tr style=\"text-align: right;\">\n",
       "      <th></th>\n",
       "      <th>Genre</th>\n",
       "      <th>Console</th>\n",
       "      <th>Rating</th>\n",
       "      <th>Global_Sales</th>\n",
       "      <th>Critic_Count</th>\n",
       "      <th>User_Count</th>\n",
       "      <th>Release Date</th>\n",
       "      <th>Score</th>\n",
       "    </tr>\n",
       "  </thead>\n",
       "  <tbody>\n",
       "    <tr>\n",
       "      <th>0</th>\n",
       "      <td>Platform</td>\n",
       "      <td>Wii</td>\n",
       "      <td>E</td>\n",
       "      <td>11350.0</td>\n",
       "      <td>73.0</td>\n",
       "      <td>2147.0</td>\n",
       "      <td>6</td>\n",
       "      <td>9.633333</td>\n",
       "    </tr>\n",
       "  </tbody>\n",
       "</table>\n",
       "</div>"
      ],
      "text/plain": [
       "      Genre Console Rating  Global_Sales  Critic_Count  User_Count  \\\n",
       "0  Platform     Wii      E       11350.0          73.0      2147.0   \n",
       "\n",
       "   Release Date     Score  \n",
       "0             6  9.633333  "
      ]
     },
     "execution_count": 32,
     "metadata": {},
     "output_type": "execute_result"
    }
   ],
   "source": [
    "new_df = new_df.loc[:, (new_df.columns != 'ID')]\n",
    "new_df = new_df.loc[:, (new_df.columns != 'Name')]\n",
    "new_df.head(1)"
   ]
  },
  {
   "cell_type": "code",
   "execution_count": 33,
   "id": "315e816b",
   "metadata": {},
   "outputs": [
    {
     "data": {
      "text/html": [
       "<div>\n",
       "<style scoped>\n",
       "    .dataframe tbody tr th:only-of-type {\n",
       "        vertical-align: middle;\n",
       "    }\n",
       "\n",
       "    .dataframe tbody tr th {\n",
       "        vertical-align: top;\n",
       "    }\n",
       "\n",
       "    .dataframe thead th {\n",
       "        text-align: right;\n",
       "    }\n",
       "</style>\n",
       "<table border=\"1\" class=\"dataframe\">\n",
       "  <thead>\n",
       "    <tr style=\"text-align: right;\">\n",
       "      <th></th>\n",
       "      <th>Global_Sales</th>\n",
       "      <th>Critic_Count</th>\n",
       "      <th>User_Count</th>\n",
       "      <th>Release Date</th>\n",
       "      <th>Score</th>\n",
       "    </tr>\n",
       "  </thead>\n",
       "  <tbody>\n",
       "    <tr>\n",
       "      <th>Global_Sales</th>\n",
       "      <td>1.000000</td>\n",
       "      <td>0.351410</td>\n",
       "      <td>0.314267</td>\n",
       "      <td>-0.091466</td>\n",
       "      <td>0.237868</td>\n",
       "    </tr>\n",
       "    <tr>\n",
       "      <th>Critic_Count</th>\n",
       "      <td>0.351410</td>\n",
       "      <td>1.000000</td>\n",
       "      <td>0.476351</td>\n",
       "      <td>0.001368</td>\n",
       "      <td>0.506399</td>\n",
       "    </tr>\n",
       "    <tr>\n",
       "      <th>User_Count</th>\n",
       "      <td>0.314267</td>\n",
       "      <td>0.476351</td>\n",
       "      <td>1.000000</td>\n",
       "      <td>0.017446</td>\n",
       "      <td>0.364064</td>\n",
       "    </tr>\n",
       "    <tr>\n",
       "      <th>Release Date</th>\n",
       "      <td>-0.091466</td>\n",
       "      <td>0.001368</td>\n",
       "      <td>0.017446</td>\n",
       "      <td>1.000000</td>\n",
       "      <td>-0.128027</td>\n",
       "    </tr>\n",
       "    <tr>\n",
       "      <th>Score</th>\n",
       "      <td>0.237868</td>\n",
       "      <td>0.506399</td>\n",
       "      <td>0.364064</td>\n",
       "      <td>-0.128027</td>\n",
       "      <td>1.000000</td>\n",
       "    </tr>\n",
       "  </tbody>\n",
       "</table>\n",
       "</div>"
      ],
      "text/plain": [
       "              Global_Sales  Critic_Count  User_Count  Release Date     Score\n",
       "Global_Sales      1.000000      0.351410    0.314267     -0.091466  0.237868\n",
       "Critic_Count      0.351410      1.000000    0.476351      0.001368  0.506399\n",
       "User_Count        0.314267      0.476351    1.000000      0.017446  0.364064\n",
       "Release Date     -0.091466      0.001368    0.017446      1.000000 -0.128027\n",
       "Score             0.237868      0.506399    0.364064     -0.128027  1.000000"
      ]
     },
     "execution_count": 33,
     "metadata": {},
     "output_type": "execute_result"
    }
   ],
   "source": [
    "new_df.corr()"
   ]
  },
  {
   "cell_type": "code",
   "execution_count": 34,
   "id": "d6e8852f",
   "metadata": {},
   "outputs": [
    {
     "data": {
      "text/plain": [
       "<seaborn.axisgrid.PairGrid at 0x12716e425b0>"
      ]
     },
     "execution_count": 34,
     "metadata": {},
     "output_type": "execute_result"
    },
    {
     "data": {
      "image/png": "[encoded data removed]",
      "text/plain": [
       "<Figure size 900x900 with 30 Axes>"
      ]
     },
     "metadata": {},
     "output_type": "display_data"
    }
   ],
   "source": [
    "sns.pairplot(new_df)"
   ]
  },
  {
   "cell_type": "code",
   "execution_count": 35,
   "id": "9e4bab5d",
   "metadata": {},
   "outputs": [
    {
     "data": {
      "text/html": [
       "<div>\n",
       "<style scoped>\n",
       "    .dataframe tbody tr th:only-of-type {\n",
       "        vertical-align: middle;\n",
       "    }\n",
       "\n",
       "    .dataframe tbody tr th {\n",
       "        vertical-align: top;\n",
       "    }\n",
       "\n",
       "    .dataframe thead th {\n",
       "        text-align: right;\n",
       "    }\n",
       "</style>\n",
       "<table border=\"1\" class=\"dataframe\">\n",
       "  <thead>\n",
       "    <tr style=\"text-align: right;\">\n",
       "      <th></th>\n",
       "      <th>Genre</th>\n",
       "      <th>Console</th>\n",
       "      <th>Rating</th>\n",
       "      <th>Global_Sales</th>\n",
       "      <th>Critic_Count</th>\n",
       "      <th>User_Count</th>\n",
       "      <th>Release Date</th>\n",
       "      <th>Score</th>\n",
       "    </tr>\n",
       "  </thead>\n",
       "  <tbody>\n",
       "    <tr>\n",
       "      <th>0</th>\n",
       "      <td>Platform</td>\n",
       "      <td>Wii</td>\n",
       "      <td>E</td>\n",
       "      <td>11350.0</td>\n",
       "      <td>73.0</td>\n",
       "      <td>2147.0</td>\n",
       "      <td>6</td>\n",
       "      <td>9.633333</td>\n",
       "    </tr>\n",
       "  </tbody>\n",
       "</table>\n",
       "</div>"
      ],
      "text/plain": [
       "      Genre Console Rating  Global_Sales  Critic_Count  User_Count  \\\n",
       "0  Platform     Wii      E       11350.0          73.0      2147.0   \n",
       "\n",
       "   Release Date     Score  \n",
       "0             6  9.633333  "
      ]
     },
     "execution_count": 35,
     "metadata": {},
     "output_type": "execute_result"
    }
   ],
   "source": [
    "new_df.head(1)"
   ]
  },
  {
   "cell_type": "code",
   "execution_count": 36,
   "id": "fbe16f15",
   "metadata": {
    "ExecuteTime": {
     "end_time": "2021-10-23T16:10:58.158344Z",
     "start_time": "2021-10-23T16:10:58.135893Z"
    }
   },
   "outputs": [],
   "source": [
    "big_new_df = new_df.copy()\n",
    "\n",
    "big_new_df = big_new_df.loc[:, (big_new_df.columns != 'Genre')]\n",
    "big_new_df = big_new_df.loc[:, (big_new_df.columns != 'Console')]\n",
    "big_new_df = big_new_df.loc[:, (big_new_df.columns != 'Rating')]\n",
    "\n",
    "big_new_df_Genre1 = pd.get_dummies(new_df['Genre'], columns=['Genre'])\n",
    "big_new_df_Genre = pd.concat([big_new_df, big_new_df_Genre1], axis=1)\n",
    "\n",
    "big_new_df_Rating1 = pd.get_dummies(new_df['Rating'], columns=['Rating'])\n",
    "big_new_df_Rating = pd.concat([big_new_df, big_new_df_Rating1], axis=1)\n",
    "\n",
    "\n",
    "big_new_df_Console1 = pd.get_dummies(new_df['Console'], columns=['Console'])\n",
    "big_new_df_Console = pd.concat([big_new_df, big_new_df_Console1], axis=1)\n",
    "\n",
    "\n",
    "big_new_df_Genre_Console1 = pd.get_dummies(new_df[['Genre','Console']], columns=['Genre','Console'])\n",
    "big_new_df_Genre_Console = pd.concat([big_new_df, big_new_df_Genre_Console1], axis=1)\n",
    "\n",
    "\n",
    "big_new_df_Genre_Rating1 = pd.get_dummies(new_df[['Genre','Rating']], columns=['Genre','Rating'])\n",
    "big_new_df_Genre_Rating = pd.concat([big_new_df, big_new_df_Genre_Rating1], axis=1)\n",
    "\n",
    "\n",
    "big_new_df_Console_Rating1 = pd.get_dummies(new_df[['Console','Rating']], columns=['Console','Rating'])\n",
    "big_new_df_Console_Rating = pd.concat([big_new_df, big_new_df_Console_Rating1], axis=1)\n",
    "\n",
    "\n",
    "big_new_df_Genre_Console_Rating = pd.get_dummies(new_df, columns=['Genre','Console','Rating'])\n",
    "\n",
    "#big_new_df = new_df.copy()\n"
   ]
  },
  {
   "cell_type": "code",
   "execution_count": 37,
   "id": "66968b60",
   "metadata": {
    "ExecuteTime": {
     "end_time": "2021-10-23T16:05:25.469148Z",
     "start_time": "2021-10-23T16:05:25.456521Z"
    }
   },
   "outputs": [
    {
     "name": "stdout",
     "output_type": "stream",
     "text": [
      "<class 'pandas.core.frame.DataFrame'>\n",
      "Int64Index: 399 entries, 0 to 431\n",
      "Data columns (total 5 columns):\n",
      " #   Column        Non-Null Count  Dtype  \n",
      "---  ------        --------------  -----  \n",
      " 0   Global_Sales  399 non-null    float64\n",
      " 1   Critic_Count  399 non-null    float64\n",
      " 2   User_Count    399 non-null    float64\n",
      " 3   Release Date  399 non-null    int64  \n",
      " 4   Score         399 non-null    float64\n",
      "dtypes: float64(4), int64(1)\n",
      "memory usage: 34.9 KB\n"
     ]
    }
   ],
   "source": [
    "big_new_df.info()"
   ]
  },
  {
   "cell_type": "code",
   "execution_count": 38,
   "id": "2702c0a4",
   "metadata": {
    "ExecuteTime": {
     "end_time": "2021-10-23T16:05:25.557424Z",
     "start_time": "2021-10-23T16:05:25.470409Z"
    }
   },
   "outputs": [
    {
     "data": {
      "text/plain": [
       "<AxesSubplot:ylabel='Critic_Count'>"
      ]
     },
     "execution_count": 38,
     "metadata": {},
     "output_type": "execute_result"
    },
    {
     "data": {
      "image/png": "[encoded data removed]",
      "text/plain": [
       "<Figure size 432x288 with 1 Axes>"
      ]
     },
     "metadata": {},
     "output_type": "display_data"
    }
   ],
   "source": [
    "sns.boxplot(y=big_new_df['Critic_Count'])"
   ]
  },
  {
   "cell_type": "markdown",
   "id": "dd310b40",
   "metadata": {},
   "source": [
    "## Creating Models"
   ]
  },
  {
   "cell_type": "code",
   "execution_count": 39,
   "id": "071b1084",
   "metadata": {
    "ExecuteTime": {
     "end_time": "2021-10-23T16:26:12.656836Z",
     "start_time": "2021-10-23T16:26:12.618945Z"
    },
    "code_folding": []
   },
   "outputs": [],
   "source": [
    "def linear_regression_score(X_train, y_train, X_test, y_test):\n",
    "    lr = LinearRegression()\n",
    "    lr.fit(X_train, y_train)\n",
    "    r2 = lr.score(X_test, y_test)\n",
    "    return r2\n",
    "\n",
    "def lasso_score(X_train, y_train, X_test, y_test):\n",
    "    clf = linear_model.Lasso(alpha=0.1)\n",
    "    clf.fit(X_train, y_train)\n",
    "    r2 = clf.score(X_test, y_test)\n",
    "    return r2\n",
    "    \n",
    "def riggid_score(X_train, y_train, X_test, y_test):\n",
    "    clf = Ridge(alpha=1.0)\n",
    "    clf.fit(X_train, y_train)\n",
    "    r2 = clf.score(X_test, y_test)\n",
    "    return r2\n"
   ]
  },
  {
   "cell_type": "markdown",
   "id": "6921449f",
   "metadata": {},
   "source": [
    "### Find the $R^2$ score for all models"
   ]
  },
  {
   "cell_type": "code",
   "execution_count": 40,
   "id": "52c184f2",
   "metadata": {
    "ExecuteTime": {
     "end_time": "2021-10-23T16:26:13.774749Z",
     "start_time": "2021-10-23T16:26:13.765734Z"
    }
   },
   "outputs": [],
   "source": [
    "def find_scores(df, target:str):\n",
    "    df_X = df[df.columns.difference([target])]\n",
    "    df_y = df[target]\n",
    "    X_train, X_test, y_train, y_test = train_test_split(df_X, df_y, test_size=0.33, random_state=1024 ,shuffle=True) \n",
    "    \n",
    "    linear_score = linear_regression_score(X_train, y_train, X_test, y_test)\n",
    "    lassov_score = lasso_score(X_train, y_train, X_test, y_test)\n",
    "    riggidv_score = riggid_score(X_train, y_train, X_test, y_test)    \n",
    "    return {'Linear Score':linear_score,'Lasso Score':lassov_score,'Ridge Score':riggidv_score}\n"
   ]
  },
  {
   "cell_type": "code",
   "execution_count": 41,
   "id": "2d2e96a7",
   "metadata": {
    "ExecuteTime": {
     "end_time": "2021-10-23T16:26:14.424417Z",
     "start_time": "2021-10-23T16:26:14.024373Z"
    }
   },
   "outputs": [
    {
     "name": "stderr",
     "output_type": "stream",
     "text": [
      "C:\\Users\\pspso\\AppData\\Local\\Programs\\Python\\Python38\\lib\\site-packages\\sklearn\\linear_model\\_coordinate_descent.py:645: ConvergenceWarning: Objective did not converge. You might want to increase the number of iterations, check the scale of the features or consider increasing regularisation. Duality gap: 7.674e+07, tolerance: 3.883e+05\n",
      "  model = cd_fast.enet_coordinate_descent(\n",
      "C:\\Users\\pspso\\AppData\\Local\\Programs\\Python\\Python38\\lib\\site-packages\\sklearn\\linear_model\\_coordinate_descent.py:645: ConvergenceWarning: Objective did not converge. You might want to increase the number of iterations, check the scale of the features or consider increasing regularisation. Duality gap: 6.802e+07, tolerance: 3.883e+05\n",
      "  model = cd_fast.enet_coordinate_descent(\n",
      "C:\\Users\\pspso\\AppData\\Local\\Programs\\Python\\Python38\\lib\\site-packages\\sklearn\\linear_model\\_coordinate_descent.py:645: ConvergenceWarning: Objective did not converge. You might want to increase the number of iterations, check the scale of the features or consider increasing regularisation. Duality gap: 7.005e+07, tolerance: 3.883e+05\n",
      "  model = cd_fast.enet_coordinate_descent(\n"
     ]
    }
   ],
   "source": [
    "a = pd.DataFrame(\n",
    "    {\n",
    "        'No Categorical':find_scores(big_new_df, 'Global_Sales'),\n",
    "        'Genre':find_scores(big_new_df_Genre, 'Global_Sales'),\n",
    "        'Console':find_scores(big_new_df_Console, 'Global_Sales'),\n",
    "        'Rating':find_scores(big_new_df_Rating, 'Global_Sales'),\n",
    "        'Console & Rating':find_scores(big_new_df_Console_Rating, 'Global_Sales'),\n",
    "        'Genre & Console':find_scores(big_new_df_Genre_Console, 'Global_Sales'),\n",
    "        'Genre & Rating':find_scores(big_new_df_Genre_Rating, 'Global_Sales'),\n",
    "        'All Categorical':find_scores(big_new_df_Genre_Console_Rating, 'Global_Sales')\n",
    "    }\n",
    ")"
   ]
  },
  {
   "cell_type": "code",
   "execution_count": 42,
   "id": "5e8faa5d",
   "metadata": {},
   "outputs": [
    {
     "data": {
      "text/html": [
       "<div>\n",
       "<style scoped>\n",
       "    .dataframe tbody tr th:only-of-type {\n",
       "        vertical-align: middle;\n",
       "    }\n",
       "\n",
       "    .dataframe tbody tr th {\n",
       "        vertical-align: top;\n",
       "    }\n",
       "\n",
       "    .dataframe thead th {\n",
       "        text-align: right;\n",
       "    }\n",
       "</style>\n",
       "<table border=\"1\" class=\"dataframe\">\n",
       "  <thead>\n",
       "    <tr style=\"text-align: right;\">\n",
       "      <th></th>\n",
       "      <th>Linear Score</th>\n",
       "      <th>Lasso Score</th>\n",
       "      <th>Ridge Score</th>\n",
       "    </tr>\n",
       "  </thead>\n",
       "  <tbody>\n",
       "    <tr>\n",
       "      <th>No Categorical</th>\n",
       "      <td>0.172062</td>\n",
       "      <td>0.172069</td>\n",
       "      <td>0.172088</td>\n",
       "    </tr>\n",
       "    <tr>\n",
       "      <th>Genre</th>\n",
       "      <td>0.160681</td>\n",
       "      <td>0.160806</td>\n",
       "      <td>0.163956</td>\n",
       "    </tr>\n",
       "    <tr>\n",
       "      <th>Console</th>\n",
       "      <td>0.242307</td>\n",
       "      <td>0.242381</td>\n",
       "      <td>0.244139</td>\n",
       "    </tr>\n",
       "    <tr>\n",
       "      <th>Rating</th>\n",
       "      <td>0.240552</td>\n",
       "      <td>0.240547</td>\n",
       "      <td>0.240355</td>\n",
       "    </tr>\n",
       "    <tr>\n",
       "      <th>Console &amp; Rating</th>\n",
       "      <td>0.302434</td>\n",
       "      <td>0.302504</td>\n",
       "      <td>0.304803</td>\n",
       "    </tr>\n",
       "    <tr>\n",
       "      <th>Genre &amp; Console</th>\n",
       "      <td>0.221529</td>\n",
       "      <td>0.222290</td>\n",
       "      <td>0.233919</td>\n",
       "    </tr>\n",
       "    <tr>\n",
       "      <th>Genre &amp; Rating</th>\n",
       "      <td>0.193233</td>\n",
       "      <td>0.193353</td>\n",
       "      <td>0.198735</td>\n",
       "    </tr>\n",
       "    <tr>\n",
       "      <th>All Categorical</th>\n",
       "      <td>0.236200</td>\n",
       "      <td>0.236593</td>\n",
       "      <td>0.253576</td>\n",
       "    </tr>\n",
       "  </tbody>\n",
       "</table>\n",
       "</div>"
      ],
      "text/plain": [
       "                  Linear Score  Lasso Score  Ridge Score\n",
       "No Categorical        0.172062     0.172069     0.172088\n",
       "Genre                 0.160681     0.160806     0.163956\n",
       "Console               0.242307     0.242381     0.244139\n",
       "Rating                0.240552     0.240547     0.240355\n",
       "Console & Rating      0.302434     0.302504     0.304803\n",
       "Genre & Console       0.221529     0.222290     0.233919\n",
       "Genre & Rating        0.193233     0.193353     0.198735\n",
       "All Categorical       0.236200     0.236593     0.253576"
      ]
     },
     "execution_count": 42,
     "metadata": {},
     "output_type": "execute_result"
    }
   ],
   "source": [
    "a.T"
   ]
  },
  {
   "cell_type": "code",
   "execution_count": 43,
   "id": "1df6ed13",
   "metadata": {},
   "outputs": [
    {
     "data": {
      "text/html": [
       "<div>\n",
       "<style scoped>\n",
       "    .dataframe tbody tr th:only-of-type {\n",
       "        vertical-align: middle;\n",
       "    }\n",
       "\n",
       "    .dataframe tbody tr th {\n",
       "        vertical-align: top;\n",
       "    }\n",
       "\n",
       "    .dataframe thead th {\n",
       "        text-align: right;\n",
       "    }\n",
       "</style>\n",
       "<table border=\"1\" class=\"dataframe\">\n",
       "  <thead>\n",
       "    <tr style=\"text-align: right;\">\n",
       "      <th></th>\n",
       "      <th>Global_Sales</th>\n",
       "      <th>Critic_Count</th>\n",
       "      <th>User_Count</th>\n",
       "      <th>Release Date</th>\n",
       "      <th>Score</th>\n",
       "    </tr>\n",
       "  </thead>\n",
       "  <tbody>\n",
       "    <tr>\n",
       "      <th>0</th>\n",
       "      <td>11350.0</td>\n",
       "      <td>73.0</td>\n",
       "      <td>2147.0</td>\n",
       "      <td>6</td>\n",
       "      <td>9.633333</td>\n",
       "    </tr>\n",
       "  </tbody>\n",
       "</table>\n",
       "</div>"
      ],
      "text/plain": [
       "   Global_Sales  Critic_Count  User_Count  Release Date     Score\n",
       "0       11350.0          73.0      2147.0             6  9.633333"
      ]
     },
     "execution_count": 43,
     "metadata": {},
     "output_type": "execute_result"
    }
   ],
   "source": [
    "big_new_df.head(1)"
   ]
  },
  {
   "cell_type": "code",
   "execution_count": 50,
   "id": "fd5b4a07",
   "metadata": {},
   "outputs": [
    {
     "data": {
      "text/plain": [
       "Index(['No Categorical', 'Genre', 'Console', 'Rating', 'Console & Rating',\n",
       "       'Genre & Console', 'Genre & Rating', 'All Categorical'],\n",
       "      dtype='object')"
      ]
     },
     "execution_count": 50,
     "metadata": {},
     "output_type": "execute_result"
    }
   ],
   "source": [
    "a.keys()"
   ]
  },
  {
   "cell_type": "code",
   "execution_count": null,
   "id": "0b072e40",
   "metadata": {},
   "outputs": [],
   "source": []
  }
 ],
 "metadata": {
  "kernelspec": {
   "display_name": "Python 3",
   "language": "python",
   "name": "python3"
  },
  "language_info": {
   "codemirror_mode": {
    "name": "ipython",
    "version": 3
   },
   "file_extension": ".py",
   "mimetype": "text/x-python",
   "name": "python",
   "nbconvert_exporter": "python",
   "pygments_lexer": "ipython3",
   "version": "3.8.8"
  },
  "toc": {
   "base_numbering": 1,
   "nav_menu": {},
   "number_sections": false,
   "sideBar": true,
   "skip_h1_title": false,
   "title_cell": "Table of Contents",
   "title_sidebar": "Contents",
   "toc_cell": false,
   "toc_position": {
    "height": "calc(100% - 180px)",
    "left": "10px",
    "top": "150px",
    "width": "261.818px"
   },
   "toc_section_display": true,
   "toc_window_display": false
  }
 },
 "nbformat": 4,
 "nbformat_minor": 5
}
