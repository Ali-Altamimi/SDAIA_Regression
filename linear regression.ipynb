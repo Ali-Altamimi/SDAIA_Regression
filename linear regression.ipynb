{
 "cells": [
  {
   "cell_type": "code",
   "execution_count": 1,
   "id": "b4c71078",
   "metadata": {
    "ExecuteTime": {
     "end_time": "2021-10-14T22:55:35.710158Z",
     "start_time": "2021-10-14T22:55:35.092703Z"
    }
   },
   "outputs": [],
   "source": [
    "from utilities.IMDb import get_games_data"
   ]
  },
  {
   "cell_type": "code",
   "execution_count": 4,
   "id": "250759aa",
   "metadata": {
    "ExecuteTime": {
     "end_time": "2021-10-14T22:56:25.322592Z",
     "start_time": "2021-10-14T22:56:25.263621Z"
    }
   },
   "outputs": [],
   "source": [
    "df = get_games_data()\n"
   ]
  },
  {
   "cell_type": "code",
   "execution_count": null,
   "id": "a1274b79",
   "metadata": {
    "ExecuteTime": {
     "end_time": "2021-10-14T22:48:05.039399Z",
     "start_time": "2021-10-14T22:48:04.946533Z"
    }
   },
   "outputs": [],
   "source": []
  },
  {
   "cell_type": "code",
   "execution_count": null,
   "id": "1cfb9489",
   "metadata": {},
   "outputs": [],
   "source": []
  }
 ],
 "metadata": {
  "kernelspec": {
   "display_name": "Python 3.8.8 64-bit ('base': conda)",
   "language": "python",
   "name": "python388jvsc74a57bd011ef33b601587caca72001ca459a3179111f6f034e554293e5e06d6e923ce863"
  },
  "language_info": {
   "codemirror_mode": {
    "name": "ipython",
    "version": 3
   },
   "file_extension": ".py",
   "mimetype": "text/x-python",
   "name": "python",
   "nbconvert_exporter": "python",
   "pygments_lexer": "ipython3",
   "version": "3.8.8"
  },
  "toc": {
   "base_numbering": 1,
   "nav_menu": {},
   "number_sections": true,
   "sideBar": true,
   "skip_h1_title": false,
   "title_cell": "Table of Contents",
   "title_sidebar": "Contents",
   "toc_cell": false,
   "toc_position": {},
   "toc_section_display": true,
   "toc_window_display": false
  }
 },
 "nbformat": 4,
 "nbformat_minor": 5
}
