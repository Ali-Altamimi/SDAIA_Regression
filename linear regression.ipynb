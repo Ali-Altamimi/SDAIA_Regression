{
 "cells": [
  {
   "cell_type": "markdown",
   "id": "2a6f0755",
   "metadata": {},
   "source": [
    "# Predicting Games Rating Score"
   ]
  },
  {
   "cell_type": "markdown",
   "id": "4cf7fd7e",
   "metadata": {},
   "source": [
    "In this project we are applying machine learning algorithms to predicts VGChartz rating scores for games. To achinve the best result possible we need to pick the best model that fit the data. The algorithms that we are planning to use are Linear Rigresson, Lasso and Ridge."
   ]
  },
  {
   "cell_type": "markdown",
   "id": "2ddb9faf",
   "metadata": {},
   "source": [
    "## Imporing Libraries"
   ]
  },
  {
   "cell_type": "code",
   "execution_count": 1,
   "id": "a6acefcb",
   "metadata": {
    "ExecuteTime": {
     "end_time": "2021-10-24T07:34:55.700606Z",
     "start_time": "2021-10-24T07:34:54.424817Z"
    },
    "pycharm": {
     "name": "#%%\n"
    }
   },
   "outputs": [],
   "source": [
    "from utilities.VGChartz import get_games_data\n",
    "import seaborn as sns\n",
    "sns.set_style(\"darkgrid\")\n",
    "\n",
    "from sklearn.model_selection import train_test_split\n",
    "from sklearn.linear_model import LinearRegression\n",
    "from sklearn.metrics import r2_score\n",
    "from rich import print\n",
    "import pandas as pd\n",
    "import numpy as np\n",
    "from sklearn.preprocessing import PolynomialFeatures\n",
    "from sklearn import linear_model\n",
    "\n",
    "\n",
    "from sklearn.linear_model import Lasso, Ridge, ElasticNet,LassoCV,RidgeCV\n",
    "\n",
    "from sklearn.model_selection import cross_val_score, train_test_split,KFold, GridSearchCV\n"
   ]
  },
  {
   "cell_type": "markdown",
   "id": "bdbbc934",
   "metadata": {},
   "source": [
    "## Get VGChartz data \n",
    "by calling `get_games_data` which scrap the data from VGChartz if the `/data/VGChartz.csv` file is not exsist."
   ]
  },
  {
   "cell_type": "code",
   "execution_count": 2,
   "id": "ab7063bc",
   "metadata": {
    "ExecuteTime": {
     "end_time": "2021-10-24T07:34:55.708849Z",
     "start_time": "2021-10-24T07:34:55.702111Z"
    }
   },
   "outputs": [],
   "source": [
    "new_df = get_games_data()"
   ]
  },
  {
   "cell_type": "code",
   "execution_count": 3,
   "id": "ead120b9",
   "metadata": {
    "ExecuteTime": {
     "end_time": "2021-10-24T07:34:55.727278Z",
     "start_time": "2021-10-24T07:34:55.710723Z"
    }
   },
   "outputs": [
    {
     "data": {
      "text/html": [
       "<div>\n",
       "<style scoped>\n",
       "    .dataframe tbody tr th:only-of-type {\n",
       "        vertical-align: middle;\n",
       "    }\n",
       "\n",
       "    .dataframe tbody tr th {\n",
       "        vertical-align: top;\n",
       "    }\n",
       "\n",
       "    .dataframe thead th {\n",
       "        text-align: right;\n",
       "    }\n",
       "</style>\n",
       "<table border=\"1\" class=\"dataframe\">\n",
       "  <thead>\n",
       "    <tr style=\"text-align: right;\">\n",
       "      <th></th>\n",
       "      <th>ID</th>\n",
       "      <th>Name</th>\n",
       "      <th>Genre</th>\n",
       "      <th>Console</th>\n",
       "      <th>Rating</th>\n",
       "      <th>Global_Sales</th>\n",
       "      <th>VGChartz Score</th>\n",
       "      <th>Critic Score</th>\n",
       "      <th>Critic_Count</th>\n",
       "      <th>User Score</th>\n",
       "      <th>User_Count</th>\n",
       "      <th>Release Date</th>\n",
       "    </tr>\n",
       "  </thead>\n",
       "  <tbody>\n",
       "    <tr>\n",
       "      <th>0</th>\n",
       "      <td>6963</td>\n",
       "      <td>Super Mario Galaxy</td>\n",
       "      <td>Platform</td>\n",
       "      <td>Wii</td>\n",
       "      <td>E</td>\n",
       "      <td>11.35</td>\n",
       "      <td>9.6</td>\n",
       "      <td>9.7</td>\n",
       "      <td>73.0</td>\n",
       "      <td>9.6</td>\n",
       "      <td>2147.0</td>\n",
       "      <td>12th Nov 07</td>\n",
       "    </tr>\n",
       "    <tr>\n",
       "      <th>1</th>\n",
       "      <td>35084</td>\n",
       "      <td>Super Mario Galaxy 2</td>\n",
       "      <td>Platform</td>\n",
       "      <td>Wii</td>\n",
       "      <td>E</td>\n",
       "      <td>7.51</td>\n",
       "      <td>9.6</td>\n",
       "      <td>9.7</td>\n",
       "      <td>87.0</td>\n",
       "      <td>9.8</td>\n",
       "      <td>1854.0</td>\n",
       "      <td>23rd May 10</td>\n",
       "    </tr>\n",
       "    <tr>\n",
       "      <th>2</th>\n",
       "      <td>6970</td>\n",
       "      <td>Metal Gear Solid 4: Guns of the Patriots</td>\n",
       "      <td>Action</td>\n",
       "      <td>PS3</td>\n",
       "      <td>M</td>\n",
       "      <td>5.99</td>\n",
       "      <td>9.5</td>\n",
       "      <td>9.3</td>\n",
       "      <td>82.0</td>\n",
       "      <td>9.8</td>\n",
       "      <td>3558.0</td>\n",
       "      <td>12th Jun 08</td>\n",
       "    </tr>\n",
       "    <tr>\n",
       "      <th>3</th>\n",
       "      <td>17684</td>\n",
       "      <td>World of Goo</td>\n",
       "      <td>Puzzle</td>\n",
       "      <td>PC</td>\n",
       "      <td>E</td>\n",
       "      <td>0.04</td>\n",
       "      <td>9.5</td>\n",
       "      <td>9.0</td>\n",
       "      <td>26.0</td>\n",
       "      <td>NaN</td>\n",
       "      <td>607.0</td>\n",
       "      <td>21st Oct 08</td>\n",
       "    </tr>\n",
       "    <tr>\n",
       "      <th>4</th>\n",
       "      <td>12533</td>\n",
       "      <td>God of War III</td>\n",
       "      <td>Action</td>\n",
       "      <td>PS3</td>\n",
       "      <td>M</td>\n",
       "      <td>4.80</td>\n",
       "      <td>9.4</td>\n",
       "      <td>9.2</td>\n",
       "      <td>101.0</td>\n",
       "      <td>9.4</td>\n",
       "      <td>2633.0</td>\n",
       "      <td>16th Mar 10</td>\n",
       "    </tr>\n",
       "    <tr>\n",
       "      <th>...</th>\n",
       "      <td>...</td>\n",
       "      <td>...</td>\n",
       "      <td>...</td>\n",
       "      <td>...</td>\n",
       "      <td>...</td>\n",
       "      <td>...</td>\n",
       "      <td>...</td>\n",
       "      <td>...</td>\n",
       "      <td>...</td>\n",
       "      <td>...</td>\n",
       "      <td>...</td>\n",
       "      <td>...</td>\n",
       "    </tr>\n",
       "    <tr>\n",
       "      <th>395</th>\n",
       "      <td>23754</td>\n",
       "      <td>Velvet Assassin</td>\n",
       "      <td>Shooter</td>\n",
       "      <td>X360</td>\n",
       "      <td>M</td>\n",
       "      <td>0.18</td>\n",
       "      <td>3.2</td>\n",
       "      <td>5.3</td>\n",
       "      <td>46.0</td>\n",
       "      <td>NaN</td>\n",
       "      <td>55.0</td>\n",
       "      <td>30th Apr 09</td>\n",
       "    </tr>\n",
       "    <tr>\n",
       "      <th>396</th>\n",
       "      <td>24538</td>\n",
       "      <td>Stormrise</td>\n",
       "      <td>Strategy</td>\n",
       "      <td>PC</td>\n",
       "      <td>M</td>\n",
       "      <td>0.02</td>\n",
       "      <td>3.1</td>\n",
       "      <td>NaN</td>\n",
       "      <td>15.0</td>\n",
       "      <td>NaN</td>\n",
       "      <td>22.0</td>\n",
       "      <td>24th Mar 09</td>\n",
       "    </tr>\n",
       "    <tr>\n",
       "      <th>397</th>\n",
       "      <td>17668</td>\n",
       "      <td>NCAA Football 09 All-Play</td>\n",
       "      <td>Sports</td>\n",
       "      <td>Wii</td>\n",
       "      <td>E</td>\n",
       "      <td>0.16</td>\n",
       "      <td>3.0</td>\n",
       "      <td>5.3</td>\n",
       "      <td>5.0</td>\n",
       "      <td>NaN</td>\n",
       "      <td>32.0</td>\n",
       "      <td>15th Jul 08</td>\n",
       "    </tr>\n",
       "    <tr>\n",
       "      <th>398</th>\n",
       "      <td>14604</td>\n",
       "      <td>Golden Axe: Beast Rider</td>\n",
       "      <td>Action</td>\n",
       "      <td>PS3</td>\n",
       "      <td>M</td>\n",
       "      <td>0.32</td>\n",
       "      <td>NaN</td>\n",
       "      <td>4.5</td>\n",
       "      <td>30.0</td>\n",
       "      <td>NaN</td>\n",
       "      <td>23.0</td>\n",
       "      <td>14th Oct 08</td>\n",
       "    </tr>\n",
       "    <tr>\n",
       "      <th>399</th>\n",
       "      <td>14603</td>\n",
       "      <td>Golden Axe: Beast Rider</td>\n",
       "      <td>Action</td>\n",
       "      <td>X360</td>\n",
       "      <td>M</td>\n",
       "      <td>0.33</td>\n",
       "      <td>NaN</td>\n",
       "      <td>4.0</td>\n",
       "      <td>33.0</td>\n",
       "      <td>7.0</td>\n",
       "      <td>33.0</td>\n",
       "      <td>14th Oct 08</td>\n",
       "    </tr>\n",
       "  </tbody>\n",
       "</table>\n",
       "<p>400 rows × 12 columns</p>\n",
       "</div>"
      ],
      "text/plain": [
       "        ID                                      Name     Genre Console Rating  \\\n",
       "0     6963                        Super Mario Galaxy  Platform     Wii      E   \n",
       "1    35084                      Super Mario Galaxy 2  Platform     Wii      E   \n",
       "2     6970  Metal Gear Solid 4: Guns of the Patriots    Action     PS3      M   \n",
       "3    17684                              World of Goo    Puzzle      PC      E   \n",
       "4    12533                            God of War III    Action     PS3      M   \n",
       "..     ...                                       ...       ...     ...    ...   \n",
       "395  23754                           Velvet Assassin   Shooter    X360      M   \n",
       "396  24538                                 Stormrise  Strategy      PC      M   \n",
       "397  17668                 NCAA Football 09 All-Play    Sports     Wii      E   \n",
       "398  14604                   Golden Axe: Beast Rider    Action     PS3      M   \n",
       "399  14603                   Golden Axe: Beast Rider    Action    X360      M   \n",
       "\n",
       "     Global_Sales  VGChartz Score  Critic Score  Critic_Count  User Score  \\\n",
       "0           11.35             9.6           9.7          73.0         9.6   \n",
       "1            7.51             9.6           9.7          87.0         9.8   \n",
       "2            5.99             9.5           9.3          82.0         9.8   \n",
       "3            0.04             9.5           9.0          26.0         NaN   \n",
       "4            4.80             9.4           9.2         101.0         9.4   \n",
       "..            ...             ...           ...           ...         ...   \n",
       "395          0.18             3.2           5.3          46.0         NaN   \n",
       "396          0.02             3.1           NaN          15.0         NaN   \n",
       "397          0.16             3.0           5.3           5.0         NaN   \n",
       "398          0.32             NaN           4.5          30.0         NaN   \n",
       "399          0.33             NaN           4.0          33.0         7.0   \n",
       "\n",
       "     User_Count Release Date  \n",
       "0        2147.0  12th Nov 07  \n",
       "1        1854.0  23rd May 10  \n",
       "2        3558.0  12th Jun 08  \n",
       "3         607.0  21st Oct 08  \n",
       "4        2633.0  16th Mar 10  \n",
       "..          ...          ...  \n",
       "395        55.0  30th Apr 09  \n",
       "396        22.0  24th Mar 09  \n",
       "397        32.0  15th Jul 08  \n",
       "398        23.0  14th Oct 08  \n",
       "399        33.0  14th Oct 08  \n",
       "\n",
       "[400 rows x 12 columns]"
      ]
     },
     "execution_count": 3,
     "metadata": {},
     "output_type": "execute_result"
    }
   ],
   "source": [
    "new_df"
   ]
  },
  {
   "cell_type": "markdown",
   "id": "c25f885f",
   "metadata": {
    "ExecuteTime": {
     "end_time": "2021-10-21T23:52:12.388947Z",
     "start_time": "2021-10-21T23:52:12.385695Z"
    }
   },
   "source": [
    "## Cleaning VGChartz Data"
   ]
  },
  {
   "cell_type": "code",
   "execution_count": 4,
   "id": "e288c2fe",
   "metadata": {
    "ExecuteTime": {
     "end_time": "2021-10-24T07:34:55.789861Z",
     "start_time": "2021-10-24T07:34:55.728292Z"
    }
   },
   "outputs": [
    {
     "name": "stderr",
     "output_type": "stream",
     "text": [
      "<ipython-input-4-e3336ba96cdd>:7: SettingWithCopyWarning: \n",
      "A value is trying to be set on a copy of a slice from a DataFrame.\n",
      "Try using .loc[row_indexer,col_indexer] = value instead\n",
      "\n",
      "See the caveats in the documentation: https://pandas.pydata.org/pandas-docs/stable/user_guide/indexing.html#returning-a-view-versus-a-copy\n",
      "  new_df['User_Count'] = new_df['User_Count'].fillna(new_df['User_Count'].mean())\n",
      "<ipython-input-4-e3336ba96cdd>:8: SettingWithCopyWarning: \n",
      "A value is trying to be set on a copy of a slice from a DataFrame.\n",
      "Try using .loc[row_indexer,col_indexer] = value instead\n",
      "\n",
      "See the caveats in the documentation: https://pandas.pydata.org/pandas-docs/stable/user_guide/indexing.html#returning-a-view-versus-a-copy\n",
      "  new_df['Critic_Count'] = new_df['Critic_Count'].fillna(new_df['Critic_Count'].mean())\n"
     ]
    }
   ],
   "source": [
    "# Creating new Feature called Score by taking the average of the three type of scores\n",
    "temp = new_df[['VGChartz Score', 'Critic Score', 'User Score']]\n",
    "temp=temp.T.fillna(temp.T.mean()).T\n",
    "new_df[['VGChartz Score', 'Critic Score', 'User Score']] = temp\n",
    "new_df['Score'] = (new_df['VGChartz Score'] +new_df['Critic Score'] + new_df['User Score'])/3\n",
    "new_df =new_df.dropna(subset=['Score'])\n",
    "new_df['User_Count'] = new_df['User_Count'].fillna(new_df['User_Count'].mean())\n",
    "new_df['Critic_Count'] = new_df['Critic_Count'].fillna(new_df['Critic_Count'].mean())"
   ]
  },
  {
   "cell_type": "code",
   "execution_count": 5,
   "id": "ea157cf7",
   "metadata": {
    "ExecuteTime": {
     "end_time": "2021-10-24T07:34:55.794675Z",
     "start_time": "2021-10-24T07:34:55.791026Z"
    }
   },
   "outputs": [
    {
     "name": "stderr",
     "output_type": "stream",
     "text": [
      "<ipython-input-5-59e43ba5e9ed>:1: SettingWithCopyWarning: \n",
      "A value is trying to be set on a copy of a slice from a DataFrame.\n",
      "Try using .loc[row_indexer,col_indexer] = value instead\n",
      "\n",
      "See the caveats in the documentation: https://pandas.pydata.org/pandas-docs/stable/user_guide/indexing.html#returning-a-view-versus-a-copy\n",
      "  new_df['Release Date'] = [int(x.split(' ')[-1]) +2000 for x in new_df['Release Date']]\n",
      "<ipython-input-5-59e43ba5e9ed>:2: SettingWithCopyWarning: \n",
      "A value is trying to be set on a copy of a slice from a DataFrame.\n",
      "Try using .loc[row_indexer,col_indexer] = value instead\n",
      "\n",
      "See the caveats in the documentation: https://pandas.pydata.org/pandas-docs/stable/user_guide/indexing.html#returning-a-view-versus-a-copy\n",
      "  new_df['Global_Sales'] = new_df['Global_Sales'] * 10**3\n"
     ]
    }
   ],
   "source": [
    "new_df['Release Date'] = [int(x.split(' ')[-1]) +2000 for x in new_df['Release Date']]\n",
    "new_df['Global_Sales'] = new_df['Global_Sales'] * 10**3"
   ]
  },
  {
   "cell_type": "code",
   "execution_count": 6,
   "id": "5847341a",
   "metadata": {
    "ExecuteTime": {
     "end_time": "2021-10-24T07:34:55.798726Z",
     "start_time": "2021-10-24T07:34:55.795689Z"
    }
   },
   "outputs": [
    {
     "name": "stderr",
     "output_type": "stream",
     "text": [
      "<ipython-input-6-2b780969c2aa>:1: SettingWithCopyWarning: \n",
      "A value is trying to be set on a copy of a slice from a DataFrame.\n",
      "Try using .loc[row_indexer,col_indexer] = value instead\n",
      "\n",
      "See the caveats in the documentation: https://pandas.pydata.org/pandas-docs/stable/user_guide/indexing.html#returning-a-view-versus-a-copy\n",
      "  new_df['Release Date'] = new_df['Release Date'] -new_df['Release Date'].min()\n"
     ]
    }
   ],
   "source": [
    "new_df['Release Date'] = new_df['Release Date'] -new_df['Release Date'].min()"
   ]
  },
  {
   "cell_type": "code",
   "execution_count": 7,
   "id": "d130e006",
   "metadata": {
    "ExecuteTime": {
     "end_time": "2021-10-24T07:34:55.803826Z",
     "start_time": "2021-10-24T07:34:55.800793Z"
    }
   },
   "outputs": [
    {
     "data": {
      "text/plain": [
       "20.0"
      ]
     },
     "execution_count": 7,
     "metadata": {},
     "output_type": "execute_result"
    }
   ],
   "source": [
    "new_df['Global_Sales'].min()"
   ]
  },
  {
   "cell_type": "code",
   "execution_count": 8,
   "id": "4d909894",
   "metadata": {
    "ExecuteTime": {
     "end_time": "2021-10-24T07:34:55.808988Z",
     "start_time": "2021-10-24T07:34:55.805580Z"
    }
   },
   "outputs": [],
   "source": [
    "new_df = new_df.loc[:, (new_df.columns != 'Unnamed: 0')]"
   ]
  },
  {
   "cell_type": "code",
   "execution_count": 9,
   "id": "859f68dd",
   "metadata": {
    "ExecuteTime": {
     "end_time": "2021-10-24T07:34:55.824116Z",
     "start_time": "2021-10-24T07:34:55.810028Z"
    }
   },
   "outputs": [
    {
     "data": {
      "text/html": [
       "<div>\n",
       "<style scoped>\n",
       "    .dataframe tbody tr th:only-of-type {\n",
       "        vertical-align: middle;\n",
       "    }\n",
       "\n",
       "    .dataframe tbody tr th {\n",
       "        vertical-align: top;\n",
       "    }\n",
       "\n",
       "    .dataframe thead th {\n",
       "        text-align: right;\n",
       "    }\n",
       "</style>\n",
       "<table border=\"1\" class=\"dataframe\">\n",
       "  <thead>\n",
       "    <tr style=\"text-align: right;\">\n",
       "      <th></th>\n",
       "      <th>ID</th>\n",
       "      <th>Name</th>\n",
       "      <th>Genre</th>\n",
       "      <th>Console</th>\n",
       "      <th>Rating</th>\n",
       "      <th>Global_Sales</th>\n",
       "      <th>VGChartz Score</th>\n",
       "      <th>Critic Score</th>\n",
       "      <th>Critic_Count</th>\n",
       "      <th>User Score</th>\n",
       "      <th>User_Count</th>\n",
       "      <th>Release Date</th>\n",
       "      <th>Score</th>\n",
       "    </tr>\n",
       "  </thead>\n",
       "  <tbody>\n",
       "    <tr>\n",
       "      <th>0</th>\n",
       "      <td>6963</td>\n",
       "      <td>Super Mario Galaxy</td>\n",
       "      <td>Platform</td>\n",
       "      <td>Wii</td>\n",
       "      <td>E</td>\n",
       "      <td>11350.0</td>\n",
       "      <td>9.6</td>\n",
       "      <td>9.7</td>\n",
       "      <td>73.0</td>\n",
       "      <td>9.60</td>\n",
       "      <td>2147.0</td>\n",
       "      <td>6</td>\n",
       "      <td>9.633333</td>\n",
       "    </tr>\n",
       "    <tr>\n",
       "      <th>1</th>\n",
       "      <td>35084</td>\n",
       "      <td>Super Mario Galaxy 2</td>\n",
       "      <td>Platform</td>\n",
       "      <td>Wii</td>\n",
       "      <td>E</td>\n",
       "      <td>7510.0</td>\n",
       "      <td>9.6</td>\n",
       "      <td>9.7</td>\n",
       "      <td>87.0</td>\n",
       "      <td>9.80</td>\n",
       "      <td>1854.0</td>\n",
       "      <td>9</td>\n",
       "      <td>9.700000</td>\n",
       "    </tr>\n",
       "    <tr>\n",
       "      <th>2</th>\n",
       "      <td>6970</td>\n",
       "      <td>Metal Gear Solid 4: Guns of the Patriots</td>\n",
       "      <td>Action</td>\n",
       "      <td>PS3</td>\n",
       "      <td>M</td>\n",
       "      <td>5990.0</td>\n",
       "      <td>9.5</td>\n",
       "      <td>9.3</td>\n",
       "      <td>82.0</td>\n",
       "      <td>9.80</td>\n",
       "      <td>3558.0</td>\n",
       "      <td>7</td>\n",
       "      <td>9.533333</td>\n",
       "    </tr>\n",
       "    <tr>\n",
       "      <th>3</th>\n",
       "      <td>17684</td>\n",
       "      <td>World of Goo</td>\n",
       "      <td>Puzzle</td>\n",
       "      <td>PC</td>\n",
       "      <td>E</td>\n",
       "      <td>40.0</td>\n",
       "      <td>9.5</td>\n",
       "      <td>9.0</td>\n",
       "      <td>26.0</td>\n",
       "      <td>9.25</td>\n",
       "      <td>607.0</td>\n",
       "      <td>7</td>\n",
       "      <td>9.250000</td>\n",
       "    </tr>\n",
       "    <tr>\n",
       "      <th>4</th>\n",
       "      <td>12533</td>\n",
       "      <td>God of War III</td>\n",
       "      <td>Action</td>\n",
       "      <td>PS3</td>\n",
       "      <td>M</td>\n",
       "      <td>4800.0</td>\n",
       "      <td>9.4</td>\n",
       "      <td>9.2</td>\n",
       "      <td>101.0</td>\n",
       "      <td>9.40</td>\n",
       "      <td>2633.0</td>\n",
       "      <td>9</td>\n",
       "      <td>9.333333</td>\n",
       "    </tr>\n",
       "    <tr>\n",
       "      <th>...</th>\n",
       "      <td>...</td>\n",
       "      <td>...</td>\n",
       "      <td>...</td>\n",
       "      <td>...</td>\n",
       "      <td>...</td>\n",
       "      <td>...</td>\n",
       "      <td>...</td>\n",
       "      <td>...</td>\n",
       "      <td>...</td>\n",
       "      <td>...</td>\n",
       "      <td>...</td>\n",
       "      <td>...</td>\n",
       "      <td>...</td>\n",
       "    </tr>\n",
       "    <tr>\n",
       "      <th>395</th>\n",
       "      <td>23754</td>\n",
       "      <td>Velvet Assassin</td>\n",
       "      <td>Shooter</td>\n",
       "      <td>X360</td>\n",
       "      <td>M</td>\n",
       "      <td>180.0</td>\n",
       "      <td>3.2</td>\n",
       "      <td>5.3</td>\n",
       "      <td>46.0</td>\n",
       "      <td>4.25</td>\n",
       "      <td>55.0</td>\n",
       "      <td>8</td>\n",
       "      <td>4.250000</td>\n",
       "    </tr>\n",
       "    <tr>\n",
       "      <th>396</th>\n",
       "      <td>24538</td>\n",
       "      <td>Stormrise</td>\n",
       "      <td>Strategy</td>\n",
       "      <td>PC</td>\n",
       "      <td>M</td>\n",
       "      <td>20.0</td>\n",
       "      <td>3.1</td>\n",
       "      <td>3.1</td>\n",
       "      <td>15.0</td>\n",
       "      <td>3.10</td>\n",
       "      <td>22.0</td>\n",
       "      <td>8</td>\n",
       "      <td>3.100000</td>\n",
       "    </tr>\n",
       "    <tr>\n",
       "      <th>397</th>\n",
       "      <td>17668</td>\n",
       "      <td>NCAA Football 09 All-Play</td>\n",
       "      <td>Sports</td>\n",
       "      <td>Wii</td>\n",
       "      <td>E</td>\n",
       "      <td>160.0</td>\n",
       "      <td>3.0</td>\n",
       "      <td>5.3</td>\n",
       "      <td>5.0</td>\n",
       "      <td>4.15</td>\n",
       "      <td>32.0</td>\n",
       "      <td>7</td>\n",
       "      <td>4.150000</td>\n",
       "    </tr>\n",
       "    <tr>\n",
       "      <th>398</th>\n",
       "      <td>14604</td>\n",
       "      <td>Golden Axe: Beast Rider</td>\n",
       "      <td>Action</td>\n",
       "      <td>PS3</td>\n",
       "      <td>M</td>\n",
       "      <td>320.0</td>\n",
       "      <td>4.5</td>\n",
       "      <td>4.5</td>\n",
       "      <td>30.0</td>\n",
       "      <td>4.50</td>\n",
       "      <td>23.0</td>\n",
       "      <td>7</td>\n",
       "      <td>4.500000</td>\n",
       "    </tr>\n",
       "    <tr>\n",
       "      <th>399</th>\n",
       "      <td>14603</td>\n",
       "      <td>Golden Axe: Beast Rider</td>\n",
       "      <td>Action</td>\n",
       "      <td>X360</td>\n",
       "      <td>M</td>\n",
       "      <td>330.0</td>\n",
       "      <td>5.5</td>\n",
       "      <td>4.0</td>\n",
       "      <td>33.0</td>\n",
       "      <td>7.00</td>\n",
       "      <td>33.0</td>\n",
       "      <td>7</td>\n",
       "      <td>5.500000</td>\n",
       "    </tr>\n",
       "  </tbody>\n",
       "</table>\n",
       "<p>399 rows × 13 columns</p>\n",
       "</div>"
      ],
      "text/plain": [
       "        ID                                      Name     Genre Console Rating  \\\n",
       "0     6963                        Super Mario Galaxy  Platform     Wii      E   \n",
       "1    35084                      Super Mario Galaxy 2  Platform     Wii      E   \n",
       "2     6970  Metal Gear Solid 4: Guns of the Patriots    Action     PS3      M   \n",
       "3    17684                              World of Goo    Puzzle      PC      E   \n",
       "4    12533                            God of War III    Action     PS3      M   \n",
       "..     ...                                       ...       ...     ...    ...   \n",
       "395  23754                           Velvet Assassin   Shooter    X360      M   \n",
       "396  24538                                 Stormrise  Strategy      PC      M   \n",
       "397  17668                 NCAA Football 09 All-Play    Sports     Wii      E   \n",
       "398  14604                   Golden Axe: Beast Rider    Action     PS3      M   \n",
       "399  14603                   Golden Axe: Beast Rider    Action    X360      M   \n",
       "\n",
       "     Global_Sales  VGChartz Score  Critic Score  Critic_Count  User Score  \\\n",
       "0         11350.0             9.6           9.7          73.0        9.60   \n",
       "1          7510.0             9.6           9.7          87.0        9.80   \n",
       "2          5990.0             9.5           9.3          82.0        9.80   \n",
       "3            40.0             9.5           9.0          26.0        9.25   \n",
       "4          4800.0             9.4           9.2         101.0        9.40   \n",
       "..            ...             ...           ...           ...         ...   \n",
       "395         180.0             3.2           5.3          46.0        4.25   \n",
       "396          20.0             3.1           3.1          15.0        3.10   \n",
       "397         160.0             3.0           5.3           5.0        4.15   \n",
       "398         320.0             4.5           4.5          30.0        4.50   \n",
       "399         330.0             5.5           4.0          33.0        7.00   \n",
       "\n",
       "     User_Count  Release Date     Score  \n",
       "0        2147.0             6  9.633333  \n",
       "1        1854.0             9  9.700000  \n",
       "2        3558.0             7  9.533333  \n",
       "3         607.0             7  9.250000  \n",
       "4        2633.0             9  9.333333  \n",
       "..          ...           ...       ...  \n",
       "395        55.0             8  4.250000  \n",
       "396        22.0             8  3.100000  \n",
       "397        32.0             7  4.150000  \n",
       "398        23.0             7  4.500000  \n",
       "399        33.0             7  5.500000  \n",
       "\n",
       "[399 rows x 13 columns]"
      ]
     },
     "execution_count": 9,
     "metadata": {},
     "output_type": "execute_result"
    }
   ],
   "source": [
    "new_df"
   ]
  },
  {
   "cell_type": "code",
   "execution_count": 10,
   "id": "39a5c845",
   "metadata": {
    "ExecuteTime": {
     "end_time": "2021-10-24T07:34:55.827663Z",
     "start_time": "2021-10-24T07:34:55.825096Z"
    }
   },
   "outputs": [],
   "source": [
    "new_df = new_df.loc[:, (new_df.columns != 'User Score')]\n"
   ]
  },
  {
   "cell_type": "code",
   "execution_count": 11,
   "id": "3449082e",
   "metadata": {
    "ExecuteTime": {
     "end_time": "2021-10-24T07:34:55.831006Z",
     "start_time": "2021-10-24T07:34:55.828745Z"
    }
   },
   "outputs": [],
   "source": [
    "new_df = new_df.loc[:, (new_df.columns != 'Critic Score')]\n"
   ]
  },
  {
   "cell_type": "code",
   "execution_count": 12,
   "id": "202a8d4a",
   "metadata": {
    "ExecuteTime": {
     "end_time": "2021-10-24T07:34:55.834826Z",
     "start_time": "2021-10-24T07:34:55.831901Z"
    }
   },
   "outputs": [],
   "source": [
    "new_df = new_df.loc[:, (new_df.columns != 'VGChartz Score')]\n"
   ]
  },
  {
   "cell_type": "code",
   "execution_count": 13,
   "id": "7d0128c3",
   "metadata": {
    "ExecuteTime": {
     "end_time": "2021-10-24T07:34:55.839584Z",
     "start_time": "2021-10-24T07:34:55.835847Z"
    }
   },
   "outputs": [
    {
     "data": {
      "text/plain": [
       "array(['E', 'M', 'T', 'E10+'], dtype=object)"
      ]
     },
     "execution_count": 13,
     "metadata": {},
     "output_type": "execute_result"
    }
   ],
   "source": [
    "new_df.Rating.unique()"
   ]
  },
  {
   "cell_type": "code",
   "execution_count": 14,
   "id": "9dae9ab2",
   "metadata": {
    "ExecuteTime": {
     "end_time": "2021-10-24T07:34:55.843577Z",
     "start_time": "2021-10-24T07:34:55.840557Z"
    }
   },
   "outputs": [
    {
     "data": {
      "text/plain": [
       "array(['Wii', 'PS3', 'PC', 'PS2', 'X360', 'DS', 'GC', 'PSP', 'XOne',\n",
       "       'PSV', '3DS'], dtype=object)"
      ]
     },
     "execution_count": 14,
     "metadata": {},
     "output_type": "execute_result"
    }
   ],
   "source": [
    "new_df.Console.unique()"
   ]
  },
  {
   "cell_type": "code",
   "execution_count": 15,
   "id": "f657fa64",
   "metadata": {
    "ExecuteTime": {
     "end_time": "2021-10-24T07:34:55.847193Z",
     "start_time": "2021-10-24T07:34:55.844501Z"
    }
   },
   "outputs": [
    {
     "data": {
      "text/plain": [
       "array(['Platform', 'Action', 'Puzzle', 'Adventure', 'Role-Playing',\n",
       "       'Shooter', 'Racing', 'Misc', 'Fighting', 'Sports', 'Strategy',\n",
       "       'Music', 'Simulation', 'Action-Adventure', 'Party'], dtype=object)"
      ]
     },
     "execution_count": 15,
     "metadata": {},
     "output_type": "execute_result"
    }
   ],
   "source": [
    "new_df.Genre.unique()"
   ]
  },
  {
   "cell_type": "markdown",
   "id": "d11e92fc",
   "metadata": {},
   "source": [
    "## Spliting Features for testing the corralation"
   ]
  },
  {
   "cell_type": "code",
   "execution_count": 16,
   "id": "573e3bba",
   "metadata": {
    "ExecuteTime": {
     "end_time": "2021-10-24T07:34:55.855250Z",
     "start_time": "2021-10-24T07:34:55.848171Z"
    }
   },
   "outputs": [
    {
     "data": {
      "text/html": [
       "<div>\n",
       "<style scoped>\n",
       "    .dataframe tbody tr th:only-of-type {\n",
       "        vertical-align: middle;\n",
       "    }\n",
       "\n",
       "    .dataframe tbody tr th {\n",
       "        vertical-align: top;\n",
       "    }\n",
       "\n",
       "    .dataframe thead th {\n",
       "        text-align: right;\n",
       "    }\n",
       "</style>\n",
       "<table border=\"1\" class=\"dataframe\">\n",
       "  <thead>\n",
       "    <tr style=\"text-align: right;\">\n",
       "      <th></th>\n",
       "      <th>Genre</th>\n",
       "      <th>Console</th>\n",
       "      <th>Rating</th>\n",
       "      <th>Global_Sales</th>\n",
       "      <th>Critic_Count</th>\n",
       "      <th>User_Count</th>\n",
       "      <th>Release Date</th>\n",
       "      <th>Score</th>\n",
       "    </tr>\n",
       "  </thead>\n",
       "  <tbody>\n",
       "    <tr>\n",
       "      <th>0</th>\n",
       "      <td>Platform</td>\n",
       "      <td>Wii</td>\n",
       "      <td>E</td>\n",
       "      <td>11350.0</td>\n",
       "      <td>73.0</td>\n",
       "      <td>2147.0</td>\n",
       "      <td>6</td>\n",
       "      <td>9.633333</td>\n",
       "    </tr>\n",
       "  </tbody>\n",
       "</table>\n",
       "</div>"
      ],
      "text/plain": [
       "      Genre Console Rating  Global_Sales  Critic_Count  User_Count  \\\n",
       "0  Platform     Wii      E       11350.0          73.0      2147.0   \n",
       "\n",
       "   Release Date     Score  \n",
       "0             6  9.633333  "
      ]
     },
     "execution_count": 16,
     "metadata": {},
     "output_type": "execute_result"
    }
   ],
   "source": [
    "new_df = new_df.loc[:, (new_df.columns != 'ID')]\n",
    "new_df = new_df.loc[:, (new_df.columns != 'Name')]\n",
    "new_df.head(1)"
   ]
  },
  {
   "cell_type": "code",
   "execution_count": 17,
   "id": "315e816b",
   "metadata": {
    "ExecuteTime": {
     "end_time": "2021-10-24T07:34:55.864062Z",
     "start_time": "2021-10-24T07:34:55.856283Z"
    }
   },
   "outputs": [
    {
     "data": {
      "text/html": [
       "<div>\n",
       "<style scoped>\n",
       "    .dataframe tbody tr th:only-of-type {\n",
       "        vertical-align: middle;\n",
       "    }\n",
       "\n",
       "    .dataframe tbody tr th {\n",
       "        vertical-align: top;\n",
       "    }\n",
       "\n",
       "    .dataframe thead th {\n",
       "        text-align: right;\n",
       "    }\n",
       "</style>\n",
       "<table border=\"1\" class=\"dataframe\">\n",
       "  <thead>\n",
       "    <tr style=\"text-align: right;\">\n",
       "      <th></th>\n",
       "      <th>Global_Sales</th>\n",
       "      <th>Critic_Count</th>\n",
       "      <th>User_Count</th>\n",
       "      <th>Release Date</th>\n",
       "      <th>Score</th>\n",
       "    </tr>\n",
       "  </thead>\n",
       "  <tbody>\n",
       "    <tr>\n",
       "      <th>Global_Sales</th>\n",
       "      <td>1.000000</td>\n",
       "      <td>0.351410</td>\n",
       "      <td>0.314267</td>\n",
       "      <td>-0.091466</td>\n",
       "      <td>0.237868</td>\n",
       "    </tr>\n",
       "    <tr>\n",
       "      <th>Critic_Count</th>\n",
       "      <td>0.351410</td>\n",
       "      <td>1.000000</td>\n",
       "      <td>0.476351</td>\n",
       "      <td>0.001368</td>\n",
       "      <td>0.506399</td>\n",
       "    </tr>\n",
       "    <tr>\n",
       "      <th>User_Count</th>\n",
       "      <td>0.314267</td>\n",
       "      <td>0.476351</td>\n",
       "      <td>1.000000</td>\n",
       "      <td>0.017446</td>\n",
       "      <td>0.364064</td>\n",
       "    </tr>\n",
       "    <tr>\n",
       "      <th>Release Date</th>\n",
       "      <td>-0.091466</td>\n",
       "      <td>0.001368</td>\n",
       "      <td>0.017446</td>\n",
       "      <td>1.000000</td>\n",
       "      <td>-0.128027</td>\n",
       "    </tr>\n",
       "    <tr>\n",
       "      <th>Score</th>\n",
       "      <td>0.237868</td>\n",
       "      <td>0.506399</td>\n",
       "      <td>0.364064</td>\n",
       "      <td>-0.128027</td>\n",
       "      <td>1.000000</td>\n",
       "    </tr>\n",
       "  </tbody>\n",
       "</table>\n",
       "</div>"
      ],
      "text/plain": [
       "              Global_Sales  Critic_Count  User_Count  Release Date     Score\n",
       "Global_Sales      1.000000      0.351410    0.314267     -0.091466  0.237868\n",
       "Critic_Count      0.351410      1.000000    0.476351      0.001368  0.506399\n",
       "User_Count        0.314267      0.476351    1.000000      0.017446  0.364064\n",
       "Release Date     -0.091466      0.001368    0.017446      1.000000 -0.128027\n",
       "Score             0.237868      0.506399    0.364064     -0.128027  1.000000"
      ]
     },
     "execution_count": 17,
     "metadata": {},
     "output_type": "execute_result"
    }
   ],
   "source": [
    "new_df.corr()"
   ]
  },
  {
   "cell_type": "code",
   "execution_count": 18,
   "id": "d6e8852f",
   "metadata": {
    "ExecuteTime": {
     "end_time": "2021-10-24T07:34:57.955948Z",
     "start_time": "2021-10-24T07:34:55.864924Z"
    }
   },
   "outputs": [
    {
     "data": {
      "text/plain": [
       "<seaborn.axisgrid.PairGrid at 0x7fdeabf84910>"
      ]
     },
     "execution_count": 18,
     "metadata": {},
     "output_type": "execute_result"
    },
    {
     "data": {
      "image/png": "[encoded data removed]",
      "text/plain": [
       "<Figure size 900x900 with 30 Axes>"
      ]
     },
     "metadata": {},
     "output_type": "display_data"
    }
   ],
   "source": [
    "sns.pairplot(new_df)"
   ]
  },
  {
   "cell_type": "code",
   "execution_count": 19,
   "id": "9e4bab5d",
   "metadata": {
    "ExecuteTime": {
     "end_time": "2021-10-24T07:34:57.962755Z",
     "start_time": "2021-10-24T07:34:57.956901Z"
    }
   },
   "outputs": [
    {
     "data": {
      "text/html": [
       "<div>\n",
       "<style scoped>\n",
       "    .dataframe tbody tr th:only-of-type {\n",
       "        vertical-align: middle;\n",
       "    }\n",
       "\n",
       "    .dataframe tbody tr th {\n",
       "        vertical-align: top;\n",
       "    }\n",
       "\n",
       "    .dataframe thead th {\n",
       "        text-align: right;\n",
       "    }\n",
       "</style>\n",
       "<table border=\"1\" class=\"dataframe\">\n",
       "  <thead>\n",
       "    <tr style=\"text-align: right;\">\n",
       "      <th></th>\n",
       "      <th>Genre</th>\n",
       "      <th>Console</th>\n",
       "      <th>Rating</th>\n",
       "      <th>Global_Sales</th>\n",
       "      <th>Critic_Count</th>\n",
       "      <th>User_Count</th>\n",
       "      <th>Release Date</th>\n",
       "      <th>Score</th>\n",
       "    </tr>\n",
       "  </thead>\n",
       "  <tbody>\n",
       "    <tr>\n",
       "      <th>0</th>\n",
       "      <td>Platform</td>\n",
       "      <td>Wii</td>\n",
       "      <td>E</td>\n",
       "      <td>11350.0</td>\n",
       "      <td>73.0</td>\n",
       "      <td>2147.0</td>\n",
       "      <td>6</td>\n",
       "      <td>9.633333</td>\n",
       "    </tr>\n",
       "  </tbody>\n",
       "</table>\n",
       "</div>"
      ],
      "text/plain": [
       "      Genre Console Rating  Global_Sales  Critic_Count  User_Count  \\\n",
       "0  Platform     Wii      E       11350.0          73.0      2147.0   \n",
       "\n",
       "   Release Date     Score  \n",
       "0             6  9.633333  "
      ]
     },
     "execution_count": 19,
     "metadata": {},
     "output_type": "execute_result"
    }
   ],
   "source": [
    "new_df.head(1)"
   ]
  },
  {
   "cell_type": "code",
   "execution_count": 20,
   "id": "fbe16f15",
   "metadata": {
    "ExecuteTime": {
     "end_time": "2021-10-24T07:34:57.982052Z",
     "start_time": "2021-10-24T07:34:57.963734Z"
    }
   },
   "outputs": [],
   "source": [
    "big_new_df = new_df.copy()\n",
    "\n",
    "big_new_df = big_new_df.loc[:, (big_new_df.columns != 'Genre')]\n",
    "big_new_df = big_new_df.loc[:, (big_new_df.columns != 'Console')]\n",
    "big_new_df = big_new_df.loc[:, (big_new_df.columns != 'Rating')]\n",
    "\n",
    "big_new_df_Genre1 = pd.get_dummies(new_df['Genre'], columns=['Genre'])\n",
    "big_new_df_Genre = pd.concat([big_new_df, big_new_df_Genre1], axis=1)\n",
    "\n",
    "big_new_df_Rating1 = pd.get_dummies(new_df['Rating'], columns=['Rating'])\n",
    "big_new_df_Rating = pd.concat([big_new_df, big_new_df_Rating1], axis=1)\n",
    "\n",
    "\n",
    "big_new_df_Console1 = pd.get_dummies(new_df['Console'], columns=['Console'])\n",
    "big_new_df_Console = pd.concat([big_new_df, big_new_df_Console1], axis=1)\n",
    "\n",
    "\n",
    "big_new_df_Genre_Console1 = pd.get_dummies(new_df[['Genre','Console']], columns=['Genre','Console'])\n",
    "big_new_df_Genre_Console = pd.concat([big_new_df, big_new_df_Genre_Console1], axis=1)\n",
    "\n",
    "\n",
    "big_new_df_Genre_Rating1 = pd.get_dummies(new_df[['Genre','Rating']], columns=['Genre','Rating'])\n",
    "big_new_df_Genre_Rating = pd.concat([big_new_df, big_new_df_Genre_Rating1], axis=1)\n",
    "\n",
    "\n",
    "big_new_df_Console_Rating1 = pd.get_dummies(new_df[['Console','Rating']], columns=['Console','Rating'])\n",
    "big_new_df_Console_Rating = pd.concat([big_new_df, big_new_df_Console_Rating1], axis=1)\n",
    "\n",
    "\n",
    "big_new_df_Genre_Console_Rating = pd.get_dummies(new_df, columns=['Genre','Console','Rating'])\n",
    "\n",
    "#big_new_df = new_df.copy()\n"
   ]
  },
  {
   "cell_type": "code",
   "execution_count": 21,
   "id": "66968b60",
   "metadata": {
    "ExecuteTime": {
     "end_time": "2021-10-24T07:34:57.991112Z",
     "start_time": "2021-10-24T07:34:57.983228Z"
    }
   },
   "outputs": [
    {
     "name": "stdout",
     "output_type": "stream",
     "text": [
      "<class 'pandas.core.frame.DataFrame'>\n",
      "Int64Index: 399 entries, 0 to 399\n",
      "Data columns (total 5 columns):\n",
      " #   Column        Non-Null Count  Dtype  \n",
      "---  ------        --------------  -----  \n",
      " 0   Global_Sales  399 non-null    float64\n",
      " 1   Critic_Count  399 non-null    float64\n",
      " 2   User_Count    399 non-null    float64\n",
      " 3   Release Date  399 non-null    int64  \n",
      " 4   Score         399 non-null    float64\n",
      "dtypes: float64(4), int64(1)\n",
      "memory usage: 18.7 KB\n"
     ]
    }
   ],
   "source": [
    "big_new_df.info()"
   ]
  },
  {
   "cell_type": "code",
   "execution_count": 22,
   "id": "2702c0a4",
   "metadata": {
    "ExecuteTime": {
     "end_time": "2021-10-24T07:34:58.044800Z",
     "start_time": "2021-10-24T07:34:57.994721Z"
    }
   },
   "outputs": [
    {
     "data": {
      "text/plain": [
       "<AxesSubplot:ylabel='Critic_Count'>"
      ]
     },
     "execution_count": 22,
     "metadata": {},
     "output_type": "execute_result"
    },
    {
     "data": {
      "image/png": "[encoded data removed]",
      "text/plain": [
       "<Figure size 432x288 with 1 Axes>"
      ]
     },
     "metadata": {},
     "output_type": "display_data"
    }
   ],
   "source": [
    "sns.boxplot(y=big_new_df['Critic_Count'])"
   ]
  },
  {
   "cell_type": "markdown",
   "id": "dd310b40",
   "metadata": {},
   "source": [
    "## Creating Models"
   ]
  },
  {
   "cell_type": "code",
   "execution_count": 23,
   "id": "071b1084",
   "metadata": {
    "ExecuteTime": {
     "end_time": "2021-10-24T07:34:58.049457Z",
     "start_time": "2021-10-24T07:34:58.046357Z"
    },
    "code_folding": []
   },
   "outputs": [],
   "source": [
    "def linear_regression_score(X_train, y_train, X_test, y_test):\n",
    "    lr = LinearRegression()\n",
    "    lr.fit(X_train, y_train)\n",
    "    r2 = lr.score(X_test, y_test)\n",
    "    return r2\n",
    "\n",
    "def lasso_score(X_train, y_train, X_test, y_test):\n",
    "    clf = linear_model.Lasso(alpha=0.1)\n",
    "    clf.fit(X_train, y_train)\n",
    "    r2 = clf.score(X_test, y_test)\n",
    "    return r2\n",
    "    \n",
    "def riggid_score(X_train, y_train, X_test, y_test):\n",
    "    clf = Ridge(alpha=1.0)\n",
    "    clf.fit(X_train, y_train)\n",
    "    r2 = clf.score(X_test, y_test)\n",
    "    return r2\n"
   ]
  },
  {
   "cell_type": "markdown",
   "id": "6921449f",
   "metadata": {},
   "source": [
    "### Find the $R^2$ score for all models"
   ]
  },
  {
   "cell_type": "code",
   "execution_count": 24,
   "id": "52c184f2",
   "metadata": {
    "ExecuteTime": {
     "end_time": "2021-10-24T07:34:58.053149Z",
     "start_time": "2021-10-24T07:34:58.050441Z"
    }
   },
   "outputs": [],
   "source": [
    "def find_scores(df, target:str):\n",
    "    df_X = df[df.columns.difference([target])]\n",
    "    df_y = df[target]\n",
    "    X_train, X_test, y_train, y_test = train_test_split(df_X, df_y, test_size=0.33, random_state=1024 ,shuffle=True) \n",
    "    \n",
    "    linear_score = linear_regression_score(X_train, y_train, X_test, y_test)\n",
    "    lassov_score = lasso_score(X_train, y_train, X_test, y_test)\n",
    "    riggidv_score = riggid_score(X_train, y_train, X_test, y_test)    \n",
    "    return {'Linear Score':linear_score,'Lasso Score':lassov_score,'Ridge Score':riggidv_score}\n"
   ]
  },
  {
   "cell_type": "code",
   "execution_count": 25,
   "id": "2d2e96a7",
   "metadata": {
    "ExecuteTime": {
     "end_time": "2021-10-24T07:34:58.181827Z",
     "start_time": "2021-10-24T07:34:58.054025Z"
    }
   },
   "outputs": [
    {
     "name": "stderr",
     "output_type": "stream",
     "text": [
      "/Users/ali/opt/anaconda3/lib/python3.8/site-packages/sklearn/linear_model/_coordinate_descent.py:530: ConvergenceWarning: Objective did not converge. You might want to increase the number of iterations. Duality gap: 76743531.64484072, tolerance: 388342.37850187265\n",
      "  model = cd_fast.enet_coordinate_descent(\n",
      "/Users/ali/opt/anaconda3/lib/python3.8/site-packages/sklearn/linear_model/_coordinate_descent.py:530: ConvergenceWarning: Objective did not converge. You might want to increase the number of iterations. Duality gap: 68024981.39077759, tolerance: 388342.37850187265\n",
      "  model = cd_fast.enet_coordinate_descent(\n",
      "/Users/ali/opt/anaconda3/lib/python3.8/site-packages/sklearn/linear_model/_coordinate_descent.py:530: ConvergenceWarning: Objective did not converge. You might want to increase the number of iterations. Duality gap: 70046601.9513278, tolerance: 388342.37850187265\n",
      "  model = cd_fast.enet_coordinate_descent(\n"
     ]
    }
   ],
   "source": [
    "a = pd.DataFrame(\n",
    "    {\n",
    "        'No Categorical':find_scores(big_new_df, 'Global_Sales'),\n",
    "        'Genre':find_scores(big_new_df_Genre, 'Global_Sales'),\n",
    "        'Console':find_scores(big_new_df_Console, 'Global_Sales'),\n",
    "        'Rating':find_scores(big_new_df_Rating, 'Global_Sales'),\n",
    "        'Console & Rating':find_scores(big_new_df_Console_Rating, 'Global_Sales'),\n",
    "        'Genre & Console':find_scores(big_new_df_Genre_Console, 'Global_Sales'),\n",
    "        'Genre & Rating':find_scores(big_new_df_Genre_Rating, 'Global_Sales'),\n",
    "        'All Categorical':find_scores(big_new_df_Genre_Console_Rating, 'Global_Sales')\n",
    "    }\n",
    ")"
   ]
  },
  {
   "cell_type": "code",
   "execution_count": 26,
   "id": "5e8faa5d",
   "metadata": {
    "ExecuteTime": {
     "end_time": "2021-10-24T07:34:58.188751Z",
     "start_time": "2021-10-24T07:34:58.183173Z"
    }
   },
   "outputs": [
    {
     "data": {
      "text/html": [
       "<div>\n",
       "<style scoped>\n",
       "    .dataframe tbody tr th:only-of-type {\n",
       "        vertical-align: middle;\n",
       "    }\n",
       "\n",
       "    .dataframe tbody tr th {\n",
       "        vertical-align: top;\n",
       "    }\n",
       "\n",
       "    .dataframe thead th {\n",
       "        text-align: right;\n",
       "    }\n",
       "</style>\n",
       "<table border=\"1\" class=\"dataframe\">\n",
       "  <thead>\n",
       "    <tr style=\"text-align: right;\">\n",
       "      <th></th>\n",
       "      <th>Linear Score</th>\n",
       "      <th>Lasso Score</th>\n",
       "      <th>Ridge Score</th>\n",
       "    </tr>\n",
       "  </thead>\n",
       "  <tbody>\n",
       "    <tr>\n",
       "      <th>No Categorical</th>\n",
       "      <td>0.172062</td>\n",
       "      <td>0.172069</td>\n",
       "      <td>0.172088</td>\n",
       "    </tr>\n",
       "    <tr>\n",
       "      <th>Genre</th>\n",
       "      <td>0.160681</td>\n",
       "      <td>0.160806</td>\n",
       "      <td>0.163956</td>\n",
       "    </tr>\n",
       "    <tr>\n",
       "      <th>Console</th>\n",
       "      <td>0.242307</td>\n",
       "      <td>0.242381</td>\n",
       "      <td>0.244139</td>\n",
       "    </tr>\n",
       "    <tr>\n",
       "      <th>Rating</th>\n",
       "      <td>0.240552</td>\n",
       "      <td>0.240547</td>\n",
       "      <td>0.240355</td>\n",
       "    </tr>\n",
       "    <tr>\n",
       "      <th>Console &amp; Rating</th>\n",
       "      <td>0.302434</td>\n",
       "      <td>0.302504</td>\n",
       "      <td>0.304803</td>\n",
       "    </tr>\n",
       "    <tr>\n",
       "      <th>Genre &amp; Console</th>\n",
       "      <td>0.221979</td>\n",
       "      <td>0.222290</td>\n",
       "      <td>0.233919</td>\n",
       "    </tr>\n",
       "    <tr>\n",
       "      <th>Genre &amp; Rating</th>\n",
       "      <td>0.193233</td>\n",
       "      <td>0.193353</td>\n",
       "      <td>0.198735</td>\n",
       "    </tr>\n",
       "    <tr>\n",
       "      <th>All Categorical</th>\n",
       "      <td>0.236037</td>\n",
       "      <td>0.236593</td>\n",
       "      <td>0.253576</td>\n",
       "    </tr>\n",
       "  </tbody>\n",
       "</table>\n",
       "</div>"
      ],
      "text/plain": [
       "                  Linear Score  Lasso Score  Ridge Score\n",
       "No Categorical        0.172062     0.172069     0.172088\n",
       "Genre                 0.160681     0.160806     0.163956\n",
       "Console               0.242307     0.242381     0.244139\n",
       "Rating                0.240552     0.240547     0.240355\n",
       "Console & Rating      0.302434     0.302504     0.304803\n",
       "Genre & Console       0.221979     0.222290     0.233919\n",
       "Genre & Rating        0.193233     0.193353     0.198735\n",
       "All Categorical       0.236037     0.236593     0.253576"
      ]
     },
     "execution_count": 26,
     "metadata": {},
     "output_type": "execute_result"
    }
   ],
   "source": [
    "a.T"
   ]
  },
  {
   "cell_type": "code",
   "execution_count": 27,
   "id": "1df6ed13",
   "metadata": {
    "ExecuteTime": {
     "end_time": "2021-10-24T07:34:58.195616Z",
     "start_time": "2021-10-24T07:34:58.190267Z"
    }
   },
   "outputs": [
    {
     "data": {
      "text/html": [
       "<div>\n",
       "<style scoped>\n",
       "    .dataframe tbody tr th:only-of-type {\n",
       "        vertical-align: middle;\n",
       "    }\n",
       "\n",
       "    .dataframe tbody tr th {\n",
       "        vertical-align: top;\n",
       "    }\n",
       "\n",
       "    .dataframe thead th {\n",
       "        text-align: right;\n",
       "    }\n",
       "</style>\n",
       "<table border=\"1\" class=\"dataframe\">\n",
       "  <thead>\n",
       "    <tr style=\"text-align: right;\">\n",
       "      <th></th>\n",
       "      <th>Global_Sales</th>\n",
       "      <th>Critic_Count</th>\n",
       "      <th>User_Count</th>\n",
       "      <th>Release Date</th>\n",
       "      <th>Score</th>\n",
       "    </tr>\n",
       "  </thead>\n",
       "  <tbody>\n",
       "    <tr>\n",
       "      <th>0</th>\n",
       "      <td>11350.0</td>\n",
       "      <td>73.0</td>\n",
       "      <td>2147.0</td>\n",
       "      <td>6</td>\n",
       "      <td>9.633333</td>\n",
       "    </tr>\n",
       "  </tbody>\n",
       "</table>\n",
       "</div>"
      ],
      "text/plain": [
       "   Global_Sales  Critic_Count  User_Count  Release Date     Score\n",
       "0       11350.0          73.0      2147.0             6  9.633333"
      ]
     },
     "execution_count": 27,
     "metadata": {},
     "output_type": "execute_result"
    }
   ],
   "source": [
    "big_new_df.head(1)"
   ]
  },
  {
   "cell_type": "code",
   "execution_count": 28,
   "id": "fd5b4a07",
   "metadata": {
    "ExecuteTime": {
     "end_time": "2021-10-24T07:34:58.200216Z",
     "start_time": "2021-10-24T07:34:58.196868Z"
    }
   },
   "outputs": [
    {
     "data": {
      "text/plain": [
       "Index(['No Categorical', 'Genre', 'Console', 'Rating', 'Console & Rating',\n",
       "       'Genre & Console', 'Genre & Rating', 'All Categorical'],\n",
       "      dtype='object')"
      ]
     },
     "execution_count": 28,
     "metadata": {},
     "output_type": "execute_result"
    }
   ],
   "source": [
    "a.keys()"
   ]
  },
  {
   "cell_type": "code",
   "execution_count": 29,
   "id": "0b072e40",
   "metadata": {
    "ExecuteTime": {
     "end_time": "2021-10-24T07:34:58.204746Z",
     "start_time": "2021-10-24T07:34:58.201841Z"
    }
   },
   "outputs": [
    {
     "data": {
      "text/plain": [
       "Index(['Global_Sales', 'Critic_Count', 'User_Count', 'Release Date', 'Score',\n",
       "       'Genre_Action', 'Genre_Action-Adventure', 'Genre_Adventure',\n",
       "       'Genre_Fighting', 'Genre_Misc', 'Genre_Music', 'Genre_Party',\n",
       "       'Genre_Platform', 'Genre_Puzzle', 'Genre_Racing', 'Genre_Role-Playing',\n",
       "       'Genre_Shooter', 'Genre_Simulation', 'Genre_Sports', 'Genre_Strategy',\n",
       "       'Rating_E', 'Rating_E10+', 'Rating_M', 'Rating_T'],\n",
       "      dtype='object')"
      ]
     },
     "execution_count": 29,
     "metadata": {},
     "output_type": "execute_result"
    }
   ],
   "source": [
    "big_new_df_Genre_Rating.columns"
   ]
  },
  {
   "cell_type": "code",
   "execution_count": null,
   "id": "7050e05f",
   "metadata": {},
   "outputs": [],
   "source": []
  },
  {
   "cell_type": "code",
   "execution_count": 30,
   "id": "14118d29",
   "metadata": {
    "ExecuteTime": {
     "end_time": "2021-10-24T07:34:58.213892Z",
     "start_time": "2021-10-24T07:34:58.205746Z"
    }
   },
   "outputs": [
    {
     "data": {
      "text/plain": [
       "12559.124227410937"
      ]
     },
     "execution_count": 30,
     "metadata": {},
     "output_type": "execute_result"
    }
   ],
   "source": [
    "df_X = big_new_df_Genre_Rating[big_new_df_Genre_Rating.columns.difference(['Global_Sales'])]\n",
    "df_y = big_new_df_Genre_Rating['Global_Sales']\n",
    "X_train, X_test, y_train, y_test = train_test_split(df_X, df_y, test_size=0.33, random_state=1024 ,shuffle=True)\n",
    "clf = Ridge(alpha=0.6)\n",
    "clf.fit(X_train, y_train)\n",
    "clf.predict((np.array([0,0,22,9.9,1,0,0,0,0,0,0,0,0,0,0,0,0,0,0,0,0,0,1])).reshape(1, -1))[0]"
   ]
  },
  {
   "cell_type": "code",
   "execution_count": null,
   "id": "3ebc2201",
   "metadata": {},
   "outputs": [],
   "source": []
  },
  {
   "cell_type": "code",
   "execution_count": null,
   "id": "08f89883",
   "metadata": {},
   "outputs": [],
   "source": []
  }
 ],
 "metadata": {
  "kernelspec": {
   "display_name": "Python 3.8.8 64-bit ('base': conda)",
   "language": "python",
   "name": "python388jvsc74a57bd011ef33b601587caca72001ca459a3179111f6f034e554293e5e06d6e923ce863"
  },
  "language_info": {
   "codemirror_mode": {
    "name": "ipython",
    "version": 3
   },
   "file_extension": ".py",
   "mimetype": "text/x-python",
   "name": "python",
   "nbconvert_exporter": "python",
   "pygments_lexer": "ipython3",
   "version": "3.8.8"
  },
  "toc": {
   "base_numbering": 1,
   "nav_menu": {},
   "number_sections": false,
   "sideBar": true,
   "skip_h1_title": false,
   "title_cell": "Table of Contents",
   "title_sidebar": "Contents",
   "toc_cell": false,
   "toc_position": {
    "height": "calc(100% - 180px)",
    "left": "10px",
    "top": "150px",
    "width": "261.818px"
   },
   "toc_section_display": true,
   "toc_window_display": false
  }
 },
 "nbformat": 4,
 "nbformat_minor": 5
}
