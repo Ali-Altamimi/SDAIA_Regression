{
 "cells": [
  {
   "cell_type": "code",
   "execution_count": 1,
   "id": "e3241cab",
   "metadata": {
    "ExecuteTime": {
     "end_time": "2021-10-14T22:02:42.168076Z",
     "start_time": "2021-10-14T22:02:41.156235Z"
    }
   },
   "outputs": [],
   "source": [
    "import requests\n",
    "from bs4 import BeautifulSoup\n",
    "from rich import print\n",
    "import pandas as pd\n",
    "from rich.progress import track\n",
    "import re\n",
    "import numpy as np"
   ]
  },
  {
   "cell_type": "code",
   "execution_count": 2,
   "id": "8b645093",
   "metadata": {
    "ExecuteTime": {
     "end_time": "2021-10-14T22:02:42.171658Z",
     "start_time": "2021-10-14T22:02:42.170123Z"
    }
   },
   "outputs": [],
   "source": [
    "URL = 'https://www.imdb.com/search/title/?title_type=video_game&sort=user_rating,desc'"
   ]
  },
  {
   "cell_type": "code",
   "execution_count": 3,
   "id": "020aca86",
   "metadata": {
    "ExecuteTime": {
     "end_time": "2021-10-14T22:02:42.174768Z",
     "start_time": "2021-10-14T22:02:42.172791Z"
    }
   },
   "outputs": [],
   "source": [
    "def request_url(url:str)->BeautifulSoup:\n",
    "    \"\"\"\n",
    "    Takes website URL and return soup object\n",
    "    \"\"\"\n",
    "    headers = {'User-Agent':'Mozilla/5.0 (Macintosh; Intel Mac OS X 10_11_2) AppleWebKit/601.3.9 (KHTML, like Gecko) Version/9.0.2 Safari/601.3.9'}\n",
    "    response = requests.get(url, headers=headers)\n",
    "    soup = BeautifulSoup(response.content, \"html5lib\")\n",
    "    return soup"
   ]
  },
  {
   "cell_type": "code",
   "execution_count": 4,
   "id": "5a8ce097",
   "metadata": {
    "ExecuteTime": {
     "end_time": "2021-10-14T22:02:44.863057Z",
     "start_time": "2021-10-14T22:02:42.175695Z"
    }
   },
   "outputs": [],
   "source": [
    "top_games_page = request_url(URL)"
   ]
  },
  {
   "cell_type": "code",
   "execution_count": 5,
   "id": "8f3c96e3",
   "metadata": {
    "ExecuteTime": {
     "end_time": "2021-10-14T22:02:44.869946Z",
     "start_time": "2021-10-14T22:02:44.864526Z"
    }
   },
   "outputs": [],
   "source": [
    "def get_data(soap:BeautifulSoup=None)->list:\n",
    "    \"\"\"\n",
    "Parameters\n",
    "----------\n",
    "soap : a bs4.BeautifulSoup\n",
    "\n",
    "Returns\n",
    "----------\n",
    "List\n",
    "    \"\"\"\n",
    "    lst = list()\n",
    "    games = soap.find('div', class_='lister-list').find_all('div', class_='lister-item-content')\n",
    "    for game in games:\n",
    "        dic = dict()\n",
    "        try:\n",
    "            dic['Title'] = game.find('a').text.strip()\n",
    "        except AttributeError:\n",
    "            dic['Title'] = np.nan\n",
    "        try:\n",
    "            dic['Year'] = int(re.findall('\\d+', game.find('h3').find('span', class_='lister-item-year text-muted unbold').text)[0])\n",
    "        except (AttributeError, IndexError) as e:\n",
    "            dic['Year'] = np.nan\n",
    "        try:\n",
    "            dic['Genre'] = game.find('span', class_='genre').text.strip().split(', ')\n",
    "        except AttributeError:\n",
    "            dic['Genre'] = np.nan\n",
    "        try:\n",
    "            dic['Rating'] = float(game.find('div', class_='ratings-bar').find('strong').text)\n",
    "        except AttributeError:\n",
    "            dic['Rating'] = np.nan  \n",
    "        try:\n",
    "            dic['Director'] = game.find_all('p')[2].a.text\n",
    "        except AttributeError:\n",
    "            dic['Director'] = np.nan\n",
    "        try:\n",
    "            dic['Votes'] = int(game.find('span', attrs={'name':'nv'}).text.strip().replace(',', ''))\n",
    "        except AttributeError:\n",
    "            dic['Votes'] = np.nan\n",
    "        lst.append(dic)\n",
    "    return lst\n",
    "# .Book.str.split(\",\")).explode('Book')"
   ]
  },
  {
   "cell_type": "code",
   "execution_count": 6,
   "id": "285374f0",
   "metadata": {
    "ExecuteTime": {
     "end_time": "2021-10-14T22:02:44.878140Z",
     "start_time": "2021-10-14T22:02:44.870931Z"
    }
   },
   "outputs": [
    {
     "data": {
      "text/plain": [
       "'https://www.imdb.com/search/title/?title_type=video_game&sort=user_rating,desc/search/title/?title_type=video_game&sort=user_rating,desc&start=51&ref_=adv_nxt'"
      ]
     },
     "execution_count": 6,
     "metadata": {},
     "output_type": "execute_result"
    }
   ],
   "source": [
    "URL + top_games_page.find('div', class_='desc').find('a', class_='lister-page-next next-page')['href']"
   ]
  },
  {
   "cell_type": "code",
   "execution_count": 7,
   "id": "dd9b25ff",
   "metadata": {
    "ExecuteTime": {
     "end_time": "2021-10-14T22:14:21.097914Z",
     "start_time": "2021-10-14T22:02:44.880667Z"
    }
   },
   "outputs": [
    {
     "data": {
      "application/vnd.jupyter.widget-view+json": {
       "model_id": "35217a76f73943df95d7d81f30f8fee5",
       "version_major": 2,
       "version_minor": 0
      },
      "text/plain": [
       "Output()"
      ]
     },
     "metadata": {},
     "output_type": "display_data"
    }
   ],
   "source": [
    "df_list = list()\n",
    "for start in track(range(1, 9991, 50)):\n",
    "    soap_ = request_url(f'https://www.imdb.com/search/title/?title_type=video_game&sort=user_rating,desc&start={start}&ref_=adv_nxt')\n",
    "    df_list.append(get_data(soap_))\n",
    "# x.assign(Genre=x.Genre).explode('Genre')\n",
    "# type(x.Genre[0])"
   ]
  },
  {
   "cell_type": "code",
   "execution_count": 8,
   "id": "f5770204",
   "metadata": {
    "ExecuteTime": {
     "end_time": "2021-10-14T22:14:21.131708Z",
     "start_time": "2021-10-14T22:14:21.099348Z"
    }
   },
   "outputs": [
    {
     "data": {
      "text/html": [
       "<div>\n",
       "<style scoped>\n",
       "    .dataframe tbody tr th:only-of-type {\n",
       "        vertical-align: middle;\n",
       "    }\n",
       "\n",
       "    .dataframe tbody tr th {\n",
       "        vertical-align: top;\n",
       "    }\n",
       "\n",
       "    .dataframe thead th {\n",
       "        text-align: right;\n",
       "    }\n",
       "</style>\n",
       "<table border=\"1\" class=\"dataframe\">\n",
       "  <thead>\n",
       "    <tr style=\"text-align: right;\">\n",
       "      <th></th>\n",
       "      <th>Title</th>\n",
       "      <th>Year</th>\n",
       "      <th>Genre</th>\n",
       "      <th>Rating</th>\n",
       "      <th>Director</th>\n",
       "      <th>Votes</th>\n",
       "    </tr>\n",
       "  </thead>\n",
       "  <tbody>\n",
       "    <tr>\n",
       "      <th>0</th>\n",
       "      <td>Kingdom Hearts II</td>\n",
       "      <td>2005.0</td>\n",
       "      <td>[Action, Adventure, Fantasy]</td>\n",
       "      <td>9.3</td>\n",
       "      <td>Tetsuya Nomura</td>\n",
       "      <td>6914</td>\n",
       "    </tr>\n",
       "    <tr>\n",
       "      <th>1</th>\n",
       "      <td>Zeruda no densetsu: Kamigami no toraifôsu</td>\n",
       "      <td>1991.0</td>\n",
       "      <td>[Action, Adventure, Fantasy]</td>\n",
       "      <td>9.3</td>\n",
       "      <td>Takashi Tezuka</td>\n",
       "      <td>3149</td>\n",
       "    </tr>\n",
       "    <tr>\n",
       "      <th>2</th>\n",
       "      <td>The Secret of Monkey Island</td>\n",
       "      <td>1990.0</td>\n",
       "      <td>[Adventure, Comedy, Fantasy]</td>\n",
       "      <td>9.3</td>\n",
       "      <td>Ron Gilbert</td>\n",
       "      <td>2982</td>\n",
       "    </tr>\n",
       "    <tr>\n",
       "      <th>3</th>\n",
       "      <td>Super Mario World</td>\n",
       "      <td>1990.0</td>\n",
       "      <td>[Action, Adventure, Family]</td>\n",
       "      <td>9.3</td>\n",
       "      <td>Takashi Tezuka</td>\n",
       "      <td>4480</td>\n",
       "    </tr>\n",
       "    <tr>\n",
       "      <th>4</th>\n",
       "      <td>Spider-Man</td>\n",
       "      <td>2018.0</td>\n",
       "      <td>[Action, Adventure, Comedy]</td>\n",
       "      <td>9.2</td>\n",
       "      <td>Ryan Smith</td>\n",
       "      <td>16367</td>\n",
       "    </tr>\n",
       "    <tr>\n",
       "      <th>...</th>\n",
       "      <td>...</td>\n",
       "      <td>...</td>\n",
       "      <td>...</td>\n",
       "      <td>...</td>\n",
       "      <td>...</td>\n",
       "      <td>...</td>\n",
       "    </tr>\n",
       "    <tr>\n",
       "      <th>9944</th>\n",
       "      <td>Ninja Combat</td>\n",
       "      <td>1990.0</td>\n",
       "      <td>[Action, Fantasy]</td>\n",
       "      <td>6.2</td>\n",
       "      <td>Tsutomo Maruyama</td>\n",
       "      <td>19</td>\n",
       "    </tr>\n",
       "    <tr>\n",
       "      <th>9945</th>\n",
       "      <td>Ghostbusters</td>\n",
       "      <td>1986.0</td>\n",
       "      <td>[Action, Fantasy, Horror]</td>\n",
       "      <td>6.2</td>\n",
       "      <td>David Crane</td>\n",
       "      <td>377</td>\n",
       "    </tr>\n",
       "    <tr>\n",
       "      <th>9946</th>\n",
       "      <td>Dracula</td>\n",
       "      <td>1993.0</td>\n",
       "      <td>[Action, Fantasy, Horror]</td>\n",
       "      <td>6.2</td>\n",
       "      <td>Mike Simpson</td>\n",
       "      <td>31</td>\n",
       "    </tr>\n",
       "    <tr>\n",
       "      <th>9947</th>\n",
       "      <td>Might and Magic IX</td>\n",
       "      <td>2002.0</td>\n",
       "      <td>NaN</td>\n",
       "      <td>6.2</td>\n",
       "      <td>Dan Woren</td>\n",
       "      <td>38</td>\n",
       "    </tr>\n",
       "    <tr>\n",
       "      <th>9948</th>\n",
       "      <td>Blade II</td>\n",
       "      <td>2002.0</td>\n",
       "      <td>[Action, Adventure, Crime]</td>\n",
       "      <td>6.2</td>\n",
       "      <td>Tom Clark</td>\n",
       "      <td>90</td>\n",
       "    </tr>\n",
       "  </tbody>\n",
       "</table>\n",
       "<p>9949 rows × 6 columns</p>\n",
       "</div>"
      ],
      "text/plain": [
       "                                          Title    Year  \\\n",
       "0                             Kingdom Hearts II  2005.0   \n",
       "1     Zeruda no densetsu: Kamigami no toraifôsu  1991.0   \n",
       "2                   The Secret of Monkey Island  1990.0   \n",
       "3                             Super Mario World  1990.0   \n",
       "4                                    Spider-Man  2018.0   \n",
       "...                                         ...     ...   \n",
       "9944                               Ninja Combat  1990.0   \n",
       "9945                               Ghostbusters  1986.0   \n",
       "9946                                    Dracula  1993.0   \n",
       "9947                         Might and Magic IX  2002.0   \n",
       "9948                                   Blade II  2002.0   \n",
       "\n",
       "                             Genre  Rating          Director  Votes  \n",
       "0     [Action, Adventure, Fantasy]     9.3    Tetsuya Nomura   6914  \n",
       "1     [Action, Adventure, Fantasy]     9.3    Takashi Tezuka   3149  \n",
       "2     [Adventure, Comedy, Fantasy]     9.3       Ron Gilbert   2982  \n",
       "3      [Action, Adventure, Family]     9.3    Takashi Tezuka   4480  \n",
       "4      [Action, Adventure, Comedy]     9.2        Ryan Smith  16367  \n",
       "...                            ...     ...               ...    ...  \n",
       "9944             [Action, Fantasy]     6.2  Tsutomo Maruyama     19  \n",
       "9945     [Action, Fantasy, Horror]     6.2       David Crane    377  \n",
       "9946     [Action, Fantasy, Horror]     6.2      Mike Simpson     31  \n",
       "9947                           NaN     6.2         Dan Woren     38  \n",
       "9948    [Action, Adventure, Crime]     6.2         Tom Clark     90  \n",
       "\n",
       "[9949 rows x 6 columns]"
      ]
     },
     "execution_count": 8,
     "metadata": {},
     "output_type": "execute_result"
    }
   ],
   "source": [
    "df = pd.DataFrame([r for d in df_list for r in d])\n",
    "df"
   ]
  },
  {
   "cell_type": "code",
   "execution_count": 12,
   "id": "38328804",
   "metadata": {
    "ExecuteTime": {
     "end_time": "2021-10-14T22:16:40.416123Z",
     "start_time": "2021-10-14T22:16:40.332733Z"
    }
   },
   "outputs": [],
   "source": [
    "df.to_csv('data/imbd_games.csv')"
   ]
  },
  {
   "cell_type": "code",
   "execution_count": null,
   "id": "69f5d2ca",
   "metadata": {
    "ExecuteTime": {
     "end_time": "2021-10-14T22:14:21.249586Z",
     "start_time": "2021-10-14T22:02:41.157Z"
    }
   },
   "outputs": [],
   "source": [
    "df.assign(Genre=df.Genre).explode('Genre').reset_index(drop=True)"
   ]
  },
  {
   "cell_type": "code",
   "execution_count": null,
   "id": "c4f4ec94",
   "metadata": {},
   "outputs": [],
   "source": []
  }
 ],
 "metadata": {
  "kernelspec": {
   "display_name": "Python 3.8.8 64-bit ('base': conda)",
   "language": "python",
   "name": "python388jvsc74a57bd011ef33b601587caca72001ca459a3179111f6f034e554293e5e06d6e923ce863"
  },
  "language_info": {
   "codemirror_mode": {
    "name": "ipython",
    "version": 3
   },
   "file_extension": ".py",
   "mimetype": "text/x-python",
   "name": "python",
   "nbconvert_exporter": "python",
   "pygments_lexer": "ipython3",
   "version": "3.8.8"
  },
  "toc": {
   "base_numbering": 1,
   "nav_menu": {},
   "number_sections": true,
   "sideBar": true,
   "skip_h1_title": false,
   "title_cell": "Table of Contents",
   "title_sidebar": "Contents",
   "toc_cell": false,
   "toc_position": {},
   "toc_section_display": true,
   "toc_window_display": false
  }
 },
 "nbformat": 4,
 "nbformat_minor": 5
}
