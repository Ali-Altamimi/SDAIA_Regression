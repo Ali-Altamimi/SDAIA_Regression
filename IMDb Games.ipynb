{
 "cells": [
  {
   "cell_type": "code",
   "execution_count": 1,
   "id": "6d08369e",
   "metadata": {
    "ExecuteTime": {
     "end_time": "2021-10-14T19:13:38.797344Z",
     "start_time": "2021-10-14T19:13:37.917059Z"
    }
   },
   "outputs": [],
   "source": [
    "import requests\n",
    "from bs4 import BeautifulSoup\n",
    "from rich import print\n",
    "import pandas as pd\n",
    "from rich.progress import track"
   ]
  },
  {
   "cell_type": "code",
   "execution_count": null,
   "id": "acc8b8a5",
   "metadata": {},
   "outputs": [],
   "source": [
    "URL = 'https://www.imdb.com'"
   ]
  },
  {
   "cell_type": "code",
   "execution_count": null,
   "id": "79c56e7d",
   "metadata": {},
   "outputs": [],
   "source": [
    "def request_url(url:str)->BeautifulSoup:\n",
    "    \"\"\"\n",
    "    Takes website URL and return soup object\n",
    "    \"\"\"\n",
    "    headers = {'User-Agent':'Mozilla/5.0 (Macintosh; Intel Mac OS X 10_11_2) AppleWebKit/601.3.9 (KHTML, like Gecko) Version/9.0.2 Safari/601.3.9'}\n",
    "    response = requests.get(url, headers=headers)\n",
    "    soup = BeautifulSoup(response.content, \"html5lib\")\n",
    "    return soup"
   ]
  },
  {
   "cell_type": "code",
   "execution_count": null,
   "id": "779bbb45",
   "metadata": {},
   "outputs": [],
   "source": [
    "https://www.imdb.com/search/title/?title_type=video_game&sort=user_rating,desc"
   ]
  }
 ],
 "metadata": {
  "kernelspec": {
   "display_name": "Python 3.8.8 64-bit ('base': conda)",
   "language": "python",
   "name": "python388jvsc74a57bd011ef33b601587caca72001ca459a3179111f6f034e554293e5e06d6e923ce863"
  },
  "language_info": {
   "codemirror_mode": {
    "name": "ipython",
    "version": 3
   },
   "file_extension": ".py",
   "mimetype": "text/x-python",
   "name": "python",
   "nbconvert_exporter": "python",
   "pygments_lexer": "ipython3",
   "version": "3.8.8"
  },
  "toc": {
   "base_numbering": 1,
   "nav_menu": {},
   "number_sections": true,
   "sideBar": true,
   "skip_h1_title": false,
   "title_cell": "Table of Contents",
   "title_sidebar": "Contents",
   "toc_cell": false,
   "toc_position": {},
   "toc_section_display": true,
   "toc_window_display": false
  }
 },
 "nbformat": 4,
 "nbformat_minor": 5
}
